{
 "cells": [
  {
   "cell_type": "code",
   "execution_count": null,
   "id": "4882c177-cd43-4738-8afb-dca0d46e765e",
   "metadata": {},
   "outputs": [],
   "source": [
    "# 機械學習：文本分類"
   ]
  }
 ],
 "metadata": {
  "kernelspec": {
   "display_name": "Python 3 (ipykernel)",
   "language": "python",
   "name": "python3"
  },
  "language_info": {
   "codemirror_mode": {
    "name": "ipython",
    "version": 3
   },
   "file_extension": ".py",
   "mimetype": "text/x-python",
   "name": "python",
   "nbconvert_exporter": "python",
   "pygments_lexer": "ipython3",
   "version": "3.8.12"
  }
 },
 "nbformat": 4,
 "nbformat_minor": 5
}
