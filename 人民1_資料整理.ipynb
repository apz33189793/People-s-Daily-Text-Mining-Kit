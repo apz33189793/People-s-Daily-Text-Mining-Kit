{
 "cells": [
  {
   "cell_type": "markdown",
   "metadata": {},
   "source": [
    "# 人民日報_資料整理、擷取欄位、斷詞\n",
    "* 人民資料資料龐雜，首先以年度為單位，逐年整理成固定的關聯表式。\n",
    "* 萃取欄位（版次、作者、檔名、年度、類別等）、斷詞，存成 excel 檔。\n",
    "* 從1946至今，有斷詞與無斷詞之excel 檔案，分別放在 excel, jieba 兩個資料夾內。"
   ]
  },
  {
   "cell_type": "code",
   "execution_count": 6,
   "metadata": {},
   "outputs": [],
   "source": [
    "########################################################\n",
    "path='d:/My python/人民日報/'\n",
    "# 選擇年度\n",
    "year_doc=\"2003\""
   ]
  },
  {
   "cell_type": "markdown",
   "metadata": {},
   "source": [
    "# 讀取 xml 檔，分年度進行，將來整併"
   ]
  },
  {
   "cell_type": "code",
   "execution_count": 7,
   "metadata": {},
   "outputs": [],
   "source": [
    "import os\n",
    "import io\n",
    "import pandas as pd\n",
    "import re "
   ]
  },
  {
   "cell_type": "code",
   "execution_count": 8,
   "metadata": {},
   "outputs": [
    {
     "name": "stdout",
     "output_type": "stream",
     "text": [
      "d:\\My python\\人民日報\\人民日報_xml\n"
     ]
    }
   ],
   "source": [
    "## 到指定的目錄\n",
    "os.chdir(path+\"人民日報_xml/\")\n",
    "print (os.getcwd())"
   ]
  },
  {
   "cell_type": "code",
   "execution_count": 9,
   "metadata": {
    "scrolled": true
   },
   "outputs": [
    {
     "data": {
      "text/plain": [
       "['人民日報_1946.xml',\n",
       " '人民日報_1947.xml',\n",
       " '人民日報_1948.xml',\n",
       " '人民日報_1949.xml',\n",
       " '人民日報_1950.xml',\n",
       " '人民日報_1951.xml',\n",
       " '人民日報_1952.xml',\n",
       " '人民日報_1953.xml',\n",
       " '人民日報_1954.xml',\n",
       " '人民日報_1955.xml',\n",
       " '人民日報_1956.xml',\n",
       " '人民日報_1957.xml',\n",
       " '人民日報_1958.xml',\n",
       " '人民日報_1959.xml',\n",
       " '人民日報_1960.xml',\n",
       " '人民日報_1961.xml',\n",
       " '人民日報_1962.xml',\n",
       " '人民日報_1963.xml',\n",
       " '人民日報_1964.xml',\n",
       " '人民日報_1965.xml',\n",
       " '人民日報_1966.xml',\n",
       " '人民日報_1967.xml',\n",
       " '人民日報_1968.xml',\n",
       " '人民日報_1969.xml',\n",
       " '人民日報_1970.xml',\n",
       " '人民日報_1971.xml',\n",
       " '人民日報_1972.xml',\n",
       " '人民日報_1973.xml',\n",
       " '人民日報_1974.xml',\n",
       " '人民日報_1975.xml',\n",
       " '人民日報_1976.xml',\n",
       " '人民日報_1977.xml',\n",
       " '人民日報_1978.xml',\n",
       " '人民日報_1979.xml',\n",
       " '人民日報_1980.xml',\n",
       " '人民日報_1981.xml',\n",
       " '人民日報_1982.xml',\n",
       " '人民日報_1983.xml',\n",
       " '人民日報_1984.xml',\n",
       " '人民日報_1985.xml',\n",
       " '人民日報_1986.xml',\n",
       " '人民日報_1987.xml',\n",
       " '人民日報_1988.xml',\n",
       " '人民日報_1989.xml',\n",
       " '人民日報_1990.xml',\n",
       " '人民日報_1991.xml',\n",
       " '人民日報_1992.xml',\n",
       " '人民日報_1993.xml',\n",
       " '人民日報_1994.xml',\n",
       " '人民日報_1995.xml',\n",
       " '人民日報_1996.xml',\n",
       " '人民日報_1997.xml',\n",
       " '人民日報_1998.xml',\n",
       " '人民日報_1999.xml',\n",
       " '人民日報_2000.xml',\n",
       " '人民日報_2001.xml',\n",
       " '人民日報_2002.xml',\n",
       " '人民日報_2003.xml']"
      ]
     },
     "execution_count": 9,
     "metadata": {},
     "output_type": "execute_result"
    }
   ],
   "source": [
    "# 到資料夾 d:/My python/corpus/president\"\n",
    "os.chdir(path+\"人民日報_xml/\")\n",
    "FileNames = []\n",
    "for files in os.listdir(\".\"):\n",
    "    # 印出所有 .txt 的檔名\n",
    "    if files.endswith(\".xml\"):\n",
    "        FileNames.append(files)        \n",
    "FileNames"
   ]
  },
  {
   "cell_type": "code",
   "execution_count": 10,
   "metadata": {
    "scrolled": true
   },
   "outputs": [
    {
     "name": "stdout",
     "output_type": "stream",
     "text": [
      "<?xml version=\"1.0\" encoding=\"utf-8\"?>\n",
      "<ThdlPrototypeExport><documents><document filename=\"人民日報_20030110_1_1298178\"><corpus>人民日报1946-2003资料库</corpus><date_not_before>200301</date_not_before><compilation_vol>第1版的新闻</compilation_vol><doc_content>\n",
      "\t\t第1版(要闻)\n",
      "专栏：特快专递\n",
      "\n",
      "　　北京奥组委聘用工作人员\n",
      "    十一个职位因应聘人员条件不够空缺\n",
      "　　本报北京1月9日讯  记者阎晓明报道：今天，经北京奥组委执委会研究通过，45名应聘人员被正式聘用为北京奥组委工作人员。这是北京奥组委公开向社会招聘的首批人员。\n",
      "　　从2002年10月17日北京奥组委公开招聘信息，到报名截止日，共有3691人报名。据北京奥组委人事部介绍，最后录用的\n",
      "　　45名人员经过英语考试、综合考\n",
      "　　试、专业面试和考察考核等几个招聘程序。他们中多数人都有多个岗位工作经历，英语水平较高，知识层次较高，专业结构合理。45名人选中，大学学历的10名，占\n",
      "　　22.2％，研究生学历的35名（其中\n",
      "　　博士研究生2名），占77.8％；北京地区的37名，占\n",
      "　　82.2％，海外留学人员7名，占15.6％。\n",
      "　　这次面向社会公开招聘的56个职位，有11个职位因应聘人员没有达到岗位规定的条件而空缺，今后将继续面向社会进行公开招聘。\t\t</doc_content><xml_metadata/></document><document filename=\"人民日報_20030110_1_1298179\"><corpus>人民日报1946-2003资料库</corpus><date_not_before>200301</date_not_before><compilation_vol>第1版的新闻</compilation_vol><doc_content>\n",
      "\t\t第1版(要闻)\n",
      "专栏：经济形势好  新年传佳音\n",
      "\n",
      "　　烟草行业实现税利一千四百亿\n",
      "    本报北京1月9日讯  记者王彦田报道：2002年，烟草行业在连续保持多年全国行业税利第一后，生产经营又创出佳绩。全年共实现工商税利1400亿元，比上年增长200亿元，创出了本行业历史最好成绩。\n",
      "　　去年我国烟草行业全年累计生产卷烟17224.6亿支，只比上年增加1.3％，累计批发销售卷烟17492.6亿支，比上年增长了2.9％。去年全国种植烤烟面积为1445万亩，与上年持平。行业内产品结构得到进一步调整，重点企业和名优卷烟的发展空间不断扩大。行业内36家重点企业实现税利比重占到了全国卷烟工业税利总额的80％。\t\t</doc_content><xml_metadata/></document><document filename=\"人民日報_20030110_1_1298180\"><corpus>人民日报1946-2003资料库</corpus><date_not_before>200301</date_not_before><compilation_vol>第1版的新闻</compilation_vol><doc_content>\n",
      "\t\t第1版(要闻)\n",
      "专栏：今日谈\n",
      "\n",
      "　　学位授予不能含糊\n",
      "　　王斌\n",
      "　　有记者从湖南省学位办获悉，因所指导的学位论文在抽检中被评为不合格，13名高校硕士生导师受到停招研究生1至3年的处罚。这一举措对于完善学位授予制度，克服教学和学术研究中的不良风气，大有益处。\n",
      "　　学位论文水平的高低，是能否授予学位的基本条件。湖南学位办严格把关，做到对学位论文质量进行公平的监督与检测，检测结果与导师任职资格发生直接联系，很值得称道。抽样检测和跨省区专家评议，程序科学，标准公平，令人心服口服。这件事给人们的启示是，靠制度，很多看似难办的事情并不难；有惩戒，很多弊端可以消除。学位授予如此，其他事情也有相通的道理。\t\t</doc_content><xml_metadata/></document><document filename=\"人民日報_20030110_1_1298181\"><corpus>人民日报1946-2003资料库</corpus><date_not_before>200301</date_not_before><compilation_vol>第1版的新闻</compilation_vol><doc_content>\n",
      "\t\t第1版(要闻)\n",
      "专栏：\n",
      "\n",
      "　　江泽民会见法国外长\n",
      "　　对两国关系正在全面深入发展感到高兴\n",
      "　　本报北京1月9日讯  记者李文云报道：国家主席江泽民今天在中南海会见了法国外长德维尔潘。\n",
      "　　江泽民积极评价中法两国关系，肯定两国外长会谈成果。\n",
      "　　他说，近年来，双方间的联系和交往越来越密切，两国各个级别的往来也很频繁，重要互访不断。两国贸易额持续增长，不少法国知名大企业近年来不断拓展在华业务，中法经贸合作的前景是广阔的。在文教科等领域，去年中国在巴黎设立了文化中心，两国还将互办文化年；两国签署了第一个教育交流合作协议和在华建立“中法科技中心”的文件。我们对中法关系正在全面深入发展感到高兴。\n",
      "　　谈到国际形势时，江泽民着重介绍了中方在伊拉克和朝核问题上的立场。他说，联合国安理会通过1441号决议，伊拉克总体上采取了配合的态度。目前应坚持核查、搞清问题，支持联合国核查人员的工作。下一步如何行动，应在充分听取各方意见基础上，由安理会决定。在朝核问题上，中国坚持朝鲜半岛无核化和半岛和平与稳定，坚持和平解决朝核问题。\n",
      "　　德维尔潘首先转达了希拉克总统对江泽民主席的亲切问候，他告诉江主席，希拉克总统祝贺中共十六大成功举行，认为此次大会对中国今后的发展意义重大。德维尔潘说，法方高度重视法中关系，在当前国际局势急剧变化的形势下，双方更有必要加强磋商和协调。他还向江泽民介绍了法方在伊拉克和朝核等问题上的看法和立场。\n",
      "　　外交部长唐家璇等参加了会见。（附图片）\n",
      "　　1月9日，国家主席江泽民在中南海会见法国外长德维尔潘。\n",
      "    新华社记者  饶爱民摄\t\t</doc_content><xml_metadata/></document><document filename=\"人民日報_20030110_1_1298182\"><corpus>人民日报1946-2003资料库</corpus><date_not_before>200301</date_not_before><compilation_vol>第1版的新闻</compilation_vol><doc_content>\n",
      "\t\t第1版(要闻)\n",
      "专栏：\n",
      "\n",
      "　　温家宝会见法国外长\n",
      "　　本报北京1月9日讯  记者李文云报道：国务院副总理温家宝今天下午在中南海紫光阁会见了到访的法国外长多米尼克·德维尔潘。双方就中法关系和共同关心的重大国际问题交换了意见。\n",
      "　　温家宝对中法关系给予了积极评价。他说，在两国领导人的共同关心和推动下，双边关系取得了长足的发展。\n",
      "　　在国际事务中，两国经常磋商，进行卓有成效的合作。中方愿与法方共同努力，进一步巩固和发展中法全面伙伴关系。\n",
      "　　他说，中国赞赏法国为推动欧盟一体化建设所做的努力。希望法国和欧盟在促进国际关系民主化，推动发达国家与发展中国家建立平等互利合作，促进世界和平稳定与发展方面发挥积极作用。\n",
      "　　德维尔潘赞同温家宝对两国关系的积极评价。他说，法国重视发展对华关系，愿进一步充实两国在政治、经贸等领域的伙伴关系，坚信两国合作前景将是广阔的。\n",
      "　　德维尔潘还表示，法国也将尽其所能，推动欧盟对华关系进一步向前发展。\n",
      "　　外交部长唐家璇会见时在座。\t\t</doc_content><xml_metadata/></document><document filename=\"人民日報_20030110_1_1298183\"><corpus>人民日报1946-2003资料库</corpus><date_not_before>200301</date_not_before><compilation_vol>第1版的新闻</compilation_vol><doc_content>\n",
      "\t\t第1版(要闻)\n",
      "专栏：\n",
      "\n",
      "　　李瑞环与澳门特区全国政协委员座谈\n",
      "　　本报澳门1月9日电  记者李渊、曾坤报道：全国政协主席李瑞环今天下午在澳门新竹苑会见澳门特区全国政协委员，并与他们举行了座谈。\n",
      "　　在认真听取了吴福、何鸿燊、廖泽云、贺定一、曹其真、潘汉荣、崔世昌7位委员的发言后，李瑞环讲了话。他首先对澳门特区全国政协委员做出的贡献给予了充分肯定。他说，澳门特区的政协委员都是澳门各界有影响的代表人士。长期以来，你们凭借自身优势，在许多方面发挥了作用。你们竭诚团结澳门各界人士，帮助澳门实现平稳过渡和顺利回归；你们衷心拥护澳门基本法，推动“一国两制”方针在澳门贯彻落实；你们全力支持以何厚铧先生为首的特区政府的工作，努力维护澳门稳定繁荣的大局；你们积极出资出力、建言献策，参与内地的经济建设；你们充分利用与大陆和台湾的特殊关系，推进两岸交流和祖国统一大业。你们以自己的实际行动在澳门和祖国的发展史上书写了光辉的一页，你们所做的一切都将为中国人民所牢记。\n",
      "　　李瑞环指出，澳门作为内地通往世界的重要桥梁，在推进祖国改革开放和现代化建设中具有不可替代的作用。澳门特区的政协委员，对世界各地情况掌握得多，对全球各种信息了解得快，能够从不同于内地委员的角度观察问题、发表见解。中央对澳门非常重视，对澳门特区政协委员的意见和建议非常重视。他说，多年来，你们十分珍视政协委员这个荣誉和称号，在政协委员的位置上做了很多工作，为人民政协事业的发展付出了很多心血。希望你们继续发扬爱国爱澳的光荣传统，在特区行政长官何厚铧的领导下，广泛团结澳门社会各阶层、各界别、各方面的人士，同心同德，齐心协力，共同把澳门的事情办好；希望你们充分认识作为政协委员所肩负的责任和使命，继续发挥自己的特殊作用和影响，为祖国内地的改革开放和现代化建设做出新的更大的贡献。\n",
      "　　座谈会由全国政协副主席马万祺主持。中央政府驻澳联络办主任白志健，李瑞环的随行人员郑万通、李昌鉴、徐泽等参加了座谈。\n",
      "　　座谈结束后，李瑞环主席设宴招待了与会的澳门特区全国政协委员。\n",
      "　　当天上午，李瑞环在澳门特区行政长官何厚铧和白志健等人的陪同下，参观了大三巴牌坊、澳门博物馆、大炮台、路环黑沙滩和氹仔住宅博物馆。?\t\t</doc_content><xml_metadata/></document><document filename=\"人民日報_20030110_1_1298184\"><corpus>人民日报1946-2003资料库</corpus><date_not_before>200301</date_not_before><compilation_vol>第1版的新闻</compilation_vol><doc_content>\n",
      "\t\t第1版(要闻)\n",
      "专栏：\n",
      "\n",
      "　　我国去年外贸总值突破6200亿美元\n",
      "　　出口总值达到3255.7亿美元，比上年增长22.3％\n",
      "　　本报北京1月9日讯  记者杜海涛报道：据海关总署最新统计，2002年全年我国外贸进出口总值为6207.9亿美元，首次突破6200亿美元，比上年增长21.8％；其中出口首次突破3000亿美元大关，达到3255.7亿美元，比上年增长22.3％；进口2952.2亿美元，比上年增长21.2％；累计实现贸易顺差303.5亿美元。\n",
      "　　海关统计显示，2002年12月份当月进出口总值达606.2亿美元，比上年同期增长29.3％；其中出口318.9亿美元，增长30.2％；进口287.3亿美元，增长28.4％；实现贸易顺差31.6亿美元。\n",
      "　　据分析，我国对外贸易的增长得益于国家继续实施鼓励出口的政策，政府各部门推出了一系列改革措施促进贸易便利化，有效地促进了我国对外贸易的健康快速发展。也得益于加入世界贸易组织后国际贸易环境的改善，新的贸易协调机制使中国的谈判能力得到了提升；贸易伙伴对我国许多优势产品配额限制的逐步放宽，放大了我国的出口空间。\n",
      "　　海关统计显示，2002年，我国出口累计增幅在一季度末回落到10％之后，随后呈稳步攀升的良好态势，二季度末攀升至14.1％，三季度末升至19.4％，四季度中的3个月单月出口同比增幅均超过了30％，拉动全年增幅达到了22.3％，这是自1997年亚洲金融危机以来仅次于2000年的出口增长高峰年。\n",
      "    出口已经成为拉动我国国民经济持续增长的一支重要力量，全年实现贸易顺差303.5亿美元，比上年增加了78亿美元。\n",
      "　　去年，我国一般贸易进出口总值为2653.3亿美元，占当年我国进出口总值的42.7％，增长17.7％。加工贸易进出口总值为3021.7亿美元，占当年我国进出口总值的48.8％，增长25.2％。外商投资企业进出口增势旺盛，国有企业进出口增长明显。其中外商投资企业进出口总值3302.2亿美元，增长27.5％；国有企业外贸进出口总值2373.5亿美元，增长9.5％。此外，集体、私营及其他类型企业在从事外贸经营活动方面变得更加宽松和便捷，集体、私营企业在外贸方面的发展势头迅猛。\n",
      "　　2002年，我国与主要贸易伙伴的贸易发展呈现良好的增长势头，除了加拿大外，与10大贸易伙伴的双边贸易均保持了两位数的增长。其中日本作为我国最大的贸易伙伴，中日双边贸易总值达1019.1亿美元，首次突破1000亿美元大关。第二大、第三大贸易伙伴分别是美国、欧盟，双边贸易总额分别为971.8亿美元和867.6亿美元。\n",
      "　　在出口商品中，机电产品出口一马当先，传统大宗商品出口明显好转。据统计，2002年机电产品出口1570.8亿美元，占当年我国出口总额的48.2％，比上年提高了3.6个百分点，增长32.3％，比总体出口增速高出10个百分点，对当年总体出口增长的贡献率为64.4％。在进口商品中，初级产品进口增长平稳。海关统计显示，2002年我国进口初级产品492.7亿美元，增长7.7％。\t\t</doc_content><xml_metadata/></document><document filename=\"人民日報_20030110_1_1298185\"><corpus>人民日报1946-2003资料库</corpus><date_not_before>200301</date_not_before><compilation_vol>第1版的新闻</compilation_vol><doc_content>\n",
      "\t\t第1版(要闻)\n",
      "专栏：经济形势好  新年传佳音\n",
      "\n",
      "　　武汉财政收入近200亿\n",
      "　　本报武汉1月9日电  记者杜若原报道：2002年，武汉市国民经济保持持续快速健康发展，国内生产总值达到1493亿元，财政收入达到196.5亿元，城镇居民人均可支配收入和农村居民人均纯收入分别达到7820元和3295元。\n",
      "    全市工业增加值达到534亿元，非农产业占农村经济的比重达到82.8％。\n",
      "　　1997年到2002年，武汉市综合经济实力逐年增强，国内生产总值由912.33亿元增加到1493亿元，年均增长11.6％；财政收入由85.4亿元增加到196.5亿元，按可比口径计算，年均增长15.5％；城镇居民人均住房建筑面积由15平方米增加到22.16平方米。\t\t</doc_content><xml_metadata/></document><document filename=\"人民日報_20030110_1_1298186\"><corpus>人民日报1946-2003资料库</corpus><date_not_before>200301</date_not_before><compilation_vol>第1版的新闻</compilation_vol><doc_content>\n",
      "\t\t第1版(要闻)\n",
      "专栏：经济形势好  新年传佳音\n",
      "\n",
      "　　满洲里口岸运量突破900万吨\n",
      "　　本报满洲里1月9日电  2002年，我国最大的陆路口岸——海拉尔铁路分局满洲里站进出口运量突破了900万吨。\n",
      "　　20世纪90年代，随着中俄战略协作伙伴关系进一步改善和发展，满洲里进出口运量不断增加。1998年进出口运量297.4万吨，1999年362万吨，2000年464万吨，2001年629万吨，2002年突破900万吨，继续雄居陆路口岸“老大”的地位。据悉，国家投资4.2亿元的满洲里口岸站扩能改造已经动工，扩能后口岸运量将达到1000万吨，到2008年将突破1800万吨。（许长勇）\t\t</doc_content><xml_metadata/></document><document filename=\"人民日報_20030110_1_1298187\"><corpus>人民日报1946-2003资料库</corpus><date_not_before>200301</date_not_before><compilation_vol>第1版的新闻</compilation_vol><doc_content>\n",
      "\t\t第1版(要闻)\n",
      "专栏：\n",
      "\n",
      "    红火的胡萝卜市场\n",
      "    地处豫东平原的河南省开封市，立足农业大市的实际，积极优化种植业结构，下大力气发展特色农业，打造出一批专业乡镇，如杞县高阳的辣椒、开封县兴隆的胡萝卜、通许邸阁的无籽西瓜等。去年，全市农民人均纯收入2200多元。图为开封县兴隆乡胡萝卜市场一角。\n",
      "    本报记者  王明浩摄\t\t</doc_content><xml_metadata/></document><document filename=\"人民日報_20030110_2_1298188\"><corpus>人民日报1946-2003资料库</corpus><date_not_before>200301</date_not_before><compilation_vol>第2版的新闻</compilation_vol><doc_content>\n",
      "\t\t第2版(要闻)\n",
      "专栏：\n",
      "\n",
      "　　1月8日，北京市质监局突击检查假冒米家艾特装饰材料公司，查获假冒8个品牌的伪劣木地板4500余件。图为执法人员在检查。\n",
      "    本报记者  张悦摄\t\t</doc_content><xml_metadata/></document><document filename=\"人民日報_20030110_2_1298189\"><corpus>人民日报1946-2003资料库</corpus><date_not_before>200301</date_not_before><compilation_vol>第2版的新闻</compilation_vol><doc_content>\n",
      "\t\t第2版(要闻)\n",
      "专栏：\n",
      "\n",
      "　　农业部确定今年农业农村经济工作重点\n",
      "　　扎实推进农产品竞争力增强、农业增效、农民增收\n",
      "　　本报北京1月9日讯  记者夏珺报道：2003年农业农村经济工作的重点今天敲定：紧紧围绕全面建设小康社会的战略目标，坚持以农业和农村经济结构战略性调整为工作主线，以不断增加农民收入为中心任务，大力发展优质、高产、高效、安全、生态农业，扎实推进农产品竞争力增强、农业增效和农民增收，确保农业和农村经济持续健康发展。\n",
      "　　这是记者从今天在京闭幕的全国农业工作会议上了解到的。今年农业部将重点抓好七项主要工作：大力推进优势农产品区域布局，建立优质农产品产业带，推进农业结构调整向纵深发展，重点实施好高油大豆和优质专用小麦等区域布局规划；加快农业科技进步，突出重点产业和优势产品，加强农业科研、引进、推广和高新技术产业化；努力提高农业产业化经营水平，继续贯彻落实好各项扶持政策，促进龙头企业有一个大的发展，鼓励和支持发展多种形式的农民专业合作组织；建立健全农产品质量安全体系、农产品市场体系和农业社会化服务体系，提高农产品市场竞争力；加强农业基础设施建设和生态建设，抓住国家投资向农业和农村倾斜的机遇，积极争取投资，研究吸引社会资金投入农业的新办法；积极促进农村富余劳动力转移，搞好农村劳动力培训，支持乡镇企业加快结构调整以及改革与发展步伐，大力发展农产品加工业和农村服务业；认真落实党的农村政策，稳定家庭承包经营，深化农村改革。同时，努力扩大农业对外开放，扩大农产品出口。\t\t</doc_content><xml_metadata/></document><document filename=\"人民日報_20030110_2_1298190\"><corpus>人民日报1946-2003资料库</corpus><date_not_before>200301</date_not_before><compilation_vol>第2版的新闻</compilation_vol><doc_content>\n",
      "\t\t第2版(要闻)\n",
      "专栏：\n",
      "\n",
      "　　中国加拿大签署合作项目谅解备忘录\n",
      "　　据新华社北京1月9日电（记者陈刚）外经贸部副部长吕福源和加拿大国际合作部长苏珊·惠兰9日在这里共同签署了中加关于小农户适应全球市场发展项目、检察官改革合作项目、西部道路开发项目、西部基础教育能力项目等四个项目谅解备忘录。这四个合作项目涉及金额约2600万美元。双方还同时签署了关于气候变化领域发展合作项目意向书。\t\t</doc_content><xml_metadata/></document><document filename=\"人民日報_20030110_2_1298191\"><corpus>人民日报1946-2003资料库</corpus><date_not_before>200301</date_not_before><compilation_vol>第2版的新闻</compilation_vol><doc_content>\n",
      "\t\t第2版(要闻)\n",
      "专栏：\n",
      "\n",
      "　　驾照管理和驾驶员考试办法将作重大改革\n",
      "    公安部昨天公布修改方案征求社会意见\n",
      "　　准驾车型由3种细化为7种\n",
      "    新手只准驾小车，驾照管理实行“等级制”\n",
      "　　持外地驾照超过3个月将需在暂住地换证\n",
      "　　驾照不必年年审，60多岁也能学车\n",
      "　　据新华社北京1月9日电（记者王雷鸣、邬焕庆）我国驾驶证管理办法和驾驶员考试办法将作重大改革，公安部今天公布了修改方案。目前，改革方案正向全社会公开征求意见和建议。\n",
      "　　根据修改方案，公安部将目前我国驾驶证签注的3种准驾车型，即大家俗语称的A（大型客车）照、B（大型货车）照、C（小型汽车）照，细化为7种，即大型客车Ak、牵引车Aq、中型客车Bk、大型货车Bh、小型客车Ck、小型货车Ch和城市公交车准驾车型\n",
      "　　N。而四轮农用运输车、三轮农用运输\n",
      "　　车不再单设准驾车型，分别归类到小型货车、三轮摩托车准驾车型中，统一纳入汽车和摩托车驾驶员管理范围。\n",
      "　　修改方案充分考虑到对交通规则的熟悉以及严重违章的因素，废除了驾照的“终身制”，实行“等级制”。一方面，新手不得申请学习驾驶大型客车、牵引车、中型客车和大型货车，如需驾驶这四类机动车的，必须在取得小型客车或小型货车准驾资格并具备一定的安全驾驶经历后，才能逐级申请。另一方面，老司机也会因严重违章使驾照被强制降级。修改方案规定，驾驶员在一个违章记分周期内有两次满分记录的，将按照大型客车、牵引车、中型客车、大型货车、城市公交车这个高低排序，取消其现有最高一个等级的准驾车型；对一个违章记分周期内有\n",
      "　　3次以上满分记录的，一次全部取消准驾车型。另外，驾驶\n",
      "　　员在一个违章记分周期内具有一个以上满分记录，或者连续两个违章记分周期有未接受违章处理记录的，其驾照的有效期将从4年改签为1年。\n",
      "　　为给异地驾驶人员提供方便并减少交管部门的管理“盲区”，修改方案规定，在暂住地工作3个月以上的驾驶员，或者持有大型客车、牵引车、中型客车、大型货车、小型客车、小型货车准驾车型驾驶证，需要在暂住地从事客、货营运的人员，应当申请换领暂住地车辆管理所核发的驾驶证。\n"
     ]
    }
   ],
   "source": [
    "# 讀取檔案，中文編碼方式，內定為 utf-8 ######                        \n",
    "fname= path+\"人民日報_xml/\"+\"人民日報_\"+ year_doc+\".xml\"\n",
    "content = open(fname,'r', encoding='utf-8').read()\n",
    "# 列印前面一千個字檢查\n",
    "print (content[:10000])"
   ]
  },
  {
   "cell_type": "markdown",
   "metadata": {},
   "source": [
    "## 須先安裝 lsml\n",
    "* pip install bs4 lxml"
   ]
  },
  {
   "cell_type": "code",
   "execution_count": null,
   "metadata": {},
   "outputs": [],
   "source": [
    "from bs4 import BeautifulSoup\n",
    "import re\n",
    "import lxml"
   ]
  },
  {
   "cell_type": "code",
   "execution_count": null,
   "metadata": {},
   "outputs": [],
   "source": [
    "# 讀取 string，產生一個 soup object，\n",
    "# html_doc 是前面我們定義的 string, \"html.parser\" 告訴 BeautifulSoup 我們要解析 html 文件。\n",
    "# 煮湯\n",
    "soup = BeautifulSoup(content,\"lxml\")"
   ]
  },
  {
   "cell_type": "code",
   "execution_count": null,
   "metadata": {
    "scrolled": true
   },
   "outputs": [],
   "source": [
    "print(soup.prettify()[20000:30000])"
   ]
  },
  {
   "cell_type": "code",
   "execution_count": null,
   "metadata": {},
   "outputs": [],
   "source": [
    "soup.prettify()[20000:30000]"
   ]
  },
  {
   "cell_type": "markdown",
   "metadata": {},
   "source": [
    "## 讀取欄位值"
   ]
  },
  {
   "cell_type": "code",
   "execution_count": null,
   "metadata": {},
   "outputs": [],
   "source": [
    "# filename\n",
    "filename=[]\n",
    "li_doc=soup.find_all(\"document\")\n",
    "for n in range(len(li_doc)):\n",
    "    filename.append(li_doc[n][\"filename\"])\n",
    "print (filename[0])    \n",
    "print (len(filename))"
   ]
  },
  {
   "cell_type": "code",
   "execution_count": null,
   "metadata": {},
   "outputs": [],
   "source": [
    "# corpus\n",
    "corpus=[int(year_doc)]*len(filename)\n",
    "corpus[0]"
   ]
  },
  {
   "cell_type": "code",
   "execution_count": null,
   "metadata": {},
   "outputs": [],
   "source": [
    "# timeseq_not_before 日期\n",
    "timeseq_not_before=[]\n",
    "li_doc=soup.find_all(\"document\")\n",
    "for n in range(len(li_doc)):\n",
    "    timeseq_not_before.append(li_doc[n][\"filename\"][5:13])\n",
    "print (timeseq_not_before[0])    \n",
    "print (len(timeseq_not_before))\n"
   ]
  },
  {
   "cell_type": "code",
   "execution_count": null,
   "metadata": {},
   "outputs": [],
   "source": [
    "# era 年月\n",
    "era=[]\n",
    "li_ym=soup.find_all(\"date_not_before\")\n",
    "for n in range(len(li_ym)):\n",
    "    era.append(li_ym[n].text)\n",
    "print (era[0])     \n",
    "print (len(era))"
   ]
  },
  {
   "cell_type": "code",
   "execution_count": null,
   "metadata": {},
   "outputs": [],
   "source": [
    "# compilation_vol 版次\n",
    "compilation_vol=[]\n",
    "li_comp=soup.find_all(\"compilation_vol\")\n",
    "for n in range(len(li_comp)):\n",
    "    compilation_vol.append(li_comp[n].text.replace(\"的新闻\", ''))\n",
    "print (compilation_vol[0])\n",
    "print (len(compilation_vol))"
   ]
  },
  {
   "cell_type": "code",
   "execution_count": null,
   "metadata": {},
   "outputs": [],
   "source": [
    "#檢查 原始文本 doc_content\n",
    "import random\n",
    "n=random.randint(0, len(filename))\n",
    "try:\n",
    "    con=soup.find_all(\"doc_content\")[n].text   \n",
    "    con_list=con.split()   # 只有一列的刪除\n",
    "    print (\"0\",con_list[0])   # compilation_name 版次\n",
    "    print (\"1\",con_list[1])   # doctype 专栏：\n",
    "    print (\"2\",con_list[2])   # title，一列至四列均可能，小於15個字，即為title，但也可能是人名，小於等於三個字者是人名\n",
    "    print (\"3\",con_list[3])   # 可能是 title 也可能是 doc_content，句首可能是出處【...】\n",
    "    print (\"4\",con_list[4])   # doc_content， 也可能還是 title，句首可能是出處【...】\n",
    "    print (\"5\",con_list[5])   # doc_content， 也可能還是 title ，句首可能是出處【...】\n",
    "    print (\"6\",con_list[6])   # doc_content，句首可能是出處【...】\n",
    "    print (\"7\",con_list[7])   # doc_content\n",
    "    print (\"8\",con_list[8])   # doc_content\n",
    "    print (\"-1\",con_list[-1])   # doc_content\n",
    "except:\n",
    "    pass"
   ]
  },
  {
   "cell_type": "code",
   "execution_count": null,
   "metadata": {},
   "outputs": [],
   "source": [
    "con"
   ]
  },
  {
   "cell_type": "markdown",
   "metadata": {},
   "source": [
    "## 擷取欄位，資料清理(時間頗久)"
   ]
  },
  {
   "cell_type": "code",
   "execution_count": null,
   "metadata": {},
   "outputs": [],
   "source": [
    "# 來源出處 【(\\w+)】\n",
    "def find_sou(con_list):\n",
    "    for i in range(2, len(con_list)):\n",
    "        title=\"\"\n",
    "        name=\"\"\n",
    "        sour=\"\"\n",
    "        content=\"\"\n",
    "        if len(re.findall(r'【\\w+】',con_list[i]))>0:\n",
    "            sour=re.findall(r'【(\\w+)】',con_list[i])[0] \n",
    "            # 若有【(\\w+)】，從 2 至i-1 均為 title\n",
    "            for j in range(i-2):\n",
    "                title=title+\"\"+con_list[i-j-1]  \n",
    "            content=re.sub(r'【\\w+】','',con_list[i])\n",
    "            if len(re.findall(r'\\w?\\w?\\w?\\w?\\w?\\w?\\w?\\w?\\w?\\w?\\w?\\w?\\w?\\w?\\w?\\w?\\w?\\w?\\w?\\w?报道：',content))>0:\n",
    "                sour2=re.findall(r'\\w?\\w?\\w?\\w?\\w?\\w?\\w?\\w?\\w?\\w?\\w?\\w?\\w?\\w?\\w?\\w?\\w?\\w?\\w?\\w?报道：',content)[0]     \n",
    "                sour=sour+\",\"+sour2\n",
    "                content=content.replace(sour2,\"\")\n",
    "            elif len(re.findall(r'\\w?\\w?\\w?\\w?\\w?\\w?\\w?\\w?\\w?\\w?\\w?\\w?\\w?\\w?\\w?\\w?\\w?\\w?\\w?\\w?讯：',content))>0:\n",
    "                sour2=re.findall(r'\\w?\\w?\\w?\\w?\\w?\\w?\\w?\\w?\\w?\\w?\\w?\\w?\\w?\\w?\\w?\\w?\\w?\\w?\\w?\\w?讯：',content)[0]    \n",
    "                sour=sour+\",\"+sour2\n",
    "                content=content.replace(sour2,\"\")     \n",
    "            elif len(re.findall(r'\\w?\\w?\\w?\\w?\\w?\\w?\\w?\\w?\\w?\\w?\\w?\\w?\\w?\\w?\\w?\\w?\\w?\\w?\\w?\\w?消息：',content))>0:\n",
    "                sour2=re.findall(r'\\w?\\w?\\w?\\w?\\w?\\w?\\w?\\w?\\w?\\w?\\w?\\w?\\w?\\w?\\w?\\w?\\w?\\w?\\w?\\w?消息：',content)[0]    \n",
    "                sour=sour+\",\"+sour2\n",
    "                content=content.replace(sour2,\"\")                   \n",
    "            # 可能有多個 【(\\w+)】，繼續往下找  \n",
    "            for k in range(len(con_list)-i-1):\n",
    "                if len(re.findall(r'【\\w+】',con_list[i+k+1]))>0:\n",
    "                    sour2=re.findall(r'【(\\w+)】',con_list[i+k+1])[0] \n",
    "                    sour=sour+\",\"+sour2   \n",
    "                    content2=re.sub(r'【\\w+】','',con_list[i+k+1])\n",
    "                    content=content+\"\\n\"+content2\n",
    "                    if len(re.findall(r'\\w?\\w?\\w?\\w?\\w?\\w?\\w?\\w?\\w?\\w?\\w?\\w?\\w?\\w?\\w?\\w?\\w?\\w?\\w?\\w?报道：',content2))>0:\n",
    "                        sour2=re.findall(r'\\w?\\w?\\w?\\w?\\w?\\w?\\w?\\w?\\w?\\w?\\w?\\w?\\w?\\w?\\w?\\w?\\w?\\w?\\w?\\w?报道：',content2)[0]    \n",
    "                        sour=sour+\",\"+sour2\n",
    "                        content=content.replace(sour2,\"\")                                     \n",
    "                    elif len(re.findall(r'\\w?\\w?\\w?\\w?\\w?\\w?\\w?\\w?\\w?\\w?\\w?\\w?\\w?\\w?\\w?\\w?\\w?\\w?\\w?\\w?讯：',content2))>0:\n",
    "                        sour2=re.findall(r'\\w?\\w?\\w?\\w?\\w?\\w?\\w?\\w?\\w?\\w?\\w?\\w?\\w?\\w?\\w?\\w?\\w?\\w?\\w?\\w?讯：',content2)[0]  \n",
    "                        sour=sour+\",\"+sour2\n",
    "                        content=content.replace(sour2,\"\")                \n",
    "                    elif len(re.findall(r'\\w?\\w?\\w?\\w?\\w?\\w?\\w?\\w?\\w?\\w?\\w?\\w?\\w?\\w?\\w?\\w?\\w?\\w?\\w?\\w?消息：',content2))>0:\n",
    "                        sour2=re.findall(r'\\w?\\w?\\w?\\w?\\w?\\w?\\w?\\w?\\w?\\w?\\w?\\w?\\w?\\w?\\w?\\w?\\w?\\w?\\w?\\w?消息：',content2)[0]  \n",
    "                        sour=sour+\",\"+sour2\n",
    "                        content=content.replace(sour2,\"\")  \n",
    "                else:\n",
    "                    content+=con_list[i+k+1]        \n",
    "                        \n",
    "            break\n",
    "    return title, name, sour,content,n\n",
    "\n",
    "# 來源出處非 【(\\w+)】者\n",
    "def find_source(n):\n",
    "    if len(re.findall(r'本报\\w+电',con_list[n]))>0:\n",
    "        sour=re.findall(r'本报\\w+电',con_list[n])[0]        \n",
    "    elif len(re.findall(r'本报讯',con_list[n]))>0:\n",
    "        sour=\"本报讯\"   \n",
    "    elif len(re.findall(r'本报记者',con_list[n]))>0:\n",
    "        sour=\"本报记者\"           \n",
    "    elif len(re.findall(r'据\\w+报道',con_list[n]))>0:\n",
    "        sour=re.findall(r'据\\w+报道',con_list[n])[0]                   \n",
    "    elif len(re.findall(r'据\\w+电',con_list[n]))>0:\n",
    "        sour=re.findall(r'据\\w+电',con_list[n])[0]           \n",
    "    elif len(re.findall(r'据\\w+统计',con_list[n]))>0:\n",
    "        sour=re.findall(r'据\\w+统计',con_list[n])[0]                \n",
    "    elif len(re.findall(r'据\\w+调查',con_list[n]))>0:\n",
    "        sour=re.findall(r'据\\w+调查',con_list[n])[0]     \n",
    "    elif len(re.findall(r'据\\w+的消息',con_list[n]))>0:\n",
    "        sour=re.findall(r'据\\w+的消息',con_list[n])[0]                           \n",
    "    elif len(re.findall(r'据\\w+消息',con_list[n]))>0:\n",
    "        sour=re.findall(r'据\\w+消息',con_list[n])[0]                          \n",
    "    elif len(re.findall(r'据\\w+预测',con_list[n]))>0:\n",
    "        sour=re.findall(r'据\\w+预测',con_list[n])[0]                          \n",
    "    elif len(re.findall(r'据\\w+报告',con_list[n]))>0:\n",
    "        sour=re.findall(r'据\\w+报告',con_list[n])[0]   \n",
    "    elif len(re.findall(r'新华社\\w+电',con_list[n]))>0:\n",
    "        sour=re.findall(r'新华社\\w+电',con_list[n])[0]         \n",
    "    elif len(re.findall(r'\\(新华社\\w+电\\)',con_list[n]))>0:\n",
    "        sour=re.findall(r'\\(新华社\\w+电\\)',con_list[n])[0]           \n",
    "    elif len(re.findall(r'\\w?\\w?\\w?\\w?\\w?\\w?\\w?\\w?\\w?\\w?\\w?\\w?\\w?\\w?\\w?报道：',con_list[n]))>0:\n",
    "        sour=re.findall(r'\\w?\\w?\\w?\\w?\\w?\\w?\\w?\\w?\\w?\\w?\\w?\\w?\\w?\\w?\\w?报道：',con_list[n])[0]        \n",
    "    elif len(re.findall(r'\\w?\\w?\\w?\\w?\\w?\\w?\\w?\\w?\\w?\\w?\\w?\\w?\\w?\\w?\\w?讯：',con_list[n]))>0:\n",
    "        sour=re.findall(r'\\w?\\w?\\w?\\w?\\w?\\w?\\w?\\w?\\w?\\w?\\w?\\w?\\w?\\w?\\w?讯：',con_list[n])[0]         \n",
    "    elif len(re.findall(r'\\w?\\w?\\w?\\w?\\w?\\w?\\w?\\w?\\w?\\w?\\w?\\w?\\w?\\w?\\w?消息：',con_list[n]))>0:\n",
    "        sour=re.findall(r'\\w?\\w?\\w?\\w?\\w?\\w?\\w?\\w?\\w?\\w?\\w?\\w?\\w?\\w?\\w?消息：',con_list[n])[0]          \n",
    "    elif re.search(r\"新华社\",con_list[n]):    \n",
    "        sour=\"新华社\"        \n",
    "    else:\n",
    "        sour=\"\"     \n",
    "    return sour\n",
    "# 記者\n",
    "def find_name(n):\n",
    "    if len(re.findall(r'记者\\w+报道',con_list[n]))>0:\n",
    "        name=re.findall(r'记者\\w+报道',con_list[n])[0]  \n",
    "    elif len(re.findall(r'记者:\\w+',con_list[n]))>0:\n",
    "        name=re.findall(r'记者:\\w+',con_list[n])[0]           \n",
    "    elif len(re.findall(r'\\(记者\\w+\\)',con_list[n]))>0:\n",
    "        name=re.findall(r'(\\(记者\\w+\\))',con_list[n])[0]                        \n",
    "    elif len(re.findall(r'记者\\w+',con_list[n]))>0:\n",
    "        name=re.findall(r'记者\\w+',con_list[n])[0]                      \n",
    "    elif len(re.findall(r'\\(\\w+\\)',con_list[n]))>0:\n",
    "        name=re.findall(r'(\\(\\w+\\))',con_list[n])[0]                                   \n",
    "    elif len(con_list[n])<=3:\n",
    "        name=con_list[n]\n",
    "    else:\n",
    "        name=\"\"\n",
    "    return name"
   ]
  },
  {
   "cell_type": "code",
   "execution_count": null,
   "metadata": {
    "scrolled": true
   },
   "outputs": [],
   "source": [
    "# content 整理doc_content，要花時間\n",
    "docclass=[]\n",
    "compilation_name=[]\n",
    "doctype=[]\n",
    "title=[]\n",
    "author=[]\n",
    "doc_content=[]\n",
    "doc=soup.find_all(\"doc_content\")\n",
    "for n in range(len(doc)):\n",
    "    con=doc[n].text  \n",
    "    con_list=con.split()    \n",
    "    tit=\"\";name=\"\";sour=\"\";content=\"\"\n",
    "    if len(con_list)<=2:    # 有些文件只有2列以內跳過\n",
    "        title.append(\"\")      \n",
    "        author.append(\"\")\n",
    "        compilation_name.append(\"\")  \n",
    "        doc_content.append(\"\")\n",
    "        docclass.append(\"\")\n",
    "        doctype.append(\"\")\n",
    "    else:    \n",
    "        # 第 0列 docclass 是版次與類別，取類別，例如 第10版(文化新闻)\n",
    "        if len(re.findall(r'\\((\\w+)\\)',con_list[0]))>0:\n",
    "            docclass.append(re.findall(r'\\((\\w+)\\)',con_list[0])[0])       \n",
    "        else:\n",
    "            docclass.append(\"\")\n",
    "        # 第 1列 doctype 是性質，例如 专栏：文化在线\n",
    "        doctype.append(con_list[1].replace(\"专栏：\", ''))   \n",
    "    \n",
    "    # 如果只有 3列\n",
    "    if len(con_list)==3:\n",
    "        # 如果有 【...】開頭，出處\n",
    "        res=find_sou(con_list)\n",
    "        if res[2]!=\"\":\n",
    "            tit=res[0]\n",
    "            name=res[1]\n",
    "            sour=res[2]\n",
    "            content=res[3]  \n",
    "        else:   \n",
    "            sour=find_source(2)\n",
    "            name=find_name(2)                \n",
    "            tit=con_list[2]     \n",
    "        author.append(name)    \n",
    "        compilation_name.append(sour)   \n",
    "        title.append(tit)\n",
    "        if content==\"\":  # 如果無 【...】開頭\n",
    "            doc_content.append(con_list[2].replace(sour, '',1).replace(tit, '',1)) \n",
    "        else:   # 如果有 【...】開頭\n",
    "            doc_content.append(content)              \n",
    "            \n",
    "    # 如果只有 4列\n",
    "    if len(con_list)==4:\n",
    "        # 如果有 【...】開頭，出處\n",
    "        res=find_sou(con_list)\n",
    "        if res[2]!=\"\":\n",
    "            tit=res[0]\n",
    "            name=res[1]\n",
    "            sour=res[2]\n",
    "            content=res[3]\n",
    "        else:   \n",
    "            sour=find_source(2)\n",
    "            if sour==\"\":\n",
    "                sour=find_source(3) \n",
    "                if sour==\"\":\n",
    "                    pass\n",
    "                else:\n",
    "                    tit=con_list[2]                \n",
    "            else:\n",
    "                tit=con_list[2].replace(sour,\"\")                 \n",
    "\n",
    "            name=find_name(2)   \n",
    "            if name==\"\":\n",
    "                name=find_name(3)  \n",
    "\n",
    "        compilation_name.append(sour)     \n",
    "        author.append(name)               \n",
    "        title.append(tit) \n",
    "        if content==\"\":\n",
    "            doc_content.append(con_list[3].replace(sour, '',1).replace(tit, '',1)) \n",
    "        else:\n",
    "            doc_content.append(content)   \n",
    "            \n",
    "     # 如果只有 5列                        \n",
    "    if len(con_list)==5:\n",
    "        # 找 【...】\n",
    "        res=find_sou(con_list)\n",
    "        if res[2]!=\"\":\n",
    "            tit=res[0]\n",
    "            name=res[1]\n",
    "            sour=res[2]\n",
    "            content=res[3]\n",
    "        else:   \n",
    "            sour=find_source(2)\n",
    "            if sour==\"\":\n",
    "                sour=find_source(3) \n",
    "                if sour==\"\":\n",
    "                    sour=find_source(4)     \n",
    "                    if sour!=\"\":\n",
    "                        tit=con_list[2]+con_list[3]\n",
    "                    else:    \n",
    "                        tit=con_list[2]\n",
    "                else:\n",
    "                    tit=con_list[2]\n",
    "            else:\n",
    "                tit=con_list[2].replace(sour,\"\")     \n",
    "\n",
    "            name=find_name(2)   \n",
    "            if name==\"\":\n",
    "                name=find_name(3)  \n",
    "                if name==\"\":\n",
    "                    name=find_name(4)\n",
    "\n",
    "        compilation_name.append(sour)     \n",
    "        author.append(name)    \n",
    "        tit=re.sub(' ', '', tit)\n",
    "        title.append(tit) \n",
    "        if content==\"\":\n",
    "            content=re.sub('[×\\r\\t\\u3000]', '', con).replace(\" \",\"\").replace(con_list[0], '').replace(con_list[1], '').replace(tit, '',1).replace(sour, '',1)   \n",
    "            doc_content.append(content)\n",
    "        else:\n",
    "            doc_content.append(content)         \n",
    "\n",
    "    # 如果 6列 以上\n",
    "    if len(con_list)>=6:\n",
    "        # 找 【...】\n",
    "        res=find_sou(con_list)\n",
    "        if res[2]!=\"\":\n",
    "            tit=res[0]\n",
    "            name=res[1]\n",
    "            sour=res[2]\n",
    "            content=res[3]\n",
    "        else:   \n",
    "        # 無 【...】               \n",
    "            # 先找 source，其前為 title\n",
    "            sour=find_source(2)\n",
    "            if sour==\"\":\n",
    "                sour=find_source(3) \n",
    "                if sour==\"\":\n",
    "                    sour=find_source(4)       \n",
    "                    if sour==\"\":\n",
    "                        sour=find_source(5)\n",
    "                        if sour==\"\":                            \n",
    "                            tit=con_list[2]                        \n",
    "                        else:\n",
    "                            tit=con_list[2]+con_list[3]+con_list[4]\n",
    "                    else:    \n",
    "                        tit=con_list[2]+con_list[3]\n",
    "                else:\n",
    "                    tit=con_list[2]\n",
    "            else:\n",
    "                tit=con_list[2].replace(sour,\"\")     \n",
    "\n",
    "            name=find_name(2)   \n",
    "            if name==\"\":\n",
    "                name=find_name(3)  \n",
    "                if name==\"\":\n",
    "                    name=find_name(4)\n",
    "                    if name==\"\":\n",
    "                        name=find_name(5)\n",
    "        compilation_name.append(sour)     \n",
    "        author.append(name)      \n",
    "        tit=re.sub(' ', '', tit)\n",
    "        title.append(tit) \n",
    "        if content==\"\":\n",
    "            content=re.sub('[×\\r\\t\\u3000]', '', con).replace(\" \",\"\").replace(con_list[0], '').replace(con_list[1], '').replace(tit, '',1).replace(sour, '',1)  \n",
    "            doc_content.append(content)\n",
    "        else:\n",
    "            doc_content.append(content)         \n",
    "    if n%100==0:\n",
    "        print (n, \"done\",len(doc), end=\" \")\n",
    "        print (\"******************************************\")\n",
    "        print (\"filename: \",filename[n])\n",
    "        print (\"corpus: \",corpus[n])\n",
    "        print (\"timeseq_not_before: \",timeseq_not_before[n])\n",
    "        print (\"era: \",era[n])\n",
    "        print (\"compilation_vol: \",compilation_vol[n])\n",
    "        print (\"docclass: \",docclass[n])\n",
    "        print (\"doctype: \",doctype[n])\n",
    "        print (\"compilation_name: \",compilation_name[n])\n",
    "        print (\"author: \",author[n])\n",
    "        print (\"title: \",title[n])\n",
    "        print (\"doc_content: \",doc_content[n][:100],\"...\")\n"
   ]
  },
  {
   "cell_type": "markdown",
   "metadata": {},
   "source": [
    "## 檢查所有欄位"
   ]
  },
  {
   "cell_type": "code",
   "execution_count": null,
   "metadata": {},
   "outputs": [],
   "source": [
    "# 隨機選取文章\n",
    "import random\n",
    "n=random.randint(0, len(filename))\n",
    "print (\"#\",n)\n",
    "print (\"filename: \",filename[n])\n",
    "print (\"corpus: \",corpus[n])\n",
    "print (\"timeseq_not_before: \",timeseq_not_before[n])\n",
    "print (\"era: \",era[n])\n",
    "print (\"compilation_vol: \",compilation_vol[n])\n",
    "print (\"docclass: \",docclass[n])\n",
    "print (\"doctype: \",doctype[n])\n",
    "print (\"compilation_name: \",compilation_name[n])\n",
    "print (\"author: \",author[n])\n",
    "print (\"title: \",title[n])\n",
    "print (\"doc_content: \",doc_content[n])\n",
    "print (\"*************************\")\n",
    "print (doc[n].text.split())\n",
    "print (\"*************************\")\n",
    "doc[n].text"
   ]
  },
  {
   "cell_type": "code",
   "execution_count": null,
   "metadata": {},
   "outputs": [],
   "source": [
    "# 檢查正文，注意有保留 \\n\n",
    "doc_content[n]"
   ]
  },
  {
   "cell_type": "code",
   "execution_count": null,
   "metadata": {},
   "outputs": [],
   "source": [
    "# 由 filename 讀取文章內容\n",
    "# filenames=[\"人民日報_19460915_4_5041\"]\n",
    "# for n in range(len(filenames)):\n",
    "#     year=filenames[n][5:9]\n",
    "#     fname=str(year)+\".xlsx\"\n",
    "#     temp=pd.read_excel(path+\"人民日報_xlsx/\"+fname, 0)  \n",
    "#     content=temp[temp.filename==filenames[n]].doc_content\n",
    "#     print(filenames[n],\"-----------------\")\n",
    "#     print(list(content))"
   ]
  },
  {
   "cell_type": "code",
   "execution_count": null,
   "metadata": {},
   "outputs": [],
   "source": [
    "## 擷取欄位，成為 dataframe，存檔\n",
    "import pandas as pd\n",
    "data = list(zip(filename, corpus, timeseq_not_before,era, compilation_vol,docclass,doctype,compilation_name,author,title, doc_content))\n",
    "df = pd.DataFrame(data, columns=[\"filename\", \"corpus\", \"timeseq_not_before\",\"era\", \"compilation_vol\", \"docclass\", \"doctype\",\"compilation_name\",\"author\",\"title\", \"doc_content\"])  # .DataFrame 大寫\n",
    "# 檢查 dataframe\n",
    "df.head()"
   ]
  },
  {
   "cell_type": "code",
   "execution_count": null,
   "metadata": {},
   "outputs": [],
   "source": [
    "# 刪除空白者\n",
    "# mask=df[(df.title == '') & (df.compilation_name =='') & (df.author\t =='')].index\n",
    "# df=df.drop(mask)"
   ]
  },
  {
   "cell_type": "code",
   "execution_count": null,
   "metadata": {},
   "outputs": [],
   "source": [
    "# 刪除 doc_content 是 nan 者\n",
    "print (len(df))\n",
    "df = df.dropna(subset=[\"doc_content\"])\n",
    "df.index=range(len(df))\n",
    "len(df)"
   ]
  },
  {
   "cell_type": "code",
   "execution_count": null,
   "metadata": {},
   "outputs": [],
   "source": [
    "# 重新排序\n",
    "df= df.sort_values(['timeseq_not_before'], ascending=True)\n",
    "# 重新編碼\n",
    "df.index=range(len(df))\n",
    "df"
   ]
  },
  {
   "cell_type": "code",
   "execution_count": null,
   "metadata": {},
   "outputs": [],
   "source": [
    "# 檢查正文，注意有保留 \\n\n",
    "df.doc_content[0]"
   ]
  },
  {
   "cell_type": "markdown",
   "metadata": {},
   "source": [
    "## 存檔讀檔"
   ]
  },
  {
   "cell_type": "code",
   "execution_count": null,
   "metadata": {},
   "outputs": [],
   "source": [
    "# xlsx 存檔\n",
    "fname=str(year_doc)+\".xlsx\"\n",
    "df.to_excel( path+\"人民日報_xlsx/\" +fname)  # doctest: +SKIP"
   ]
  },
  {
   "cell_type": "code",
   "execution_count": 64,
   "metadata": {
    "scrolled": true
   },
   "outputs": [
    {
     "data": {
      "text/html": [
       "<div>\n",
       "<style scoped>\n",
       "    .dataframe tbody tr th:only-of-type {\n",
       "        vertical-align: middle;\n",
       "    }\n",
       "\n",
       "    .dataframe tbody tr th {\n",
       "        vertical-align: top;\n",
       "    }\n",
       "\n",
       "    .dataframe thead th {\n",
       "        text-align: right;\n",
       "    }\n",
       "</style>\n",
       "<table border=\"1\" class=\"dataframe\">\n",
       "  <thead>\n",
       "    <tr style=\"text-align: right;\">\n",
       "      <th></th>\n",
       "      <th>Unnamed: 0</th>\n",
       "      <th>author</th>\n",
       "      <th>compilation_name</th>\n",
       "      <th>compilation_vol</th>\n",
       "      <th>corpus</th>\n",
       "      <th>doc_content</th>\n",
       "      <th>docclass</th>\n",
       "      <th>doctype</th>\n",
       "      <th>era</th>\n",
       "      <th>filename</th>\n",
       "      <th>sub_title</th>\n",
       "      <th>timeseq_not_before</th>\n",
       "      <th>title</th>\n",
       "    </tr>\n",
       "  </thead>\n",
       "  <tbody>\n",
       "    <tr>\n",
       "      <th>0</th>\n",
       "      <td>0</td>\n",
       "      <td>NaN</td>\n",
       "      <td>人民日報</td>\n",
       "      <td>第1版</td>\n",
       "      <td>2008</td>\n",
       "      <td>本报评论员一个社会的前行，一个国家的发展，往往来自于深切的忧患意识和责任意识，来自于对未来的...</td>\n",
       "      <td>要闻</td>\n",
       "      <td>NaN</td>\n",
       "      <td>200812</td>\n",
       "      <td>人民日報_20081231_1_1</td>\n",
       "      <td>――认真学习贯彻胡锦涛同志“一二・一八”重要讲话之八</td>\n",
       "      <td>20081231</td>\n",
       "      <td>推进改革开放伟大事业的战略部署</td>\n",
       "    </tr>\n",
       "    <tr>\n",
       "      <th>1</th>\n",
       "      <td>1</td>\n",
       "      <td>王炜</td>\n",
       "      <td>人民日報</td>\n",
       "      <td>第1版</td>\n",
       "      <td>2008</td>\n",
       "      <td>本报记者王炜1978年，退伍军人胡友林在苏北小城盐城创办了一家小企业。30年以后，这家小企业...</td>\n",
       "      <td>要闻</td>\n",
       "      <td>NaN</td>\n",
       "      <td>200812</td>\n",
       "      <td>人民日報_20081231_1_2</td>\n",
       "      <td>江苏悦达――</td>\n",
       "      <td>20081231</td>\n",
       "      <td>以新型工业化应对挑战</td>\n",
       "    </tr>\n",
       "    <tr>\n",
       "      <th>2</th>\n",
       "      <td>2</td>\n",
       "      <td>徐壮志｜曹瑞林</td>\n",
       "      <td>人民日報</td>\n",
       "      <td>第1版</td>\n",
       "      <td>2008</td>\n",
       "      <td>新华社北京１２月３０日电（新华社记者徐壮志、解放军报记者曹瑞林）中共中央总书记、国家主席、中...</td>\n",
       "      <td>要闻</td>\n",
       "      <td>NaN</td>\n",
       "      <td>200812</td>\n",
       "      <td>人民日報_20081231_1_3</td>\n",
       "      <td>忠诚于党　热爱人民　报效国家　献身使命　崇尚荣誉</td>\n",
       "      <td>20081231</td>\n",
       "      <td>胡锦涛提出大力培育当代革命军人核心价值观</td>\n",
       "    </tr>\n",
       "    <tr>\n",
       "      <th>3</th>\n",
       "      <td>3</td>\n",
       "      <td>姚大伟｜孙承斌｜李亚杰</td>\n",
       "      <td>人民日報</td>\n",
       "      <td>第1版</td>\n",
       "      <td>2008</td>\n",
       "      <td>12月30日，新年京剧晚会在北京国家大剧院举行。这是演出结束后，胡锦涛、吴邦国、温家宝、贾庆...</td>\n",
       "      <td>要闻</td>\n",
       "      <td>NaN</td>\n",
       "      <td>200812</td>\n",
       "      <td>人民日報_20081231_1_4</td>\n",
       "      <td>胡锦涛吴邦国温家宝贾庆林李长春习近平李克强贺国强周永康出席观看</td>\n",
       "      <td>20081231</td>\n",
       "      <td>新年京剧晚会在京举行</td>\n",
       "    </tr>\n",
       "    <tr>\n",
       "      <th>4</th>\n",
       "      <td>4</td>\n",
       "      <td>林红梅</td>\n",
       "      <td>人民日報</td>\n",
       "      <td>第1版</td>\n",
       "      <td>2008</td>\n",
       "      <td>据新华社北京１２月３０日电（记者林红梅）国务院总理温家宝日前签署了第５４３、５４４、５４５号...</td>\n",
       "      <td>要闻</td>\n",
       "      <td>NaN</td>\n",
       "      <td>200812</td>\n",
       "      <td>人民日報_20081231_1_5</td>\n",
       "      <td>NaN</td>\n",
       "      <td>20081231</td>\n",
       "      <td>修订后的公路管理条例、水路运输管理条例、航道管理条例元旦起施行</td>\n",
       "    </tr>\n",
       "  </tbody>\n",
       "</table>\n",
       "</div>"
      ],
      "text/plain": [
       "   Unnamed: 0       author compilation_name compilation_vol  corpus  \\\n",
       "0           0          NaN             人民日報             第1版    2008   \n",
       "1           1           王炜             人民日報             第1版    2008   \n",
       "2           2      徐壮志｜曹瑞林             人民日報             第1版    2008   \n",
       "3           3  姚大伟｜孙承斌｜李亚杰             人民日報             第1版    2008   \n",
       "4           4          林红梅             人民日報             第1版    2008   \n",
       "\n",
       "                                         doc_content docclass  doctype  \\\n",
       "0  本报评论员一个社会的前行，一个国家的发展，往往来自于深切的忧患意识和责任意识，来自于对未来的...       要闻      NaN   \n",
       "1  本报记者王炜1978年，退伍军人胡友林在苏北小城盐城创办了一家小企业。30年以后，这家小企业...       要闻      NaN   \n",
       "2  新华社北京１２月３０日电（新华社记者徐壮志、解放军报记者曹瑞林）中共中央总书记、国家主席、中...       要闻      NaN   \n",
       "3  12月30日，新年京剧晚会在北京国家大剧院举行。这是演出结束后，胡锦涛、吴邦国、温家宝、贾庆...       要闻      NaN   \n",
       "4  据新华社北京１２月３０日电（记者林红梅）国务院总理温家宝日前签署了第５４３、５４４、５４５号...       要闻      NaN   \n",
       "\n",
       "      era           filename                        sub_title  \\\n",
       "0  200812  人民日報_20081231_1_1       ――认真学习贯彻胡锦涛同志“一二・一八”重要讲话之八   \n",
       "1  200812  人民日報_20081231_1_2                           江苏悦达――   \n",
       "2  200812  人民日報_20081231_1_3         忠诚于党　热爱人民　报效国家　献身使命　崇尚荣誉   \n",
       "3  200812  人民日報_20081231_1_4  胡锦涛吴邦国温家宝贾庆林李长春习近平李克强贺国强周永康出席观看   \n",
       "4  200812  人民日報_20081231_1_5                              NaN   \n",
       "\n",
       "   timeseq_not_before                            title  \n",
       "0            20081231                  推进改革开放伟大事业的战略部署  \n",
       "1            20081231                       以新型工业化应对挑战  \n",
       "2            20081231             胡锦涛提出大力培育当代革命军人核心价值观  \n",
       "3            20081231                       新年京剧晚会在京举行  \n",
       "4            20081231  修订后的公路管理条例、水路运输管理条例、航道管理条例元旦起施行  "
      ]
     },
     "execution_count": 64,
     "metadata": {},
     "output_type": "execute_result"
    }
   ],
   "source": [
    "##############################################################################\n",
    "# 讀取 xlsx 成為 dataframe\n",
    "year_doc=\"2008\"\n",
    "import pandas as pd\n",
    "fname=str(year_doc)+\".xlsx\"\n",
    "df=pd.read_excel(path+\"人民日報_xlsx/\"+fname, 0)\n",
    "df.head()"
   ]
  },
  {
   "cell_type": "code",
   "execution_count": 65,
   "metadata": {
    "scrolled": true
   },
   "outputs": [
    {
     "data": {
      "text/plain": [
       "人民日報    34373\n",
       "Name: compilation_name, dtype: int64"
      ]
     },
     "execution_count": 65,
     "metadata": {},
     "output_type": "execute_result"
    }
   ],
   "source": [
    "pd.value_counts(df.compilation_name)"
   ]
  },
  {
   "cell_type": "markdown",
   "metadata": {},
   "source": [
    "# 結巴斷詞\n",
    "* 官方網頁 https://github.com/fxsjy/jieba\n",
    "* 使用前要先安裝, 在命令提示字元\n",
    "* pip install jieba, 如果不行請試 easy_install jieba 或者 pip3 install jieba"
   ]
  },
  {
   "cell_type": "markdown",
   "metadata": {},
   "source": [
    "## 含詞性註記\n",
    "* https://blog.csdn.net/suibianshen2012/article/details/53487157\n",
    "* a 形容词\n",
    "* ad 副形词\n",
    "* m 数词\n",
    "* n 名词\n",
    "* nr 人名\n",
    "* ns 地名\n",
    "* nt 机构团体\n",
    "* nz 其他专名\n",
    "* p 介词\n",
    "* q 量词\n",
    "* r 代词\n",
    "* s 处所词\n",
    "* t 时间词\n",
    "* v 动词\n",
    "* w 标点符号\n",
    "* c 連詞\n",
    "* u 助詞\n",
    "* xc 其他虛詞\n",
    "* un 未知词\n",
    "* x 非语素字只是一个符号，字母 x通常用于代表未知数、符号。"
   ]
  },
  {
   "cell_type": "code",
   "execution_count": 66,
   "metadata": {},
   "outputs": [],
   "source": [
    "import sys\n",
    "import jieba\n",
    "import jieba.posseg as pseg\n",
    "import jieba.analyse\n",
    "from optparse import OptionParser\n",
    "import re"
   ]
  },
  {
   "cell_type": "markdown",
   "metadata": {},
   "source": [
    "## 從語料庫製作 userdic"
   ]
  },
  {
   "cell_type": "code",
   "execution_count": 67,
   "metadata": {},
   "outputs": [],
   "source": [
    "corpus_list=[\"革命楷模\",\"歷史人物\",\"黨國幹部\",\"文藝學者\",\"官職\",\"會議\",\"易錯詞\",\"政策目標\",\"政策作為\",\"政策議題\",\"貶抑詞\",\"反革命\",\"鬥爭\",\"歌功頌德\",\"效忠黨國\",\"褒獎詞\",\"道德\",\"學習\",\"科學\",\"行動\",\"台湾\"]\n",
    "dic=[]\n",
    "for c in corpus_list:\n",
    "    c1=open(path + \"corpus/\"+c+\".txt\",'r',encoding='utf-8').read().split()\n",
    "    dic+=c1\n",
    "userdic=\"\\n\".join(list(set(dic)))    \n",
    "\n",
    "with open(path+\"corpus/userdic.txt\", 'w', encoding='utf8') as f:\n",
    "    f.write(userdic)\n",
    "    f.close() "
   ]
  },
  {
   "cell_type": "markdown",
   "metadata": {},
   "source": [
    "## 結巴斷詞"
   ]
  },
  {
   "cell_type": "code",
   "execution_count": 68,
   "metadata": {},
   "outputs": [
    {
     "name": "stdout",
     "output_type": "stream",
     "text": [
      "0 done\n",
      "1000 done\n",
      "2000 done\n",
      "3000 done\n",
      "4000 done\n",
      "5000 done\n",
      "6000 done\n",
      "7000 done\n",
      "8000 done\n",
      "9000 done\n",
      "10000 done\n",
      "11000 done\n",
      "12000 done\n",
      "13000 done\n",
      "14000 done\n",
      "15000 done\n",
      "16000 done\n",
      "17000 done\n",
      "18000 done\n",
      "19000 done\n",
      "20000 done\n",
      "21000 done\n",
      "22000 done\n",
      "23000 done\n",
      "24000 done\n",
      "25000 done\n",
      "26000 done\n",
      "27000 done\n",
      "28000 done\n",
      "29000 done\n",
      "30000 done\n",
      "31000 done\n",
      "32000 done\n",
      "33000 done\n",
      "34000 done\n"
     ]
    }
   ],
   "source": [
    "# 結巴斷詞，先去除雜訊\n",
    "token=[]\n",
    "pos=[]\n",
    "# 呼叫自行定義的詞典(增加詞彙) \n",
    "jieba.load_userdict( path+ \"corpus/userdic.txt\") \n",
    "for n in range(len(df)):\n",
    "    s=df.doc_content[n]  \n",
    "    # 結巴斷詞，斷詞後存成 string，中間空白隔開\n",
    "    res=[]\n",
    "    flag=[]\n",
    "    try:\n",
    "        s=re.sub('[、 ]', '', s)\n",
    "        result = pseg.cut(s)   \n",
    "        for w in result:\n",
    "            if w.word!=\" \":\n",
    "                res.append(w.word)\n",
    "                flag.append(w.flag)      \n",
    "        tok=' '.join(res)\n",
    "        po=\" \".join(flag) \n",
    "    except:\n",
    "        tok=\"\"\n",
    "        po=\"\"\n",
    "    token.append(tok) \n",
    "    pos.append(po)\n",
    "    # 計數\n",
    "    if n%1000==0:\n",
    "        print (n, \"done\",end=\";\")  "
   ]
  },
  {
   "cell_type": "code",
   "execution_count": 69,
   "metadata": {
    "scrolled": true
   },
   "outputs": [
    {
     "data": {
      "text/html": [
       "<div>\n",
       "<style scoped>\n",
       "    .dataframe tbody tr th:only-of-type {\n",
       "        vertical-align: middle;\n",
       "    }\n",
       "\n",
       "    .dataframe tbody tr th {\n",
       "        vertical-align: top;\n",
       "    }\n",
       "\n",
       "    .dataframe thead th {\n",
       "        text-align: right;\n",
       "    }\n",
       "</style>\n",
       "<table border=\"1\" class=\"dataframe\">\n",
       "  <thead>\n",
       "    <tr style=\"text-align: right;\">\n",
       "      <th></th>\n",
       "      <th>Unnamed: 0</th>\n",
       "      <th>author</th>\n",
       "      <th>compilation_name</th>\n",
       "      <th>compilation_vol</th>\n",
       "      <th>corpus</th>\n",
       "      <th>doc_content</th>\n",
       "      <th>docclass</th>\n",
       "      <th>doctype</th>\n",
       "      <th>era</th>\n",
       "      <th>filename</th>\n",
       "      <th>sub_title</th>\n",
       "      <th>timeseq_not_before</th>\n",
       "      <th>title</th>\n",
       "      <th>token</th>\n",
       "      <th>pos</th>\n",
       "    </tr>\n",
       "  </thead>\n",
       "  <tbody>\n",
       "    <tr>\n",
       "      <th>0</th>\n",
       "      <td>0</td>\n",
       "      <td>NaN</td>\n",
       "      <td>人民日報</td>\n",
       "      <td>第1版</td>\n",
       "      <td>2008</td>\n",
       "      <td>本报评论员一个社会的前行，一个国家的发展，往往来自于深切的忧患意识和责任意识，来自于对未来的...</td>\n",
       "      <td>要闻</td>\n",
       "      <td>NaN</td>\n",
       "      <td>200812</td>\n",
       "      <td>人民日報_20081231_1_1</td>\n",
       "      <td>――认真学习贯彻胡锦涛同志“一二・一八”重要讲话之八</td>\n",
       "      <td>20081231</td>\n",
       "      <td>推进改革开放伟大事业的战略部署</td>\n",
       "      <td>本报 评论员 一个 社会 的 前行 ， 一个国家 的 发展 ， 往往 来自 于 深切 的 忧...</td>\n",
       "      <td>r n m n uj v x x uj vn x t v p a uj i c n x v ...</td>\n",
       "    </tr>\n",
       "    <tr>\n",
       "      <th>1</th>\n",
       "      <td>1</td>\n",
       "      <td>王炜</td>\n",
       "      <td>人民日報</td>\n",
       "      <td>第1版</td>\n",
       "      <td>2008</td>\n",
       "      <td>本报记者王炜1978年，退伍军人胡友林在苏北小城盐城创办了一家小企业。30年以后，这家小企业...</td>\n",
       "      <td>要闻</td>\n",
       "      <td>NaN</td>\n",
       "      <td>200812</td>\n",
       "      <td>人民日報_20081231_1_2</td>\n",
       "      <td>江苏悦达――</td>\n",
       "      <td>20081231</td>\n",
       "      <td>以新型工业化应对挑战</td>\n",
       "      <td>本报记者 王炜 1978 年 ， 退伍军人 胡友林 在 苏北 小城 盐城 创办 了 一家 小...</td>\n",
       "      <td>n nr m m x n nr p ns n ns v ul m n x m m f x r...</td>\n",
       "    </tr>\n",
       "    <tr>\n",
       "      <th>2</th>\n",
       "      <td>2</td>\n",
       "      <td>徐壮志｜曹瑞林</td>\n",
       "      <td>人民日報</td>\n",
       "      <td>第1版</td>\n",
       "      <td>2008</td>\n",
       "      <td>新华社北京１２月３０日电（新华社记者徐壮志、解放军报记者曹瑞林）中共中央总书记、国家主席、中...</td>\n",
       "      <td>要闻</td>\n",
       "      <td>NaN</td>\n",
       "      <td>200812</td>\n",
       "      <td>人民日報_20081231_1_3</td>\n",
       "      <td>忠诚于党　热爱人民　报效国家　献身使命　崇尚荣誉</td>\n",
       "      <td>20081231</td>\n",
       "      <td>胡锦涛提出大力培育当代革命军人核心价值观</td>\n",
       "      <td>新华社 北京 １ ２ 月 ３ ０ 日电 （ 新华社 记者 徐壮志 解放军报 记者 曹瑞林 ）...</td>\n",
       "      <td>nt ns x x m x x j x nt n nr nt n nr x x x x nr...</td>\n",
       "    </tr>\n",
       "    <tr>\n",
       "      <th>3</th>\n",
       "      <td>3</td>\n",
       "      <td>姚大伟｜孙承斌｜李亚杰</td>\n",
       "      <td>人民日報</td>\n",
       "      <td>第1版</td>\n",
       "      <td>2008</td>\n",
       "      <td>12月30日，新年京剧晚会在北京国家大剧院举行。这是演出结束后，胡锦涛、吴邦国、温家宝、贾庆...</td>\n",
       "      <td>要闻</td>\n",
       "      <td>NaN</td>\n",
       "      <td>200812</td>\n",
       "      <td>人民日報_20081231_1_4</td>\n",
       "      <td>胡锦涛吴邦国温家宝贾庆林李长春习近平李克强贺国强周永康出席观看</td>\n",
       "      <td>20081231</td>\n",
       "      <td>新年京剧晚会在京举行</td>\n",
       "      <td>12 月 30 日 ， 新年 京剧 晚会 在 北京 国家大剧院 举行 。 这 是 演出 结束...</td>\n",
       "      <td>m m m m x t n n p ns nt v x r v v v f x nr nr ...</td>\n",
       "    </tr>\n",
       "    <tr>\n",
       "      <th>4</th>\n",
       "      <td>4</td>\n",
       "      <td>林红梅</td>\n",
       "      <td>人民日報</td>\n",
       "      <td>第1版</td>\n",
       "      <td>2008</td>\n",
       "      <td>据新华社北京１２月３０日电（记者林红梅）国务院总理温家宝日前签署了第５４３、５４４、５４５号...</td>\n",
       "      <td>要闻</td>\n",
       "      <td>NaN</td>\n",
       "      <td>200812</td>\n",
       "      <td>人民日報_20081231_1_5</td>\n",
       "      <td>NaN</td>\n",
       "      <td>20081231</td>\n",
       "      <td>修订后的公路管理条例、水路运输管理条例、航道管理条例元旦起施行</td>\n",
       "      <td>据 新华社 北京 １ ２ 月 ３ ０ 日电 （ 记者 林红梅 ） 国务院总理 温家宝 日前 ...</td>\n",
       "      <td>p nt ns x x m x x j x n nr x x nr t v ul m x x...</td>\n",
       "    </tr>\n",
       "  </tbody>\n",
       "</table>\n",
       "</div>"
      ],
      "text/plain": [
       "   Unnamed: 0       author compilation_name compilation_vol  corpus  \\\n",
       "0           0          NaN             人民日報             第1版    2008   \n",
       "1           1           王炜             人民日報             第1版    2008   \n",
       "2           2      徐壮志｜曹瑞林             人民日報             第1版    2008   \n",
       "3           3  姚大伟｜孙承斌｜李亚杰             人民日報             第1版    2008   \n",
       "4           4          林红梅             人民日報             第1版    2008   \n",
       "\n",
       "                                         doc_content docclass  doctype  \\\n",
       "0  本报评论员一个社会的前行，一个国家的发展，往往来自于深切的忧患意识和责任意识，来自于对未来的...       要闻      NaN   \n",
       "1  本报记者王炜1978年，退伍军人胡友林在苏北小城盐城创办了一家小企业。30年以后，这家小企业...       要闻      NaN   \n",
       "2  新华社北京１２月３０日电（新华社记者徐壮志、解放军报记者曹瑞林）中共中央总书记、国家主席、中...       要闻      NaN   \n",
       "3  12月30日，新年京剧晚会在北京国家大剧院举行。这是演出结束后，胡锦涛、吴邦国、温家宝、贾庆...       要闻      NaN   \n",
       "4  据新华社北京１２月３０日电（记者林红梅）国务院总理温家宝日前签署了第５４３、５４４、５４５号...       要闻      NaN   \n",
       "\n",
       "      era           filename                        sub_title  \\\n",
       "0  200812  人民日報_20081231_1_1       ――认真学习贯彻胡锦涛同志“一二・一八”重要讲话之八   \n",
       "1  200812  人民日報_20081231_1_2                           江苏悦达――   \n",
       "2  200812  人民日報_20081231_1_3         忠诚于党　热爱人民　报效国家　献身使命　崇尚荣誉   \n",
       "3  200812  人民日報_20081231_1_4  胡锦涛吴邦国温家宝贾庆林李长春习近平李克强贺国强周永康出席观看   \n",
       "4  200812  人民日報_20081231_1_5                              NaN   \n",
       "\n",
       "   timeseq_not_before                            title  \\\n",
       "0            20081231                  推进改革开放伟大事业的战略部署   \n",
       "1            20081231                       以新型工业化应对挑战   \n",
       "2            20081231             胡锦涛提出大力培育当代革命军人核心价值观   \n",
       "3            20081231                       新年京剧晚会在京举行   \n",
       "4            20081231  修订后的公路管理条例、水路运输管理条例、航道管理条例元旦起施行   \n",
       "\n",
       "                                               token  \\\n",
       "0  本报 评论员 一个 社会 的 前行 ， 一个国家 的 发展 ， 往往 来自 于 深切 的 忧...   \n",
       "1  本报记者 王炜 1978 年 ， 退伍军人 胡友林 在 苏北 小城 盐城 创办 了 一家 小...   \n",
       "2  新华社 北京 １ ２ 月 ３ ０ 日电 （ 新华社 记者 徐壮志 解放军报 记者 曹瑞林 ）...   \n",
       "3  12 月 30 日 ， 新年 京剧 晚会 在 北京 国家大剧院 举行 。 这 是 演出 结束...   \n",
       "4  据 新华社 北京 １ ２ 月 ３ ０ 日电 （ 记者 林红梅 ） 国务院总理 温家宝 日前 ...   \n",
       "\n",
       "                                                 pos  \n",
       "0  r n m n uj v x x uj vn x t v p a uj i c n x v ...  \n",
       "1  n nr m m x n nr p ns n ns v ul m n x m m f x r...  \n",
       "2  nt ns x x m x x j x nt n nr nt n nr x x x x nr...  \n",
       "3  m m m m x t n n p ns nt v x r v v v f x nr nr ...  \n",
       "4  p nt ns x x m x x j x n nr x x nr t v ul m x x...  "
      ]
     },
     "execution_count": 69,
     "metadata": {},
     "output_type": "execute_result"
    }
   ],
   "source": [
    "df[\"token\"]=token\n",
    "df[\"pos\"]=pos\n",
    "df.head()"
   ]
  },
  {
   "cell_type": "code",
   "execution_count": 70,
   "metadata": {},
   "outputs": [
    {
     "name": "stdout",
     "output_type": "stream",
     "text": [
      "新华社 记者 王立彬 ２ ０ ０ ７ 年 以来 ， 我国 大力 推进 土地 节约 集约 利用 ， 取得 积极 成果 。 国家 进一步 加强 土地利用 规划 的 实施 管理 ， 做好 农地 转用 审批 的 规划 审查 ， 全面落实 土地 用途 管制 制度 。 通过 加强 用地 预审 ， 土地利用 年度计划 得到 较 好 执行 。 ２ ０ ０ ７ 年前 三季度 ， 全国 新增 建设 用地 计划指标 已 使用 ２ ４ ． ８ ７ 万公顷 ， 占 全年 计划 的 ６ ４ ． ３ ％ 。 在 报 国务院 批准 的 城市 建设 用地 中 ， 共 核减 ４ ７ 个 城市用地 １ ． １ ７ 万公顷 ， 核减 新增 建设 用地 ５ ６ ９ ２ ． ８ 公顷 ， 减少 占用 耕地 ３ ５ ９ ９ ． ７ 公顷 。 从严 审查 报 国务院 审批 的 单独 选址 项目 用地 ， 全年 批准 ４ １ ７ 个 项目 １ ０ ． １ ３ 万公顷 用地 ， 核减 不合理 用地 ８ ５ ０ ． ０ ９ 公顷 ， 其中 耕地 ５ ８ ２ ． ４ ７ 公顷 。 国土资源部 起草 了 省级 政府 耕地保护 责任 目标 考核 工作 方案 ， 全国 有 ２ ２ 个 省 （ 区 市 ） 签订 了 耕地保护 责任书 。 国家 加快 了 土地 使用 标准 的 修订 与 新编 ， 土地 使用 的 标准 体系 进一步 完善 。 目前 ， 高等院校 图书馆 文化馆 博物馆 建设 用地 指标 编制 和 公路 铁路 民用机场 电力 等 重点 行业 建设 用地 指标 修订 进展 顺利 。 国家 进一步 明确 了 闲置 土地 处置 政策 和 防止 土地 闲置 的 政策措施 ， 部署 了 开展 闲置 土地 专项 清理 处置 工作 。 要求 各地 在 今年 ６ 月底 前 全面完成 清理 工作 。 同时 稳步 推进 工业用地 招标 拍卖 挂牌 出让 。 据 全国 土地 市场动态 监测 ， ２ ０ ０ ６ 年 １ ２ 月 至 ２ ０ ０ ７ 年 ８ 月 ， 以 招标 拍卖 挂牌 方式 供应 工业用地 １ ８ ． ６ 万亩 ， 同比增加 ６ ． ７ 倍 ， 占 工业用地 供应 总量 的 １ ３ ％ ， 同比 提高 １ ０ ． ３ 个 百分点 。 集约 用地 评价 试点工作 取得 突破性 进展 。 南通 成都 两 市集 约 用地 评价 试点工作 已经 完成 。 在 完成 的 １ ０ 个 国家级 开发区 土地 集约 利用 评价 试点 总结 工作 的 同时 ， 部署 开展 了 ４ 个 国家级 开发区 土地 集约 利用 评价 试点工作 。 ２ ０ ０ ７ 年 ， 建设 用地 税费 政策 和 规范 土地出让 收支 管理 政策 得到 进一步 落实 。 国土资源部 配合 财政部 ， 调整 了 新增 建设 用地 土地 有偿 使用费 政策 调整 中央 分成 的 新增 建设 用地 土地 有偿 使用费 分配 方式 等 ， 将 中央 资金 向 基本农田 多 的 地区 和 粮食 主产地 倾斜 。 通过 修订 城镇 土地 使用税 暂行条例 和 耕地 占用 税 暂行条例 ， 将 城镇 土地 使用税 在 原有 基础 上 提高 ２ 倍 ， 将 耕地 占用 税 提高 了 ４ 倍 。 土地 督查 和 执法 监察 的 作用 进一步 得到 发挥 。 目前 ， 已 落实 督查 工作人员 １ ３ ３ 人 ， 先后 对 １ ２ 个 省 （ 市 ） 开展 了 专项 督察 ， 向 北京 河南 等 １ ２ 省 （ 市 ） 发送 督查 建议书 。 ２ ０ ０ ７ 年 ９ 月 中旬 ， 全国 土地 执法 百日 行动 启动 ， 目前 已 结案 ５ ． ７ ６ 万件 ， 收缴 土地 ６ ６ ０ ５ 公顷 ， 罚没款 １ ８ ． ４ 亿元 。 （ 据 新华社 北京 １ 月 １ ２ 日电 ）\n"
     ]
    }
   ],
   "source": [
    "import random\n",
    "n=random.randint(0,len(df))\n",
    "print (token[n])"
   ]
  },
  {
   "cell_type": "code",
   "execution_count": 71,
   "metadata": {},
   "outputs": [
    {
     "data": {
      "text/plain": [
       "'新华社 记者 王立彬 ２ ０ ０ ７ 年 以来 ， 我国 大力 推进 土地 节约 集约 利用 ， 取得 积极 成果 。 国家 进一步 加强 土地利用 规划 的 实施 管理 ， 做好 农地 转用 审批 的 规划 审查 ， 全面落实 土地 用途 管制 制度 。 通过 加强 用地 预审 ， 土地利用 年度计划 得到 较 好 执行 。 ２ ０ ０ ７ 年前 三季度 ， 全国 新增 建设 用地 计划指标 已 使用 ２ ４ ． ８ ７ 万公顷 ， 占 全年 计划 的 ６ ４ ． ３ ％ 。 在 报 国务院 批准 的 城市 建设 用地 中 ， 共 核减 ４ ７ 个 城市用地 １ ． １ ７ 万公顷 ， 核减 新增 建设 用地 ５ ６ ９ ２ ． ８ 公顷 ， 减少 占用 耕地 ３ ５ ９ ９ ． ７ 公顷 。 从严 审查 报 国务院 审批 的 单独 选址 项目 用地 ， 全年 批准 ４ １ ７ 个 项目 １ ０ ． １ ３ 万公顷 用地 ， 核减 不合理 用地 ８ ５ ０ ． ０ ９ 公顷 ， 其中 耕地 ５ ８ ２ ． ４ ７ 公顷 。 国土资源部 起草 了 省级 政府 耕地保护 责任 目标 考核 工作 方案 ， 全国 有 ２ ２ 个 省 （ 区 市 ） 签订 了 耕地保护 责任书 。 国家 加快 了 土地 使用 标准 的 修订 与 新编 ， 土地 使用 的 标准 体系 进一步 完善 。 目前 ， 高等院校 图书馆 文化馆 博物馆 建设 用地 指标 编制 和 公路 铁路 民用机场 电力 等 重点 行业 建设 用地 指标 修订 进展 顺利 。 国家 进一步 明确 了 闲置 土地 处置 政策 和 防止 土地 闲置 的 政策措施 ， 部署 了 开展 闲置 土地 专项 清理 处置 工作 。 要求 各地 在 今年 ６ 月底 前 全面完成 清理 工作 。 同时 稳步 推进 工业用地 招标 拍卖 挂牌 出让 。 据 全国 土地 市场动态 监测 ， ２ ０ ０ ６ 年 １ ２ 月 至 ２ ０ ０ ７ 年 ８ 月 ， 以 招标 拍卖 挂牌 方式 供应 工业用地 １ ８ ． ６ 万亩 ， 同比增加 ６ ． ７ 倍 ， 占 工业用地 供应 总量 的 １ ３ ％ ， 同比 提高 １ ０ ． ３ 个 百分点 。 集约 用地 评价 试点工作 取得 突破性 进展 。 南通 成都 两 市集 约 用地 评价 试点工作 已经 完成 。 在 完成 的 １ ０ 个 国家级 开发区 土地 集约 利用 评价 试点 总结 工作 的 同时 ， 部署 开展 了 ４ 个 国家级 开发区 土地 集约 利用 评价 试点工作 。 ２ ０ ０ ７ 年 ， 建设 用地 税费 政策 和 规范 土地出让 收支 管理 政策 得到 进一步 落实 。 国土资源部 配合 财政部 ， 调整 了 新增 建设 用地 土地 有偿 使用费 政策 调整 中央 分成 的 新增 建设 用地 土地 有偿 使用费 分配 方式 等 ， 将 中央 资金 向 基本农田 多 的 地区 和 粮食 主产地 倾斜 。 通过 修订 城镇 土地 使用税 暂行条例 和 耕地 占用 税 暂行条例 ， 将 城镇 土地 使用税 在 原有 基础 上 提高 ２ 倍 ， 将 耕地 占用 税 提高 了 ４ 倍 。 土地 督查 和 执法 监察 的 作用 进一步 得到 发挥 。 目前 ， 已 落实 督查 工作人员 １ ３ ３ 人 ， 先后 对 １ ２ 个 省 （ 市 ） 开展 了 专项 督察 ， 向 北京 河南 等 １ ２ 省 （ 市 ） 发送 督查 建议书 。 ２ ０ ０ ７ 年 ９ 月 中旬 ， 全国 土地 执法 百日 行动 启动 ， 目前 已 结案 ５ ． ７ ６ 万件 ， 收缴 土地 ６ ６ ０ ５ 公顷 ， 罚没款 １ ８ ． ４ 亿元 。 （ 据 新华社 北京 １ 月 １ ２ 日电 ）'"
      ]
     },
     "execution_count": 71,
     "metadata": {},
     "output_type": "execute_result"
    }
   ],
   "source": [
    "token[n]"
   ]
  },
  {
   "cell_type": "code",
   "execution_count": 72,
   "metadata": {},
   "outputs": [
    {
     "name": "stdout",
     "output_type": "stream",
     "text": [
      "34373\n",
      "32784\n"
     ]
    }
   ],
   "source": [
    "# 刪除 doc_content 是 nan 者\n",
    "print (len(df))\n",
    "df = df.dropna(subset=[\"doc_content\"])\n",
    "df.index=range(len(df))\n",
    "print (len(df))"
   ]
  },
  {
   "cell_type": "code",
   "execution_count": 73,
   "metadata": {},
   "outputs": [
    {
     "data": {
      "text/plain": [
       "'本报记者王炜1978年，退伍军人胡友林在苏北小城盐城创办了一家小企业。30年以后，这家小企业已发展成在国内外拥有2家上市公司、30多家分子公司、200多亿元总资产的大型重点国有企业――江苏悦达集团，并跻身全国重点企业百强、江苏省重点规模企业10强、江苏长江以北地区第一大国有企业行列。悦达有很多“第一”：第一个在盐城推行承包制，第一个在盐城创办大规模中外合资企业，第一家在苏北组建企业集团，江苏第一家在香港发行上市的红筹股……盐城市人大常委会副主任、悦达集团创始人、现任董事局主席胡友林告诉记者，“企业发展过程中，并不是第一次遇到危机。坚持发展和开放，恰恰是应对危机的最好方式。”“东方不亮西方亮”――产业多元化，相互扶持，共担风险12月中旬，记者来到悦达纺织业的大本营――占地3000亩的悦达纺织科技工业园。与江浙地区有的纺织企业处于停产、半停产甚至倒闭的景象不同的是，悦达除了纺织一厂和三厂约有15%的机器暂时停转，所有设备都在加紧生产。特别是生产高端面料的纺织二厂，更是满负荷运转。园区的另外一边，纺织园三期工程建设并未因金融危机的影响而停下步伐。预计明年3月将建成试车，整个园区的生产规模将从现有的25万锭增加到45万锭。当纺织业危机重重的时候，为什么悦达受冲击较小，在现有规模上还能不断扩张？追踪悦达纺织品的流向能够看出：除了正常的销售渠道，悦达的大量纺织品进入了遍布全世界的家乐福等国际大型连锁超市。家乐福超市等零售企业，恰是悦达多元化战略的重要组成部分。从创业最初的煤炭贸易起家，多年来，悦达一直坚持实施多元化战略。翻开悦达的“版图”：汽车、纺织、农用机械、专用车、妇女时装、能源矿产、公路投资、现代服务、现代农业产业示范园……悦达涉及的产业跨度极大。同时，悦达的多元化，带动了苏北新型工业化的加速布局。金融危机面前，多元化优势开始显现。一方面，纺织业和零售业、汽车业的“产销一条龙”，有效延伸了产品的产业链，缓解了订单减少带来的压力。另一方面，受金融危机影响，部分制造业企业现金流十分紧张。这时，公路投资和煤炭、有色金属等带来的稳定现金流，有效缓解了集团旗下其他企业的资金压力，并为这些企业的持续发展提供了支持。据介绍，根据现在的市场价测算，目前悦达拥有的公路、矿产等资源总价值超过1000亿元。预计到2010年，这些产业将为集团带来超过30亿元的现金流。在“现金为王”的特殊时期，企业的进一步发展有了保障。“绝不小打小闹”――规模化、高端化迎来发展春天为什么悦达的多元化成为应对危机的法宝？纺织业同样能给出答案。2003年，悦达进军纺织业之初，就明确了瞄准中高端市场、提高产品科技含量、走差别化道路的发展目标。目前，悦达的高档纱线和高档家纺产品已有相当名气；汽车装饰布已经进入奔驰、宝马等高档轿车市场；三期建成后将形成的1000台家纺宽幅织机规模，位居亚洲第一。在纺织品市场需求大幅减少的情况下，悦达所生产的中高端产品的需求受的影响很小，也确保了产品能打进家乐福等零售商的庞大销售渠道。在其他行业，悦达的产品同样具有较强的抵御风险能力。在今年销售增幅趋缓的情况下，汽车销量仍然增加了40%，得益于小排量、中低价位的“国情车”；“黄海金马”大马力拖拉机出口连续5年第一；垃圾专用车已形成年产5000台规模，产销量位居全国第三……现在的悦达，每涉足一个行业，都力争在行业中处于领先地位。“如果每个产业都小打小闹，缺乏竞争力，涉足的行业越多，反而‘死的’越快。”胡友林说，装备高端化、产品差别化和生产规模化，是多元化成功的基础。“和高手过招”――国际化拓宽销售渠道，帮助打造“悦达系”晚上5点多，在悦达与世界著名女性内衣品牌德国黛安芬的合资公司――盐城国际妇女时装有限公司生产车间里，员工们依然在忙碌着。金融危机来袭，该公司的订单仍然持续增长。仔细查看悦达多元化涉及的每个行业，汽车与韩国现代起亚合作，专用车与日本富士重工合作，零售业与法国家乐福合作，纺织业与德国黛安芬、艾文德合作，拖拉机与印度马恒达合作……几乎每个行业都与行业内的世界著名企业合作。目前，悦达已经与包括3家世界500强在内的全球12家顶级公司实现了密切地合资合作。这在国内企业中并不多见。“多元化必须依赖国际化，和高手过招。”胡友林说，跨国公司庞大的销售渠道和丰富的营销经验，保证了悦达的产品销售稳定增长。在全球经济不景气的情况下，这一作用尤为关键。悦达集团原总工程师王均亮认为，从世界一流企业学到的最核心的东西，就是如何管理、构建一个多元化的大集团的股权结构，打造“悦达系”。现在悦达结构虽然非常庞大，脚步尽管很快，但每一步都走得很稳。带动一个城市的希望――特殊时期，地方政府大开“绿灯”最近，盐城市市委书记赵鹏、市长李强正在多方协调，为东风悦达起亚争取更多的江苏省政府公务车采购和引导出租车公司采购的订单。“受金融危机的冲击，汽车产业销量增幅下降，政府必须在特殊时期采取特殊扶持措施，帮助企业推动销售。”赵鹏说。为了支持汽车产业的发展，盐城市政府专门成立了“汽车办”，对汽车企业和相关配套企业提供服务和优惠，并不断完善汽车产业链，中国汽车电子研究院近期刚刚在盐城落户。地方政府的有力支持，是企业应对金融危机最有力的支持。而盐城市之所以格外“关照”悦达，缘于悦达多年来对盐城的贡献。2003年，起亚二期项目原计划建在江苏一座经济更发达、投资环境更好的城市，当地政府给出了土地出让收益全免的优惠条件。当时，胡友林被查出肝癌，在急需手术治疗的情况下，仍坚持推迟手术时间，与韩方进行了艰苦谈判。同时，胡友林拒绝了其他地区承诺给他的“招商引资奖励”，最终把这个对地方经济拉动巨大的项目留在了盐城。据东风悦达起亚有限公司副总经理解子胜介绍，仅2008年，东风悦达起亚上缴的利税就超过10亿元，相关配套产业上缴利税7.1亿元。45万台产能全部达产后，预计仅整车厂每年就可实现销售收入600亿―700亿元，直接上缴税收45亿元左右。连同上下游产业链，汽车产业集群销售收入将达到2400亿元。“悦达投资的方向很多，如果纯粹为了利润，没有理由介入汽车行业。”胡友林说，“但着眼盐城经济发展大局，即使没有优势，也必须上汽车项目。”汽车如此，上纺织更是如此。盐城是产棉大市，也是纺织大市，但起点低、产业链短、附加值低。悦达高技术含量、高附加值的纺织项目上马，有效带动了整个盐城纺织业的发展，同时解决了大量劳动力就业问题。近5年来，悦达已累计上缴地方税收近80亿元，直接解决就业3万多人，为社会间接提供就业岗位7万多个。这5年，是悦达大发展、快发展的5年，是悦达巩固、调整、培育后劲的5年，也恰是胡友林被查出肝癌的5年。5年来，胡友林在身患癌症、进行了7次介入、6次化疗、1次肝移植手术的情况下，从来没有放弃和退缩，用生命证明了他希望造福老区人民的心愿。胡友林也被高票选为盐城市人大常委会副主任，并被盐城百姓投票评为“感动盐城第一人。”如何看待形势――寻求兼并重组机会，正视人才短缺风险金融危机面前，悦达并没有选择保守，没有停下发展的脚步。“金融危机既是挑战，也是机遇期。当行业出现困难的时候，恰恰是进行同行业兼并重组的最佳时机。”胡友林一直在寻找危机中的机遇，“只要有足够的现金流，我们就会进行收购。储备力量，等待行业复苏。我相信，几年之后，这将不是简单的1+1的效应了，而是几何级的效应。”据了解，目前悦达已经和浙江、江苏的两家纺织企业达成了初步的收购协议，一旦收购成功，悦达将成为江苏省纺织业的龙头。同时，在陕西、内蒙古、甘肃等地，对几个煤矿、有色金属矿产的收购也在积极推进。“人才短缺将是企业面临的最大风险。”发展的同时，胡友林对风险有着清醒的认识。悦达的多元化、国际化战略，对人才的多样性和国际化要求不断提高。“如果人才队伍跟不上企业发展速度，企业的发展道路也就走到头了。”为了适应多元化的需求，近年来悦达不断招聘和储备人才。“我们在用人上，比一般的国企思想更解放，比民营企业更规范，比外企更有人情味。一直坚持以感情留人、以事业留人、以待遇留人。”胡友林这样总结悦达的人才观。编后江苏悦达集团沐浴着改革开放的春风应运而生,至今已走过30年的不平凡路程。江苏悦达集团迈向而立之年的2008年是不寻常的年份。上半年的原材料等成本快速上涨、下半年金融危机席卷全球，企业生产经营面临着巨大困难。悦达的两大支柱产业――汽车业和纺织业又是受金融危机冲击最严重的两个行业。在这一背景下，位于革命老区苏北盐城的悦达集团仍然交出了一份非常出色的成绩单：1―10月，悦达累计完成营业收入409.2亿元，同比增长40.2%；利税总额29.19亿元，同比增长48.2%；净利润15.23亿元，同比增长116.42%。30年的发展，悦达集团积累了雄厚的多元化发展优势，从容应对全球金融危机的挑战，主动寻找危机中的机遇，为企业的可持续发展提供有力保障。这是悦达集团的可贵之处，也可以为困境中的其他企业提供借鉴。'"
      ]
     },
     "execution_count": 73,
     "metadata": {},
     "output_type": "execute_result"
    }
   ],
   "source": [
    "content=df.doc_content\n",
    "content[1]"
   ]
  },
  {
   "cell_type": "markdown",
   "metadata": {},
   "source": [
    "# 萃取關鍵詞\n",
    "* 本範例是以文章為單位，若以段落、句子為單位，請重新萃取一次。"
   ]
  },
  {
   "cell_type": "markdown",
   "metadata": {},
   "source": [
    "## TF-IDF 算法的关键词抽取\n",
    "* jieba.analyse.extract_tags(sentence, topK=20, withWeight=False, allowPOS=())\n",
    "    * sentence 为待提取的文本\n",
    "    * topK 为返回几个 TF/IDF 权重最大的关键词，默认值为 20\n",
    "    * withWeight 为是否一并返回关键词权重值，默认值为 False\n",
    "    * allowPOS 仅包括指定词性的词，默认值为空，即不筛选"
   ]
  },
  {
   "cell_type": "code",
   "execution_count": 74,
   "metadata": {},
   "outputs": [],
   "source": [
    "import sys\n",
    "# sys.path.append('../')\n",
    "import jieba\n",
    "import jieba.analyse\n",
    "from optparse import OptionParser\n",
    "# 參數設定\n",
    "topK = 100\n",
    "# 設停用字\n",
    "jieba.analyse.set_stop_words(path+\"corpus/deletewords.txt\")\n",
    "# 自訂辭典\n",
    "jieba.load_userdict( path+ \"corpus/userdic.txt\")"
   ]
  },
  {
   "cell_type": "markdown",
   "metadata": {},
   "source": [
    "## 測試"
   ]
  },
  {
   "cell_type": "code",
   "execution_count": 75,
   "metadata": {},
   "outputs": [
    {
     "name": "stdout",
     "output_type": "stream",
     "text": [
      "49\n",
      "tag: 海南\t\t weight: 0.534679\n",
      "tag: 孙家正\t\t weight: 0.502434\n",
      "tag: 旅游\t\t weight: 0.463992\n",
      "tag: 调研\t\t weight: 0.348921\n",
      "tag: 国际\t\t weight: 0.323365\n",
      "tag: 专题\t\t weight: 0.299948\n",
      "tag: 建设\t\t weight: 0.295933\n",
      "tag: 全国政协\t\t weight: 0.206110\n",
      "tag: 海南省\t\t weight: 0.202993\n",
      "tag: 旅游业\t\t weight: 0.188618\n",
      "tag: 海南特区\t\t weight: 0.167478\n",
      "tag: 体制\t\t weight: 0.164455\n",
      "tag: 国务院\t\t weight: 0.156161\n",
      "tag: 机制\t\t weight: 0.145021\n",
      "tag: 30\t\t weight: 0.144033\n",
      "tag: 全国政协副主席\t\t weight: 0.144033\n",
      "tag: 人民政协\t\t weight: 0.141005\n",
      "tag: 通报会\t\t weight: 0.135682\n",
      "tag: 建言献策\t\t weight: 0.133343\n",
      "tag: 原则同意\t\t weight: 0.130237\n",
      "tag: 齐心协力\t\t weight: 0.120345\n",
      "tag: 座谈\t\t weight: 0.119643\n",
      "tag: 解放思想\t\t weight: 0.116120\n",
      "tag: 在讲话中\t\t weight: 0.115786\n",
      "tag: 研讨\t\t weight: 0.112868\n",
      "tag: 北京\t\t weight: 0.112468\n",
      "tag: 深入研究\t\t weight: 0.104713\n",
      "tag: 听取\t\t weight: 0.101003\n",
      "tag: 对外开放\t\t weight: 0.097756\n",
      "tag: 党中央\t\t weight: 0.095752\n",
      "tag: 改革开放\t\t weight: 0.094364\n",
      "tag: 课题\t\t weight: 0.093846\n",
      "tag: 先行\t\t weight: 0.089953\n",
      "tag: 这项\t\t weight: 0.086555\n",
      "tag: 列为\t\t weight: 0.086295\n",
      "tag: 发展\t\t weight: 0.086146\n",
      "tag: 讲话\t\t weight: 0.086069\n",
      "tag: 出席\t\t weight: 0.085101\n",
      "tag: 围绕\t\t weight: 0.081165\n",
      "tag: 试验\t\t weight: 0.080302\n",
      "tag: 发挥\t\t weight: 0.074412\n",
      "tag: 创新\t\t weight: 0.069165\n",
      "tag: 优势\t\t weight: 0.068020\n",
      "tag: 突破\t\t weight: 0.067762\n",
      "tag: 介绍\t\t weight: 0.066681\n",
      "tag: 资源\t\t weight: 0.064599\n",
      "tag: 人口\t\t weight: 0.063952\n",
      "tag: 环境\t\t weight: 0.062434\n",
      "tag: 关注\t\t weight: 0.057924\n"
     ]
    },
    {
     "data": {
      "text/plain": [
       "'本报北京7月30日电全国政协人口资源环境委员会２９日在北京举行海南国际旅游岛建设专题调研情况通报会，听取海南省关于海南国际旅游岛建设的情况介绍，围绕海南国际旅游岛建设问题进行座谈、研讨。全国政协副主席孙家正出席并讲话。孙家正在讲话中指出，党中央、国务院对海南特区的发展特别是旅游业的发展十分关注，今年３月，国务院原则同意海南省在旅游业对外开放和体制机制等方面先行试验。全国政协已将海南国际旅游岛建设问题列为今年的重要调研课题。孙家正指出，为做好这项专题调研，第一要发挥人民政协的优势，积极为改革开放和体制机制创新建言献策。第二要解放思想，深入研究，促进海南国际旅游岛建设取得突破。第三要加强配合，齐心协力，共同做好海南国际旅游岛的专题调研。'"
      ]
     },
     "execution_count": 75,
     "metadata": {},
     "output_type": "execute_result"
    }
   ],
   "source": [
    "# 隨機選取\n",
    "import random\n",
    "n=random.randint(0,len(content))\n",
    "# 擷取關鍵字\n",
    "tags = jieba.analyse.extract_tags(content[n], topK=topK, withWeight=True)\n",
    "# 列印 tfidf 值\n",
    "print(len(tags))\n",
    "for tag in tags:\n",
    "    print(\"tag: %s\\t\\t weight: %f\" % (tag[0],tag[1]))\n",
    "content[n]"
   ]
  },
  {
   "cell_type": "markdown",
   "metadata": {},
   "source": [
    "## tfidf 擷取關鍵字"
   ]
  },
  {
   "cell_type": "code",
   "execution_count": 76,
   "metadata": {},
   "outputs": [],
   "source": [
    "import sys\n",
    "import jieba\n",
    "import jieba.analyse\n",
    "from optparse import OptionParser\n",
    "# 參數設定\n",
    "topK = 100\n",
    "# 設停用字\n",
    "jieba.analyse.set_stop_words(path+\"corpus/deletewords.txt\")\n",
    "# 自訂辭典\n",
    "jieba.load_userdict( path+ \"corpus/userdic.txt\")"
   ]
  },
  {
   "cell_type": "code",
   "execution_count": 80,
   "metadata": {},
   "outputs": [
    {
     "data": {
      "text/plain": [
       "'7月7日，在济南军区抗震救灾前线指挥部，战士代志伟、王廷敏和刘亚威阅读着刚刚送达的人民日报。每天早晨按时投送当天最新的党报党刊，是四川省邮政公司送给抗震救灾子弟兵的一份厚礼，他们已经连续一个多月，免费为济南军区抗震救灾前线指挥部以及驻扎成都、绵阳、广元、阿坝4个受灾地区22个部队驻地的官兵送党报。本报记者陈斌贺林平摄影报道'"
      ]
     },
     "execution_count": 80,
     "metadata": {},
     "output_type": "execute_result"
    }
   ],
   "source": [
    "content[n+1]"
   ]
  },
  {
   "cell_type": "code",
   "execution_count": 82,
   "metadata": {},
   "outputs": [
    {
     "name": "stdout",
     "output_type": "stream",
     "text": [
      "0 done;1000 done;2000 done;3000 done;4000 done;5000 done;6000 done;7000 done;8000 done;9000 done;10000 done;11000 done;12000 done;13000 done;14000 done;15000 done;16000 done;17000 done;18000 done;19000 done;20000 done;21000 done;22000 done;23000 done;24000 done;25000 done;26000 done;27000 done;28000 done;29000 done;30000 done;31000 done;32000 done;"
     ]
    },
    {
     "data": {
      "text/html": [
       "<div>\n",
       "<style scoped>\n",
       "    .dataframe tbody tr th:only-of-type {\n",
       "        vertical-align: middle;\n",
       "    }\n",
       "\n",
       "    .dataframe tbody tr th {\n",
       "        vertical-align: top;\n",
       "    }\n",
       "\n",
       "    .dataframe thead th {\n",
       "        text-align: right;\n",
       "    }\n",
       "</style>\n",
       "<table border=\"1\" class=\"dataframe\">\n",
       "  <thead>\n",
       "    <tr style=\"text-align: right;\">\n",
       "      <th></th>\n",
       "      <th>Unnamed: 0</th>\n",
       "      <th>author</th>\n",
       "      <th>compilation_name</th>\n",
       "      <th>compilation_vol</th>\n",
       "      <th>corpus</th>\n",
       "      <th>doc_content</th>\n",
       "      <th>docclass</th>\n",
       "      <th>doctype</th>\n",
       "      <th>era</th>\n",
       "      <th>filename</th>\n",
       "      <th>sub_title</th>\n",
       "      <th>timeseq_not_before</th>\n",
       "      <th>title</th>\n",
       "      <th>token</th>\n",
       "      <th>pos</th>\n",
       "      <th>tfidf</th>\n",
       "    </tr>\n",
       "  </thead>\n",
       "  <tbody>\n",
       "    <tr>\n",
       "      <th>0</th>\n",
       "      <td>0</td>\n",
       "      <td>NaN</td>\n",
       "      <td>人民日報</td>\n",
       "      <td>第1版</td>\n",
       "      <td>2008</td>\n",
       "      <td>本报评论员一个社会的前行，一个国家的发展，往往来自于深切的忧患意识和责任意识，来自于对未来的...</td>\n",
       "      <td>要闻</td>\n",
       "      <td>NaN</td>\n",
       "      <td>200812</td>\n",
       "      <td>人民日報_20081231_1_1</td>\n",
       "      <td>――认真学习贯彻胡锦涛同志“一二・一八”重要讲话之八</td>\n",
       "      <td>20081231</td>\n",
       "      <td>推进改革开放伟大事业的战略部署</td>\n",
       "      <td>本报 评论员 一个 社会 的 前行 ， 一个国家 的 发展 ， 往往 来自 于 深切 的 忧...</td>\n",
       "      <td>r n m n uj v x x uj vn x t v p a uj i c n x v ...</td>\n",
       "      <td>发展,30,改革开放,矛盾,中国特色社会主义,民族伟大复兴,历史,忧患意识,责任意识,清醒,...</td>\n",
       "    </tr>\n",
       "    <tr>\n",
       "      <th>1</th>\n",
       "      <td>1</td>\n",
       "      <td>王炜</td>\n",
       "      <td>人民日報</td>\n",
       "      <td>第1版</td>\n",
       "      <td>2008</td>\n",
       "      <td>本报记者王炜1978年，退伍军人胡友林在苏北小城盐城创办了一家小企业。30年以后，这家小企业...</td>\n",
       "      <td>要闻</td>\n",
       "      <td>NaN</td>\n",
       "      <td>200812</td>\n",
       "      <td>人民日報_20081231_1_2</td>\n",
       "      <td>江苏悦达――</td>\n",
       "      <td>20081231</td>\n",
       "      <td>以新型工业化应对挑战</td>\n",
       "      <td>本报记者 王炜 1978 年 ， 退伍军人 胡友林 在 苏北 小城 盐城 创办 了 一家 小...</td>\n",
       "      <td>n nr m m x n nr p ns n ns v ul m n x m m f x r...</td>\n",
       "      <td>悦达,胡友林,盐城,企业,多元化,纺织业,发展,纺织,金融危机,30,集团,盐城市,汽车,行...</td>\n",
       "    </tr>\n",
       "    <tr>\n",
       "      <th>2</th>\n",
       "      <td>2</td>\n",
       "      <td>徐壮志｜曹瑞林</td>\n",
       "      <td>人民日報</td>\n",
       "      <td>第1版</td>\n",
       "      <td>2008</td>\n",
       "      <td>新华社北京１２月３０日电（新华社记者徐壮志、解放军报记者曹瑞林）中共中央总书记、国家主席、中...</td>\n",
       "      <td>要闻</td>\n",
       "      <td>NaN</td>\n",
       "      <td>200812</td>\n",
       "      <td>人民日報_20081231_1_3</td>\n",
       "      <td>忠诚于党　热爱人民　报效国家　献身使命　崇尚荣誉</td>\n",
       "      <td>20081231</td>\n",
       "      <td>胡锦涛提出大力培育当代革命军人核心价值观</td>\n",
       "      <td>新华社 北京 １ ２ 月 ３ ０ 日电 （ 新华社 记者 徐壮志 解放军报 记者 曹瑞林 ）...</td>\n",
       "      <td>nt ns x x m x x j x nt n nr nt n nr x x x x nr...</td>\n",
       "      <td>革命军人,价值观,我军,核心,官兵,当代,军队,胡锦涛,践行,荣誉,自觉,培育,履行,国家,...</td>\n",
       "    </tr>\n",
       "    <tr>\n",
       "      <th>3</th>\n",
       "      <td>3</td>\n",
       "      <td>姚大伟｜孙承斌｜李亚杰</td>\n",
       "      <td>人民日報</td>\n",
       "      <td>第1版</td>\n",
       "      <td>2008</td>\n",
       "      <td>12月30日，新年京剧晚会在北京国家大剧院举行。这是演出结束后，胡锦涛、吴邦国、温家宝、贾庆...</td>\n",
       "      <td>要闻</td>\n",
       "      <td>NaN</td>\n",
       "      <td>200812</td>\n",
       "      <td>人民日報_20081231_1_4</td>\n",
       "      <td>胡锦涛吴邦国温家宝贾庆林李长春习近平李克强贺国强周永康出席观看</td>\n",
       "      <td>20081231</td>\n",
       "      <td>新年京剧晚会在京举行</td>\n",
       "      <td>12 月 30 日 ， 新年 京剧 晚会 在 北京 国家大剧院 举行 。 这 是 演出 结束...</td>\n",
       "      <td>m m m m x t n n p ns nt v x r v v v f x nr nr ...</td>\n",
       "      <td>选段,晚会,京剧,国家大剧院,表演,演唱,胡锦涛,演出,演出成功,共祝,周永康,贾庆林,贺国...</td>\n",
       "    </tr>\n",
       "    <tr>\n",
       "      <th>4</th>\n",
       "      <td>4</td>\n",
       "      <td>林红梅</td>\n",
       "      <td>人民日報</td>\n",
       "      <td>第1版</td>\n",
       "      <td>2008</td>\n",
       "      <td>据新华社北京１２月３０日电（记者林红梅）国务院总理温家宝日前签署了第５４３、５４４、５４５号...</td>\n",
       "      <td>要闻</td>\n",
       "      <td>NaN</td>\n",
       "      <td>200812</td>\n",
       "      <td>人民日報_20081231_1_5</td>\n",
       "      <td>NaN</td>\n",
       "      <td>20081231</td>\n",
       "      <td>修订后的公路管理条例、水路运输管理条例、航道管理条例元旦起施行</td>\n",
       "      <td>据 新华社 北京 １ ２ 月 ３ ０ 日电 （ 记者 林红梅 ） 国务院总理 温家宝 日前 ...</td>\n",
       "      <td>p nt ns x x m x x j x n nr x x nr t v ul m x x...</td>\n",
       "      <td>修改,管理条例,航道,水路运输,港务费,中华人民共和国,公路,维护费用,第二十五条,第二十四...</td>\n",
       "    </tr>\n",
       "  </tbody>\n",
       "</table>\n",
       "</div>"
      ],
      "text/plain": [
       "   Unnamed: 0       author compilation_name compilation_vol  corpus  \\\n",
       "0           0          NaN             人民日報             第1版    2008   \n",
       "1           1           王炜             人民日報             第1版    2008   \n",
       "2           2      徐壮志｜曹瑞林             人民日報             第1版    2008   \n",
       "3           3  姚大伟｜孙承斌｜李亚杰             人民日報             第1版    2008   \n",
       "4           4          林红梅             人民日報             第1版    2008   \n",
       "\n",
       "                                         doc_content docclass  doctype  \\\n",
       "0  本报评论员一个社会的前行，一个国家的发展，往往来自于深切的忧患意识和责任意识，来自于对未来的...       要闻      NaN   \n",
       "1  本报记者王炜1978年，退伍军人胡友林在苏北小城盐城创办了一家小企业。30年以后，这家小企业...       要闻      NaN   \n",
       "2  新华社北京１２月３０日电（新华社记者徐壮志、解放军报记者曹瑞林）中共中央总书记、国家主席、中...       要闻      NaN   \n",
       "3  12月30日，新年京剧晚会在北京国家大剧院举行。这是演出结束后，胡锦涛、吴邦国、温家宝、贾庆...       要闻      NaN   \n",
       "4  据新华社北京１２月３０日电（记者林红梅）国务院总理温家宝日前签署了第５４３、５４４、５４５号...       要闻      NaN   \n",
       "\n",
       "      era           filename                        sub_title  \\\n",
       "0  200812  人民日報_20081231_1_1       ――认真学习贯彻胡锦涛同志“一二・一八”重要讲话之八   \n",
       "1  200812  人民日報_20081231_1_2                           江苏悦达――   \n",
       "2  200812  人民日報_20081231_1_3         忠诚于党　热爱人民　报效国家　献身使命　崇尚荣誉   \n",
       "3  200812  人民日報_20081231_1_4  胡锦涛吴邦国温家宝贾庆林李长春习近平李克强贺国强周永康出席观看   \n",
       "4  200812  人民日報_20081231_1_5                              NaN   \n",
       "\n",
       "   timeseq_not_before                            title  \\\n",
       "0            20081231                  推进改革开放伟大事业的战略部署   \n",
       "1            20081231                       以新型工业化应对挑战   \n",
       "2            20081231             胡锦涛提出大力培育当代革命军人核心价值观   \n",
       "3            20081231                       新年京剧晚会在京举行   \n",
       "4            20081231  修订后的公路管理条例、水路运输管理条例、航道管理条例元旦起施行   \n",
       "\n",
       "                                               token  \\\n",
       "0  本报 评论员 一个 社会 的 前行 ， 一个国家 的 发展 ， 往往 来自 于 深切 的 忧...   \n",
       "1  本报记者 王炜 1978 年 ， 退伍军人 胡友林 在 苏北 小城 盐城 创办 了 一家 小...   \n",
       "2  新华社 北京 １ ２ 月 ３ ０ 日电 （ 新华社 记者 徐壮志 解放军报 记者 曹瑞林 ）...   \n",
       "3  12 月 30 日 ， 新年 京剧 晚会 在 北京 国家大剧院 举行 。 这 是 演出 结束...   \n",
       "4  据 新华社 北京 １ ２ 月 ３ ０ 日电 （ 记者 林红梅 ） 国务院总理 温家宝 日前 ...   \n",
       "\n",
       "                                                 pos  \\\n",
       "0  r n m n uj v x x uj vn x t v p a uj i c n x v ...   \n",
       "1  n nr m m x n nr p ns n ns v ul m n x m m f x r...   \n",
       "2  nt ns x x m x x j x nt n nr nt n nr x x x x nr...   \n",
       "3  m m m m x t n n p ns nt v x r v v v f x nr nr ...   \n",
       "4  p nt ns x x m x x j x n nr x x nr t v ul m x x...   \n",
       "\n",
       "                                               tfidf  \n",
       "0  发展,30,改革开放,矛盾,中国特色社会主义,民族伟大复兴,历史,忧患意识,责任意识,清醒,...  \n",
       "1  悦达,胡友林,盐城,企业,多元化,纺织业,发展,纺织,金融危机,30,集团,盐城市,汽车,行...  \n",
       "2  革命军人,价值观,我军,核心,官兵,当代,军队,胡锦涛,践行,荣誉,自觉,培育,履行,国家,...  \n",
       "3  选段,晚会,京剧,国家大剧院,表演,演唱,胡锦涛,演出,演出成功,共祝,周永康,贾庆林,贺国...  \n",
       "4  修改,管理条例,航道,水路运输,港务费,中华人民共和国,公路,维护费用,第二十五条,第二十四...  "
      ]
     },
     "execution_count": 82,
     "metadata": {},
     "output_type": "execute_result"
    }
   ],
   "source": [
    "tfidf=[]\n",
    "for n in range(len(content)):\n",
    "    try:\n",
    "        tags = jieba.analyse.extract_tags(content[n], topK=topK)\n",
    "        tfidf.append(\",\".join(tags))\n",
    "    except:\n",
    "        tfidf.append(\"\")\n",
    "    if n%1000==0:\n",
    "        print (n, \"done\",end=\";\")     \n",
    "df[\"tfidf\"]=tfidf\n",
    "df.head()"
   ]
  },
  {
   "cell_type": "code",
   "execution_count": null,
   "metadata": {},
   "outputs": [],
   "source": []
  },
  {
   "cell_type": "markdown",
   "metadata": {},
   "source": [
    "## TextRank 擷取關鍵字"
   ]
  },
  {
   "cell_type": "code",
   "execution_count": 83,
   "metadata": {},
   "outputs": [],
   "source": [
    "#encoding=utf-8\n",
    "from __future__ import unicode_literals\n",
    "# import sys\n",
    "# sys.path.append(\"../\")\n",
    "import jieba\n",
    "import jieba.posseg\n",
    "import jieba.analyse"
   ]
  },
  {
   "cell_type": "code",
   "execution_count": 89,
   "metadata": {},
   "outputs": [
    {
     "name": "stdout",
     "output_type": "stream",
     "text": [
      "0 done;1000 done;2000 done;3000 done;4000 done;5000 done;6000 done;7000 done;8000 done;9000 done;10000 done;11000 done;12000 done;13000 done;14000 done;15000 done;16000 done;17000 done;18000 done;19000 done;20000 done;21000 done;22000 done;23000 done;24000 done;25000 done;26000 done;27000 done;28000 done;29000 done;30000 done;31000 done;32000 done;"
     ]
    }
   ],
   "source": [
    "textrank=[]\n",
    "for n in range(len(df)):\n",
    "    try:\n",
    "        tags=jieba.analyse.textrank(df.doc_content[n].replace('\\n',''), topK=200, withWeight=False, allowPOS=('a','nt','nz','nr','ns', 'n', 'vn', 'v'))\n",
    "        textrank.append(\",\".join(tags))\n",
    "    except:\n",
    "        textrank.append(\"\")\n",
    "    if n%1000==0:\n",
    "        print (n, \"done\",end=\";\")       \n",
    "df[\"textrank\"]=textrank"
   ]
  },
  {
   "cell_type": "code",
   "execution_count": 90,
   "metadata": {},
   "outputs": [
    {
     "data": {
      "text/html": [
       "<div>\n",
       "<style scoped>\n",
       "    .dataframe tbody tr th:only-of-type {\n",
       "        vertical-align: middle;\n",
       "    }\n",
       "\n",
       "    .dataframe tbody tr th {\n",
       "        vertical-align: top;\n",
       "    }\n",
       "\n",
       "    .dataframe thead th {\n",
       "        text-align: right;\n",
       "    }\n",
       "</style>\n",
       "<table border=\"1\" class=\"dataframe\">\n",
       "  <thead>\n",
       "    <tr style=\"text-align: right;\">\n",
       "      <th></th>\n",
       "      <th>Unnamed: 0</th>\n",
       "      <th>author</th>\n",
       "      <th>compilation_name</th>\n",
       "      <th>compilation_vol</th>\n",
       "      <th>corpus</th>\n",
       "      <th>doc_content</th>\n",
       "      <th>docclass</th>\n",
       "      <th>doctype</th>\n",
       "      <th>era</th>\n",
       "      <th>filename</th>\n",
       "      <th>sub_title</th>\n",
       "      <th>timeseq_not_before</th>\n",
       "      <th>title</th>\n",
       "      <th>token</th>\n",
       "      <th>pos</th>\n",
       "      <th>tfidf</th>\n",
       "      <th>textrank</th>\n",
       "    </tr>\n",
       "  </thead>\n",
       "  <tbody>\n",
       "    <tr>\n",
       "      <th>0</th>\n",
       "      <td>0</td>\n",
       "      <td>NaN</td>\n",
       "      <td>人民日報</td>\n",
       "      <td>第1版</td>\n",
       "      <td>2008</td>\n",
       "      <td>本报评论员一个社会的前行，一个国家的发展，往往来自于深切的忧患意识和责任意识，来自于对未来的...</td>\n",
       "      <td>要闻</td>\n",
       "      <td>NaN</td>\n",
       "      <td>200812</td>\n",
       "      <td>人民日報_20081231_1_1</td>\n",
       "      <td>――认真学习贯彻胡锦涛同志“一二・一八”重要讲话之八</td>\n",
       "      <td>20081231</td>\n",
       "      <td>推进改革开放伟大事业的战略部署</td>\n",
       "      <td>本报 评论员 一个 社会 的 前行 ， 一个国家 的 发展 ， 往往 来自 于 深切 的 忧...</td>\n",
       "      <td>r n m n uj v x x uj vn x t v p a uj i c n x v ...</td>\n",
       "      <td>发展,30,改革开放,矛盾,中国特色社会主义,民族伟大复兴,历史,忧患意识,责任意识,清醒,...</td>\n",
       "      <td>发展,历史,改革,社会,改革开放,中华,罕见,准确,群众,判断,科学,马克思主义,开放,清醒...</td>\n",
       "    </tr>\n",
       "    <tr>\n",
       "      <th>1</th>\n",
       "      <td>1</td>\n",
       "      <td>王炜</td>\n",
       "      <td>人民日報</td>\n",
       "      <td>第1版</td>\n",
       "      <td>2008</td>\n",
       "      <td>本报记者王炜1978年，退伍军人胡友林在苏北小城盐城创办了一家小企业。30年以后，这家小企业...</td>\n",
       "      <td>要闻</td>\n",
       "      <td>NaN</td>\n",
       "      <td>200812</td>\n",
       "      <td>人民日報_20081231_1_2</td>\n",
       "      <td>江苏悦达――</td>\n",
       "      <td>20081231</td>\n",
       "      <td>以新型工业化应对挑战</td>\n",
       "      <td>本报记者 王炜 1978 年 ， 退伍军人 胡友林 在 苏北 小城 盐城 创办 了 一家 小...</td>\n",
       "      <td>n nr m m x n nr p ns n ns v ul m n x m m f x r...</td>\n",
       "      <td>悦达,胡友林,盐城,企业,多元化,纺织业,发展,纺织,金融危机,30,集团,盐城市,汽车,行...</td>\n",
       "      <td>悦达,企业,发展,盐城,集团,多元化,胡友林,金融危机,汽车,合作,江苏,纺织,生产,纺织业...</td>\n",
       "    </tr>\n",
       "    <tr>\n",
       "      <th>2</th>\n",
       "      <td>2</td>\n",
       "      <td>徐壮志｜曹瑞林</td>\n",
       "      <td>人民日報</td>\n",
       "      <td>第1版</td>\n",
       "      <td>2008</td>\n",
       "      <td>新华社北京１２月３０日电（新华社记者徐壮志、解放军报记者曹瑞林）中共中央总书记、国家主席、中...</td>\n",
       "      <td>要闻</td>\n",
       "      <td>NaN</td>\n",
       "      <td>200812</td>\n",
       "      <td>人民日報_20081231_1_3</td>\n",
       "      <td>忠诚于党　热爱人民　报效国家　献身使命　崇尚荣誉</td>\n",
       "      <td>20081231</td>\n",
       "      <td>胡锦涛提出大力培育当代革命军人核心价值观</td>\n",
       "      <td>新华社 北京 １ ２ 月 ３ ０ 日电 （ 新华社 记者 徐壮志 解放军报 记者 曹瑞林 ）...</td>\n",
       "      <td>nt ns x x m x x j x nt n nr nt n nr x x x x nr...</td>\n",
       "      <td>革命军人,价值观,我军,核心,官兵,当代,军队,胡锦涛,践行,荣誉,自觉,培育,履行,国家,...</td>\n",
       "      <td>核心,价值观,革命军人,我军,官兵,国家,军队,建设,履行,培育,发展,荣誉,胡锦涛,使命,...</td>\n",
       "    </tr>\n",
       "    <tr>\n",
       "      <th>3</th>\n",
       "      <td>3</td>\n",
       "      <td>姚大伟｜孙承斌｜李亚杰</td>\n",
       "      <td>人民日報</td>\n",
       "      <td>第1版</td>\n",
       "      <td>2008</td>\n",
       "      <td>12月30日，新年京剧晚会在北京国家大剧院举行。这是演出结束后，胡锦涛、吴邦国、温家宝、贾庆...</td>\n",
       "      <td>要闻</td>\n",
       "      <td>NaN</td>\n",
       "      <td>200812</td>\n",
       "      <td>人民日報_20081231_1_4</td>\n",
       "      <td>胡锦涛吴邦国温家宝贾庆林李长春习近平李克强贺国强周永康出席观看</td>\n",
       "      <td>20081231</td>\n",
       "      <td>新年京剧晚会在京举行</td>\n",
       "      <td>12 月 30 日 ， 新年 京剧 晚会 在 北京 国家大剧院 举行 。 这 是 演出 结束...</td>\n",
       "      <td>m m m m x t n n p ns nt v x r v v v f x nr nr ...</td>\n",
       "      <td>选段,晚会,京剧,国家大剧院,表演,演唱,胡锦涛,演出,演出成功,共祝,周永康,贾庆林,贺国...</td>\n",
       "      <td>京剧,晚会,选段,表演,演唱,艺术,胡锦涛,演出,传统,演出成功,掌声,祝贺,领导人,党和国...</td>\n",
       "    </tr>\n",
       "    <tr>\n",
       "      <th>4</th>\n",
       "      <td>4</td>\n",
       "      <td>林红梅</td>\n",
       "      <td>人民日報</td>\n",
       "      <td>第1版</td>\n",
       "      <td>2008</td>\n",
       "      <td>据新华社北京１２月３０日电（记者林红梅）国务院总理温家宝日前签署了第５４３、５４４、５４５号...</td>\n",
       "      <td>要闻</td>\n",
       "      <td>NaN</td>\n",
       "      <td>200812</td>\n",
       "      <td>人民日報_20081231_1_5</td>\n",
       "      <td>NaN</td>\n",
       "      <td>20081231</td>\n",
       "      <td>修订后的公路管理条例、水路运输管理条例、航道管理条例元旦起施行</td>\n",
       "      <td>据 新华社 北京 １ ２ 月 ３ ０ 日电 （ 记者 林红梅 ） 国务院总理 温家宝 日前 ...</td>\n",
       "      <td>p nt ns x x m x x j x n nr x x nr t v ul m x x...</td>\n",
       "      <td>修改,管理条例,航道,水路运输,港务费,中华人民共和国,公路,维护费用,第二十五条,第二十四...</td>\n",
       "      <td>航道,公路,中华人民共和国,管理条例,港务费,修改,维护费用,国家,缴纳,温家宝,批准,规费...</td>\n",
       "    </tr>\n",
       "  </tbody>\n",
       "</table>\n",
       "</div>"
      ],
      "text/plain": [
       "   Unnamed: 0       author compilation_name compilation_vol  corpus  \\\n",
       "0           0          NaN             人民日報             第1版    2008   \n",
       "1           1           王炜             人民日報             第1版    2008   \n",
       "2           2      徐壮志｜曹瑞林             人民日報             第1版    2008   \n",
       "3           3  姚大伟｜孙承斌｜李亚杰             人民日報             第1版    2008   \n",
       "4           4          林红梅             人民日報             第1版    2008   \n",
       "\n",
       "                                         doc_content docclass  doctype  \\\n",
       "0  本报评论员一个社会的前行，一个国家的发展，往往来自于深切的忧患意识和责任意识，来自于对未来的...       要闻      NaN   \n",
       "1  本报记者王炜1978年，退伍军人胡友林在苏北小城盐城创办了一家小企业。30年以后，这家小企业...       要闻      NaN   \n",
       "2  新华社北京１２月３０日电（新华社记者徐壮志、解放军报记者曹瑞林）中共中央总书记、国家主席、中...       要闻      NaN   \n",
       "3  12月30日，新年京剧晚会在北京国家大剧院举行。这是演出结束后，胡锦涛、吴邦国、温家宝、贾庆...       要闻      NaN   \n",
       "4  据新华社北京１２月３０日电（记者林红梅）国务院总理温家宝日前签署了第５４３、５４４、５４５号...       要闻      NaN   \n",
       "\n",
       "      era           filename                        sub_title  \\\n",
       "0  200812  人民日報_20081231_1_1       ――认真学习贯彻胡锦涛同志“一二・一八”重要讲话之八   \n",
       "1  200812  人民日報_20081231_1_2                           江苏悦达――   \n",
       "2  200812  人民日報_20081231_1_3         忠诚于党　热爱人民　报效国家　献身使命　崇尚荣誉   \n",
       "3  200812  人民日報_20081231_1_4  胡锦涛吴邦国温家宝贾庆林李长春习近平李克强贺国强周永康出席观看   \n",
       "4  200812  人民日報_20081231_1_5                              NaN   \n",
       "\n",
       "   timeseq_not_before                            title  \\\n",
       "0            20081231                  推进改革开放伟大事业的战略部署   \n",
       "1            20081231                       以新型工业化应对挑战   \n",
       "2            20081231             胡锦涛提出大力培育当代革命军人核心价值观   \n",
       "3            20081231                       新年京剧晚会在京举行   \n",
       "4            20081231  修订后的公路管理条例、水路运输管理条例、航道管理条例元旦起施行   \n",
       "\n",
       "                                               token  \\\n",
       "0  本报 评论员 一个 社会 的 前行 ， 一个国家 的 发展 ， 往往 来自 于 深切 的 忧...   \n",
       "1  本报记者 王炜 1978 年 ， 退伍军人 胡友林 在 苏北 小城 盐城 创办 了 一家 小...   \n",
       "2  新华社 北京 １ ２ 月 ３ ０ 日电 （ 新华社 记者 徐壮志 解放军报 记者 曹瑞林 ）...   \n",
       "3  12 月 30 日 ， 新年 京剧 晚会 在 北京 国家大剧院 举行 。 这 是 演出 结束...   \n",
       "4  据 新华社 北京 １ ２ 月 ３ ０ 日电 （ 记者 林红梅 ） 国务院总理 温家宝 日前 ...   \n",
       "\n",
       "                                                 pos  \\\n",
       "0  r n m n uj v x x uj vn x t v p a uj i c n x v ...   \n",
       "1  n nr m m x n nr p ns n ns v ul m n x m m f x r...   \n",
       "2  nt ns x x m x x j x nt n nr nt n nr x x x x nr...   \n",
       "3  m m m m x t n n p ns nt v x r v v v f x nr nr ...   \n",
       "4  p nt ns x x m x x j x n nr x x nr t v ul m x x...   \n",
       "\n",
       "                                               tfidf  \\\n",
       "0  发展,30,改革开放,矛盾,中国特色社会主义,民族伟大复兴,历史,忧患意识,责任意识,清醒,...   \n",
       "1  悦达,胡友林,盐城,企业,多元化,纺织业,发展,纺织,金融危机,30,集团,盐城市,汽车,行...   \n",
       "2  革命军人,价值观,我军,核心,官兵,当代,军队,胡锦涛,践行,荣誉,自觉,培育,履行,国家,...   \n",
       "3  选段,晚会,京剧,国家大剧院,表演,演唱,胡锦涛,演出,演出成功,共祝,周永康,贾庆林,贺国...   \n",
       "4  修改,管理条例,航道,水路运输,港务费,中华人民共和国,公路,维护费用,第二十五条,第二十四...   \n",
       "\n",
       "                                            textrank  \n",
       "0  发展,历史,改革,社会,改革开放,中华,罕见,准确,群众,判断,科学,马克思主义,开放,清醒...  \n",
       "1  悦达,企业,发展,盐城,集团,多元化,胡友林,金融危机,汽车,合作,江苏,纺织,生产,纺织业...  \n",
       "2  核心,价值观,革命军人,我军,官兵,国家,军队,建设,履行,培育,发展,荣誉,胡锦涛,使命,...  \n",
       "3  京剧,晚会,选段,表演,演唱,艺术,胡锦涛,演出,传统,演出成功,掌声,祝贺,领导人,党和国...  \n",
       "4  航道,公路,中华人民共和国,管理条例,港务费,修改,维护费用,国家,缴纳,温家宝,批准,规费...  "
      ]
     },
     "execution_count": 90,
     "metadata": {},
     "output_type": "execute_result"
    }
   ],
   "source": [
    "df.head()"
   ]
  },
  {
   "cell_type": "markdown",
   "metadata": {},
   "source": [
    "## 比較 TFIDF 與 TextRank 的差異"
   ]
  },
  {
   "cell_type": "code",
   "execution_count": 91,
   "metadata": {},
   "outputs": [
    {
     "name": "stdout",
     "output_type": "stream",
     "text": [
      "doc_content:  本报开罗6月18日电（记者黄培昭）巴勒斯坦伊斯兰抵抗运动（哈马斯）的一位高级官员18日在加沙地带重申，在埃及的调解下，巴勒斯坦武装派别与以色列之间已经达成停火协议，并将于当地时间19日凌晨6时开始生效实施。以色列国防部官员阿莫斯・吉拉德18日证实了这一消息。他表示，以色列同意与哈马斯达成停火协议，停火时间从当地时间19日早晨6时开始。据参与促使双方达成停火协议外交斡旋活动的埃及官员称，以色列和哈马斯已共同承诺将从19日开始在加沙地带实施持续6个月的“局势平静”。哈马斯高级领导人、原巴勒斯坦联合政府前外长扎哈尔17日晚向新闻界证实了这一消息，并强调，以色列将在正式停火之后放松和逐步解除对加沙地带的封锁和围困，其中包括恢复对加沙地带燃油、药品和基本食物的供给，并在停火后的几天内重新开启加沙地带通往外界的有关通道。\n",
      "*************************\n",
      "TFIDF:  加沙,哈马斯,停火协议,18,地带,停火,以色列,巴勒斯坦,埃及,阿莫斯,吉拉德,证实,黄培昭,巴勒斯坦伊斯兰抵抗运动,以色列国防部,17,日晚,官员,实施,哈尔,斡旋,新闻界,外长,高级官员,开罗,联合政府,派别,围困,调解,封锁,燃油,凌晨,生效,放松,局势,药品,解除,外交,通往,早晨,武装,平静,供给,领导人,促使,通道,高级,承诺,食物,恢复,参与,正式\n",
      "*************************\n",
      "TextRank:  地带,加沙,巴勒斯坦,官员,以色列,埃及,实施,武装,以色列国防部,黄培昭,平静,巴勒斯坦伊斯兰抵抗运动,局势,外交,吉拉德,药品,停火,联合政府,促使,证实,燃油,恢复,斡旋,派别,调解,生效,解除,供给,围困,封锁,食物,领导人,外长,放松,参与,新闻界\n"
     ]
    }
   ],
   "source": [
    "# 隨機選取文章\n",
    "import random\n",
    "n=random.randint(0, len(df))\n",
    "print (\"doc_content: \",df.doc_content[n])\n",
    "print (\"*************************\")\n",
    "print (\"TFIDF: \",df.tfidf[n])\n",
    "print (\"*************************\")\n",
    "print (\"TextRank: \",df.textrank[n])"
   ]
  },
  {
   "cell_type": "markdown",
   "metadata": {},
   "source": [
    "## 存檔與讀檔"
   ]
  },
  {
   "cell_type": "code",
   "execution_count": 92,
   "metadata": {
    "scrolled": true
   },
   "outputs": [],
   "source": [
    "# xlsx 存檔\n",
    "fname=str(year_doc)+\"_jieba.xlsx\"\n",
    "df.to_excel( path+\"人民日報_jieba/\" +fname)  # doctest: +SKIP"
   ]
  },
  {
   "cell_type": "code",
   "execution_count": 93,
   "metadata": {},
   "outputs": [
    {
     "name": "stdout",
     "output_type": "stream",
     "text": [
      "2008\n"
     ]
    }
   ],
   "source": [
    "##############################################################################\n",
    "print (year_doc)\n",
    "# 讀取 xlsx 成為 dataframe\n",
    "fname=str(year_doc)+\"_jieba.xlsx\"\n",
    "df=pd.read_excel(path+'人民日報_jieba/'+fname, 0)"
   ]
  },
  {
   "cell_type": "markdown",
   "metadata": {},
   "source": [
    "# 列印特定詞性的詞"
   ]
  },
  {
   "cell_type": "markdown",
   "metadata": {},
   "source": [
    "## 從 pos 找出所有人名 Nr"
   ]
  },
  {
   "cell_type": "code",
   "execution_count": 94,
   "metadata": {},
   "outputs": [
    {
     "name": "stdout",
     "output_type": "stream",
     "text": [
      "['李志锋', '刘锡潜', '尚德', '畅和园', '法拉盛', '郁章玉', '正明斋', '梁王', '陈劭先', '和隆平', '廖雪梅', '沈新金', '纳瓦尔', '杜工', '胡宜树', '庞秀柱', '马凤芝', '沙祖康', '崔望', '高钦', '郑恩珠', '吉乔', '周民', '尔博士', '苏顺虎', '林白', '弓庄', '李玲蔚', '施光南', '李宗宪', '赵丽娜', '巧剪', '陆飘平', '泮池', '弗兰', '郭庄村', '宣传册', '谢选斌', '储小艳', '兴旺繁荣', '张戈西', '柯达', '哈泽', '丽泽', '栾凯', '文罗长明', '索维东', '刚卢', '李旭升', '鲁建明', '郑永柱', '孙柏安', '翟家莹', '林敏', '严肃查处', '采叶', '方栋波', '五星旗', '吉赛尔', '马曼', '麦郎', '余孝勇', '陈世润', '吴恩融', '斯特劳', '洪希', '王侨', '基因库', '小刘', '阿诺', '高川镇', '杨发先', '段拱宸', '巨鹿', '张得太', '叶昌保', '杨宝胜', '王怀远', '曲波', '迪', '冯华健', '周渝', '子韦', '小山村', '阿林', '郝小雷', '花鹿', '徐怀雯', '西瞻', '李太生', '罗元珍', '张跃富', '布林', '王进良', '沈楼村', '母志兵', '颜渊', '容颜', '王九全', '赫文慧', '戈壁', '王政遂', '蔡洪旺', '扶小', '北斜', '秋天里', '孔祥瑜', '种秋', '任灿灿', '沙保', '潘石屹', '周慧', '达庆利', '卡塞尔', '陶德', '吴子', '巧妇', '司', '光鲜亮丽', '白蛋白', '李美儒', '陶庄镇', '王姓', '广贤', '韩玉祥', '贾迎春', '王世泰', '蒙向', '马胜云', '刘倩婷', '博尔钦', '宋尚龙', '访大陆', '王守训', '贡纳松', '龚式敏', '小曰雁', '特呈岛', '香味儿', '全留', '陈玉娇', '袁济喜', '丽家', '冯志孝', '华译', '何以堪', '张漾滨', '石崇', '岳池', '霍莉', '沙美云', '李鹤程', '潘维松', '冯先光', '如帆', '吴宝三', '奥韦', '朱景文', '杜曲镇', '王莹', '燕家', '和秋', '王公', '应梦', '巴雷罗', '王岚', '刘延东', '赵茹轩', '蒋明麟', '盖章', '黄文杰', '皮耶', '冯', '梅湘', '曾梅英', '大赞', '姜国俊', '范长国', '华鹏', '玉凤玉', '帅才', '吴侬', '陈礼勤', '呈几何', '陈正华', '顾晓园', '赵祖清', '方敏', '太史公', '鲁高牌', '董叶陶', '李厚', '汤成奇', '张振敏', '马永', '澹庵', '陈之佛', '荀子', '王振华', '于传耀'];"
     ]
    }
   ],
   "source": [
    "person=[]\n",
    "for n in range(len(df)):\n",
    "    try:\n",
    "        p=df.pos[n].split()\n",
    "        p_find=[i for i,v in enumerate(p) if v=='nr'] \n",
    "        p2=df.token[n].split()\n",
    "        p_res=[v for i,v in enumerate(p2) if i in p_find] \n",
    "        person=person+ p_res\n",
    "    except:\n",
    "        pass\n",
    "person=list(set(person))  \n",
    "# 因為找到的人名太多，不能全部列印，會 out of memory\n",
    "print (person[:200], end=\";\")"
   ]
  },
  {
   "cell_type": "code",
   "execution_count": 95,
   "metadata": {},
   "outputs": [
    {
     "name": "stdout",
     "output_type": "stream",
     "text": [
      "total 44166\n"
     ]
    }
   ],
   "source": [
    "print (\"total\",len(person))"
   ]
  },
  {
   "cell_type": "code",
   "execution_count": 96,
   "metadata": {},
   "outputs": [],
   "source": [
    "# # save as txt file 空白隔開的 string\n",
    "# path3='d:/My python/人民日報/語料庫/'\n",
    "# fname=str(year_doc)+\"_人名.txt\"\n",
    "# file_name=path3+fname\n",
    "# # content 為前面產生的文字檔，注意 encoding='utf8'\n",
    "# with open(file_name, 'w', encoding='utf8') as f:\n",
    "#     f.write(\"\\n\".join(person))\n",
    "#     f.close() "
   ]
  },
  {
   "cell_type": "markdown",
   "metadata": {},
   "source": [
    "## 從 pos 找出所有地名 Ns"
   ]
  },
  {
   "cell_type": "code",
   "execution_count": 97,
   "metadata": {},
   "outputs": [
    {
     "name": "stdout",
     "output_type": "stream",
     "text": [
      "['中惠', '湖里区', '楚江', '开平', '崇仁县', '莱', '娄底市', '黎川县', '定西地区', '东巴', '巍山', '欢度', '虞坤林', '芙蓉王', '中日合作', '拉贾斯坦邦', '六定', '绍兴县', '利利索索', '灵璧县', '延庆', '和田地区', '德宏傣族景颇族自治州', '帕米尔高原', '新鲜度', '桃花坞', '都匀市', '乡宁县', '法属波利尼西亚', '福地洞天', '深山区', '河津县', '沧县', '华威', '联邦德国', '丽水市', '洛古河', '高高兴兴', '华野', '江至', '珲春市', '阳安江', '龙港', '海门市', '北石', '辽三省', '潍文', '南丁格尔', '西淮坝', '荔浦', '苏州工业园区', '灵石县', '第三国', '古街', '宜昌市', '灵地镇', '全聚德烤鸭店', '巫溪县', '瓦伦西亚', '港澳同胞', '慕士塔格峰', '荷乡', '内藏非', '长丰', '韩加', '延川县', '玛乡东', '塔湖', '路亚', '南岭村', '阿克萨清真寺', '大兴水利', '大寨村', '波什', '沅江市', '阳城县', '曲国', '吉俄', '新疆', '遂平', '南车', '小海', '樊坤', '临武县', '龙泉驿', '远湖', '恰特喀勒乡', '中俄都', '扎门', '黄亚', '高川镇', '南京市', '六区', '西南亚', '萍乡', '城镇人口', '龙港镇', '迪', '龙山', '卡尼亚', '河曲', '汨说', '沈丘县', '洪江市', '桑拿房', '埃纳', '曼海', '南港', '临河', '四大洲', '新庄', '巴干乡', '旧州', '江丹', '千县', '马欧', '南粤', '戒台寺', '松阳县', '燕都', '石坡', '奈曼旗', '扎赉特旗', '多海里', '大班', '扬水', '琼区', '四朗', '欧美地区', '澳门站', '鹤峰', '离大坞', '丰国', '澜溪镇', '太子河区', '达洲', '墨江', '江天', '五壮士', '无坝', '上兰村', '尾沙', '苏顿', '邢西蒙', '江吾买尔', '科联', '虎林', '镇麻斯他拉嘎查', '璧', '上源村', '建塘镇', '非石', '越密', '两当县', '中宁', '东坝', '抚宁县', '非盟', '塘溪', '巴黎圣母院', '耒阳市', '弗吉尼亚州', '浮利原', '五台县', '井井', '美林', '百县', '伊克昭盟', '郑卫国', '北阿', '大沽路', '锡林郭勒草原', '巴顿', '河塞', '陕南', '淮海中路', '驻国', '鄄城县', '撒肥', '奥鲁索吉', '北安市', '泰中', '霸州', '天平山', '延河水', '捷建', '西加', '三星村', '厦坪', '尼古', '屏山县', '绥宁县', '喀拉', '泰北', '塘坝', '北昆', '宁北', '里庆', '陕', '金山区'];"
     ]
    }
   ],
   "source": [
    "place=[]\n",
    "for n in range(len(df)):\n",
    "    try:\n",
    "        p=df.pos[n].split()\n",
    "        p_find=[i for i,v in enumerate(p) if v=='ns'] \n",
    "        p2=df.token[n].split()\n",
    "        p_res=[v for i,v in enumerate(p2) if i in p_find] \n",
    "        place=place+ p_res\n",
    "    except:\n",
    "        pass\n",
    "place=list(set(place))  \n",
    "# 印出前面200筆\n",
    "print (place[:200], end=\";\")"
   ]
  },
  {
   "cell_type": "markdown",
   "metadata": {},
   "source": [
    "# 加入pople 模組"
   ]
  },
  {
   "cell_type": "code",
   "execution_count": 2,
   "metadata": {},
   "outputs": [
    {
     "name": "stdout",
     "output_type": "stream",
     "text": [
      "\n",
      "    歡迎進入 people 模組，函數列表\n",
      "    資料選取\n",
      "        (df, df_year)=people.doc_select(year, path, title, kw, field, unit)\n",
      "        df=people.read_doc_select(path, unit, field, title)  \n",
      "        df_year=people.read_doc_select_year(path, unit, field, title)  \n",
      "        people.plot_doc_select_year(df_year)\n",
      "        people.print_doc_select_random(df,num,title,field)\n",
      "        people.print_filename(filenames, field)\n",
      "        df=people.read_doc_select_pkl(path, unit, field,title)  \n",
      "    詞頻與詞對\n",
      "        df=people.key_word_trend_year(kw, year,path)   \n",
      "        df_corpus=people.corpus_map_year(df,title, kw, corpus,path,window)\n",
      "        df_corpus=people.read_corpus_map_year(path,title)\n",
      "        df_pn=people.sentiment(path, df, title)\n",
      "        df_pn=people.read_sentiment(path, df, title)\n",
      "    主題分析\n",
      "        (df_topic, df, df_lsa)=people.topic model(doc_list,num_i, method)  \n",
      "        ts=people.plot_topic_model_trend(year, df_lsa,topics, num_i) \n",
      "        people.plot_topic_model_pei(topics, ts)\n",
      "        people.plot_topic_model_bar(topics,size)\n",
      "    文章分群\n",
      "    潛在語意\n",
      "    知識萃取\n",
      "    \n"
     ]
    }
   ],
   "source": [
    "import people"
   ]
  },
  {
   "cell_type": "markdown",
   "metadata": {},
   "source": [
    "## df= people.read_excel_file(path, filename)"
   ]
  },
  {
   "cell_type": "code",
   "execution_count": 12,
   "metadata": {},
   "outputs": [],
   "source": [
    "def read_excel_file(path, filename):\n",
    "    import pandas as pd\n",
    "    fname=filename\n",
    "    df=pd.read_excel(fname, 0)\n",
    "    return df"
   ]
  },
  {
   "cell_type": "code",
   "execution_count": 14,
   "metadata": {
    "tags": []
   },
   "outputs": [],
   "source": [
    "filename=path+\"人民日報_xlsx/1991.xlsx\"\n",
    "df=read_excel_file(path, filename)"
   ]
  },
  {
   "cell_type": "code",
   "execution_count": 10,
   "metadata": {},
   "outputs": [
    {
     "ename": "AttributeError",
     "evalue": "module 'people' has no attribute 'read_excel_file'",
     "output_type": "error",
     "traceback": [
      "\u001b[1;31m---------------------------------------------------------------------------\u001b[0m",
      "\u001b[1;31mAttributeError\u001b[0m                            Traceback (most recent call last)",
      "\u001b[1;32m~\\AppData\\Local\\Temp/ipykernel_19644/2409654969.py\u001b[0m in \u001b[0;36m<module>\u001b[1;34m\u001b[0m\n\u001b[0;32m      1\u001b[0m \u001b[0mfilename\u001b[0m\u001b[1;33m=\u001b[0m\u001b[1;34m\"\"\u001b[0m\u001b[1;33m\u001b[0m\u001b[1;33m\u001b[0m\u001b[0m\n\u001b[1;32m----> 2\u001b[1;33m \u001b[0mpeople\u001b[0m\u001b[1;33m.\u001b[0m\u001b[0mread_excel_file\u001b[0m\u001b[1;33m(\u001b[0m\u001b[0mfilename\u001b[0m\u001b[1;33m)\u001b[0m\u001b[1;33m\u001b[0m\u001b[1;33m\u001b[0m\u001b[0m\n\u001b[0m",
      "\u001b[1;31mAttributeError\u001b[0m: module 'people' has no attribute 'read_excel_file'"
     ]
    }
   ],
   "source": [
    "filename=\"\"\n",
    "people.read_excel_file(filename)"
   ]
  },
  {
   "cell_type": "code",
   "execution_count": null,
   "metadata": {},
   "outputs": [],
   "source": []
  },
  {
   "cell_type": "markdown",
   "metadata": {},
   "source": [
    "## df= people.jieba_token(df,doc_content, title)\n",
    "* 必須要有 usdict.txt, deletewords.txt 檔案。\n",
    "* doc_content 為未斷詞之文本欄位，string 格式\n",
    "* 新增 token, tfidf, textrank 三個欄位"
   ]
  },
  {
   "cell_type": "code",
   "execution_count": 40,
   "metadata": {},
   "outputs": [],
   "source": [
    "def jieba_token(path, df,doc_content, title):\n",
    "    #encoding=utf-8\n",
    "    # from __future__ import unicode_literals\n",
    "    import sys\n",
    "    import jieba\n",
    "    import jieba.posseg as pseg\n",
    "    import jieba.analyse\n",
    "    from optparse import OptionParser\n",
    "    import re\n",
    "    import jieba.posseg\n",
    "\n",
    "    ## 結巴斷詞 \n",
    "    print (\"token......\")\n",
    "\n",
    "    # 刪除 doc_content 是 nan 者\n",
    "    df = df.dropna(subset=[doc_content])\n",
    "    df.index=range(len(df))\n",
    "    # 結巴斷詞，先去除雜訊\n",
    "    token=[]\n",
    "    pos=[]\n",
    "    # 呼叫自行定義的詞典(增加詞彙) \n",
    "    jieba.load_userdict( path+ \"corpus/userdic.txt\") \n",
    "    for n in range(len(df)):\n",
    "        s=df[doc_content].iloc[n]  \n",
    "        # 結巴斷詞，斷詞後存成 string，中間空白隔開\n",
    "        res=[]\n",
    "        flag=[]\n",
    "        try:\n",
    "            s=re.sub('[、 ]', '', s)\n",
    "            result = pseg.cut(s)   \n",
    "            for w in result:\n",
    "                if w.word!=\" \":\n",
    "                    res.append(w.word)\n",
    "                    flag.append(w.flag)      \n",
    "            tok=' '.join(res)\n",
    "            po=\" \".join(flag) \n",
    "        except:\n",
    "            tok=\"\"\n",
    "            po=\"\"\n",
    "        token.append(tok) \n",
    "        pos.append(po)\n",
    "        # 計數\n",
    "        if n%1000==0:\n",
    "            print (n, \"done\",end=\";\")  \n",
    "\n",
    "    df[\"token\"]=token\n",
    "    df[\"pos\"]=pos\n",
    "    content=df.doc_content\n",
    "\n",
    "    ## tfidf 擷取關鍵字\n",
    "    print (\"tfidf......\")\n",
    "    import sys\n",
    "    import jieba\n",
    "    import jieba.analyse\n",
    "    from optparse import OptionParser\n",
    "    # 參數設定\n",
    "    topK = 100\n",
    "    # 設停用字\n",
    "    jieba.analyse.set_stop_words(path+\"corpus/deletewords.txt\")\n",
    "    # 自訂辭典\n",
    "    jieba.load_userdict( path+ \"corpus/userdic.txt\")\n",
    "    tfidf=[]\n",
    "    for n in range(len(content)):\n",
    "        try:\n",
    "            tags = jieba.analyse.extract_tags(content[n], topK=topK)\n",
    "            tfidf.append(\",\".join(tags))\n",
    "        except:\n",
    "            tfidf.append(\"\")\n",
    "        if n%1000==0:\n",
    "            print (n, \"done\",end=\";\")     \n",
    "    df[\"tfidf\"]=tfidf\n",
    "\n",
    "    ## TextRank 擷取關鍵字\n",
    "    print (\"textrank......\")\n",
    "    textrank=[]\n",
    "    for n in range(len(df)):\n",
    "        try:\n",
    "            tags=jieba.analyse.textrank(df.doc_content[n].replace('\\n',''), topK=200, withWeight=False, allowPOS=('a','nt','nz','nr','ns', 'n', 'vn', 'v'))\n",
    "            textrank.append(\",\".join(tags))\n",
    "        except:\n",
    "            textrank.append(\"\")\n",
    "        if n%1000==0:\n",
    "            print (n, \"done\",end=\";\")       \n",
    "    df[\"textrank\"]=textrank\n",
    "\n",
    "    ## 存檔\n",
    "    fname=str(title)+\"_jieba.xlsx\"\n",
    "    df.to_excel( path+\"人民日報_jieba/\" +fname)  # doctest: +SKIP\n",
    "    return df"
   ]
  },
  {
   "cell_type": "code",
   "execution_count": 42,
   "metadata": {},
   "outputs": [
    {
     "name": "stdout",
     "output_type": "stream",
     "text": [
      "token......\n",
      "0 done;1000 done;2000 done;3000 done;4000 done;5000 done;6000 done;7000 done;8000 done;9000 done;10000 done;11000 done;12000 done;13000 done;tfidf......\n",
      "0 done;1000 done;2000 done;3000 done;4000 done;5000 done;6000 done;7000 done;8000 done;9000 done;10000 done;11000 done;12000 done;13000 done;textrank......\n",
      "0 done;1000 done;2000 done;3000 done;4000 done;5000 done;6000 done;7000 done;8000 done;9000 done;10000 done;11000 done;12000 done;13000 done;"
     ]
    }
   ],
   "source": [
    "path=\"D:/my python/人民日報/\" \n",
    "doc_content='doc_content'\n",
    "title='1991'\n",
    "df=jieba_token(path, df,doc_content, title)"
   ]
  },
  {
   "cell_type": "markdown",
   "metadata": {
    "tags": []
   },
   "source": [
    "## df= people.read_jieba_token(path, title)"
   ]
  },
  {
   "cell_type": "code",
   "execution_count": 93,
   "metadata": {},
   "outputs": [
    {
     "name": "stdout",
     "output_type": "stream",
     "text": [
      "2008\n"
     ]
    }
   ],
   "source": [
    "def read_jieba_token(path, title):\n",
    "    fname=str(title)+\"_jieba.xlsx\"\n",
    "    df=pd.read_excel(path+'人民日報_jieba/'+fname, 0)\n",
    "    return df"
   ]
  },
  {
   "cell_type": "code",
   "execution_count": null,
   "metadata": {},
   "outputs": [],
   "source": [
    "fname=str(title)+\"_jieba.xlsx\"\n",
    "df=read_jieba_token(path, fname)"
   ]
  },
  {
   "cell_type": "code",
   "execution_count": null,
   "metadata": {},
   "outputs": [],
   "source": []
  },
  {
   "cell_type": "code",
   "execution_count": null,
   "metadata": {},
   "outputs": [],
   "source": []
  },
  {
   "cell_type": "code",
   "execution_count": null,
   "metadata": {},
   "outputs": [],
   "source": []
  }
 ],
 "metadata": {
  "kernelspec": {
   "display_name": "Python 3 (ipykernel)",
   "language": "python",
   "name": "python3"
  },
  "language_info": {
   "codemirror_mode": {
    "name": "ipython",
    "version": 3
   },
   "file_extension": ".py",
   "mimetype": "text/x-python",
   "name": "python",
   "nbconvert_exporter": "python",
   "pygments_lexer": "ipython3",
   "version": "3.8.12"
  },
  "toc": {
   "base_numbering": 1,
   "nav_menu": {},
   "number_sections": true,
   "sideBar": true,
   "skip_h1_title": false,
   "title_cell": "Table of Contents",
   "title_sidebar": "Contents",
   "toc_cell": false,
   "toc_position": {
    "height": "calc(100% - 180px)",
    "left": "10px",
    "top": "150px",
    "width": "304.475px"
   },
   "toc_section_display": true,
   "toc_window_display": true
  }
 },
 "nbformat": 4,
 "nbformat_minor": 4
}
