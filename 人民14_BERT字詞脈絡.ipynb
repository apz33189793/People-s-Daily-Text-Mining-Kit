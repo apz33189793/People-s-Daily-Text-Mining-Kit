{
 "cells": [
  {
   "cell_type": "code",
   "execution_count": null,
   "id": "5626a4bb-bfc4-4be9-9b84-fa9625a4c7ec",
   "metadata": {},
   "outputs": [],
   "source": [
    "BERT 字詞脈絡"
   ]
  }
 ],
 "metadata": {
  "kernelspec": {
   "display_name": "Python 3 (ipykernel)",
   "language": "python",
   "name": "python3"
  },
  "language_info": {
   "codemirror_mode": {
    "name": "ipython",
    "version": 3
   },
   "file_extension": ".py",
   "mimetype": "text/x-python",
   "name": "python",
   "nbconvert_exporter": "python",
   "pygments_lexer": "ipython3",
   "version": "3.8.12"
  }
 },
 "nbformat": 4,
 "nbformat_minor": 5
}
