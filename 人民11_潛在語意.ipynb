{
 "cells": [
  {
   "cell_type": "markdown",
   "id": "f6aa003e-44d4-4249-9b5e-cf54fca126a4",
   "metadata": {},
   "source": [
    "# 潛在語意，字詞背後隱藏的概念"
   ]
  },
  {
   "cell_type": "markdown",
   "id": "7abf9643-f039-484d-b7d9-88725643c024",
   "metadata": {},
   "source": [
    "\n",
    "* 有些字詞會共同出現，為什麼字詞會經常共同出現，很可能有特殊的意義，此即所謂的潛在語意。\n",
    "* 本學習包先將本本降維，再依每個字詞在不同的維度上有投影量，形成該字詞的詞向量，計算不同詞向量的距離，找出距離較近的一些字詞，藉以判斷潛在語意。\n",
    "* 亦可用詞對分析，達到同樣的效果。\n",
    "* word2vec 以類神經網絡求得各字詞的向量。有結構的相似性的字詞，向量較接近。例如馬英九、陳水扁、蔡英文會很接近，雖然未必共現，亦非同義語，但他們經常與「總統」共同出現，有結構的相似性。"
   ]
  },
  {
   "cell_type": "markdown",
   "id": "1efdec15-f571-4fb9-a4be-a6163f4b930c",
   "metadata": {},
   "source": [
    "# lsa 潛在語意分析"
   ]
  },
  {
   "cell_type": "code",
   "execution_count": 27,
   "id": "ae26c1e7-6769-4ede-95ff-448c816a109c",
   "metadata": {},
   "outputs": [],
   "source": [
    "from string import *\n",
    "from sklearn.decomposition import TruncatedSVD\n",
    "from sklearn.preprocessing import Normalizer\n",
    "from sklearn.feature_extraction.text import TfidfVectorizer\n",
    "from sklearn import metrics\n",
    "import numpy as np\n",
    "from scipy import spatial\n",
    "import pandas as pd"
   ]
  },
  {
   "cell_type": "code",
   "execution_count": 25,
   "id": "a0d65be1-bc97-4e95-9800-3ce4a7b49343",
   "metadata": {
    "tags": []
   },
   "outputs": [],
   "source": [
    "# 讀取檔案 #######################################\n",
    "import pandas as pd\n",
    "# 必須要有的參數\n",
    "unit=\"arti\"\n",
    "field=\"tfidf\"\n",
    "path=\"D:/my python/people/\" \n",
    "title=\"all\"\n",
    "fname=path+\"working/\"+unit+\"_\"+field+\"_\"+title+\".pkl\"\n",
    "df=pd.read_pickle(fname)"
   ]
  },
  {
   "cell_type": "markdown",
   "id": "dc32885e-c4e2-4c67-96cc-7f4332638595",
   "metadata": {},
   "source": [
    "##  extract_feature(num_i, doc_list,df)\n",
    "* 僅保留 tfidf 值較大者，簡化文本\n"
   ]
  },
  {
   "cell_type": "code",
   "execution_count": 26,
   "id": "c840eeef-14d7-4d33-8844-539ff4716f06",
   "metadata": {
    "tags": []
   },
   "outputs": [],
   "source": [
    "# doc_list=df.token\n",
    "def extract_feature(num_i, doc_list,df):\n",
    "    # tfidf 加權\n",
    "    transformer = TfidfVectorizer()\n",
    "    tfidf = transformer.fit_transform(doc_list)     # sparse matrix\n",
    "    # 降維\n",
    "    svd = TruncatedSVD(num_i, algorithm = 'arpack')   # object\n",
    "    dtm_lsa = svd.fit_transform(tfidf)  \n",
    "    dtm_com = svd.fit(tfidf)  # object, not numpy array\n",
    "    # components\n",
    "    comp=dtm_com.components_\n",
    "    print(\"維度數\",len(comp))\n",
    "    print(\"字詞數\",len(comp[0]))\n",
    "\n",
    "    # 如果文章筆數、字詞數太多，會超過記憶體 error\n",
    "    dtm_tfidf=tfidf.toarray() \n",
    "    # 字詞的編號\n",
    "    terms=vectorizer.vocabulary_\n",
    "    # 字詞的 list\n",
    "    term_list=vectorizer.get_feature_names_out()\n",
    "    # 轉成 DataFrame\n",
    "    df_tfidf=pd.DataFrame(dtm_tfidf, columns=term_list)\n",
    "\n",
    "    # 只保留 TFIDF 太於 0.05 者，簡化字詞數，否則矩陣太大\n",
    "    m = 0.05\n",
    "    featureset = []\n",
    "    for i in range(len(df_tfidf)):    \n",
    "        # 所有字詞，在該篇文章中，tfidf 大於 m 為 true，否則為 false\n",
    "        cri = df_tfidf.iloc[i]>=m\n",
    "        # 合乎條件的字詞 list\n",
    "        te = [x for j,x in enumerate(term_list) if cri[j]]    \n",
    "        # 合乎條件的 tfidf list\n",
    "        tf= [x for j,x in enumerate(df_tfidf.iloc[i]) if cri[j]]        \n",
    "        # 合於條件的字詞改為空白隔開的string\n",
    "        features_string=\" \".join(te)     \n",
    "        # 一篇文章一個字詞的 list\n",
    "        featureset.append(features_string) \n",
    "    df['feature']=fetureset   \n",
    "    return df\n"
   ]
  },
  {
   "cell_type": "markdown",
   "id": "496b65e2-46bd-441d-bfa5-077f2707a8ff",
   "metadata": {},
   "source": [
    "## 最接近的字詞"
   ]
  },
  {
   "cell_type": "code",
   "execution_count": 28,
   "id": "62c0e448-ceaa-4ab5-ba4f-7701f3c0984c",
   "metadata": {
    "tags": []
   },
   "outputs": [],
   "source": [
    "def concept(path, df, token, num_i):\n",
    "    # tfidf 加權\n",
    "    num_i=50\n",
    "    doc_list=df[token].str.replace(\",\",\" \")\n",
    "\n",
    "    # Term document frequency 轉換，成為 matrix ,\n",
    "    transformer = TfidfVectorizer()\n",
    "    tfidf = transformer.fit_transform(doc_list)     # sparse matrix\n",
    "    # 字詞的編號\n",
    "    terms=transformer.vocabulary_\n",
    "    # 字詞的 list\n",
    "    term_list=transformer.get_feature_names_out()\n",
    "    \n",
    "    # latent semantic analysis, 變數縮減\n",
    "    svd = TruncatedSVD(num_i, algorithm = 'arpack')   # object\n",
    "    lsa = svd.fit_transform(tfidf.T)  # numpy array, (number of terms * num_i)     \n",
    "\n",
    "    dtm_lsa = svd.fit_transform(tfidf)  \n",
    "    dtm_com = svd.fit(tfidf)  # object, not numpy array\n",
    "    # components\n",
    "    comp=dtm_com.components_\n",
    "    print(\"維度數\",len(comp))\n",
    "    print(\"字詞數\",len(comp[0]))\n",
    "    \n",
    "    # 每個維度軸都是各字詞的線性組合，每個維度的構成\n",
    "    df_concept=pd.DataFrame(comp,columns= term_list)\n",
    "    df_concept=df_concept.transpose()\n",
    "    # 各維度字詞，依重要性大小排序\n",
    "    con=[]\n",
    "    sig=[]\n",
    "    for n in range(len(df_concept.columns)):\n",
    "        # 由大至小排序\n",
    "        df_order= df_concept.sort_values(by=n, ascending=False)\n",
    "        con.append(list(df_order.index)[0:500])\n",
    "        sig.append(list(df_order[n])[0:500])\n",
    "    # 印出各軸的重要字詞\n",
    "    for n in range(len(con)):\n",
    "        print (n,con[n][:30])          \n",
    "    # 轉成 dataframe 格式\n",
    "    df_concept=pd.DataFrame(con).T\n",
    "    return df_concept, transformer, lsa, term_list\n",
    "\n",
    "#  最接近的 k 個\n",
    "def similarity(a,b):\n",
    "    result = 1 - spatial.distance.cosine(a, b)\n",
    "    return result\n",
    "def kClosestTerms(k,term,transformer,lsa,term_list):     \n",
    "    # 字詞的編號\n",
    "    index = transformer.vocabulary_[term] \n",
    "    # 該字詞與其他字詞的相似度\n",
    "    similar=[]\n",
    "    for i in range(len(lsa)):\n",
    "        s=similarity(lsa[index],lsa[i])\n",
    "        similar.append(s) \n",
    "        if i%10000==0:\n",
    "            print (i,\"done\",end=\" \")\n",
    "    closestTerms = {}   # dictionary\n",
    "    for i in range(len(lsa)):\n",
    "        closestTerms[term_list[i]] = similar[i]    \n",
    "        if i%10000==0:\n",
    "            print (i,\"done\",end=\" \")                   \n",
    "    sortedList = sorted(closestTerms , key= lambda l : closestTerms[l])\n",
    "    return sortedList[::-1][0:k]"
   ]
  },
  {
   "cell_type": "code",
   "execution_count": 10,
   "id": "362562f7-a3d6-4994-9f55-953b1a191feb",
   "metadata": {},
   "outputs": [
    {
     "name": "stdout",
     "output_type": "stream",
     "text": [
      "維度數 10\n",
      "字詞數 1967779\n",
      "0 ['中国', '发展', '国家', '经济', '北京', '建设', '国际', '合作', '政府', '关系', '会议', '美国', '全国', '访问', '代表团', '组织', '支持', '世界', '社会', '领导', '和平', '地区', '政治', '生产', '会见', '解决', '斗争', '政策', '提高', '总统']\n",
      "1 ['生产', '提高', '建设', '群众', '干部', '企业', '领导', '部门', '管理', '农村', '全国', '思想', '学习', '组织', '农民', '教育', '服务', '农业', '技术', '改革', '社会', '制度', '职工', '增长', '产品', '经验', '市场', '质量', '生活', '研究']\n",
      "2 ['斗争', '反对', '革命', '侵略', '胜利', '美帝国主义', '帝国主义', '美国', '战争', '毛主席', '团结', '谴责', '无产阶级', '和平', '阴谋', '全世界', '民族', '战斗', '苏联', '越南', '独立', '声明', '敌人', '修正主义', '军队', '解放', '力量', '民主', '群众', '毛泽东思想']\n",
      "3 ['革命', '同志', '毛主席', '代表团', '学习', '思想', '无产阶级', '群众', '领导', '率领', '中国', '团长', '友好', '干部', '会见', '毛泽东思想', '北京', '乘飞机', '访问', '大使', '友谊', '胜利', '今天下午', '修正主义', '教导', '文化大革命', '教育', '到达', '友好访问', '参观']\n",
      "4 ['发展', '关系', '合作', '两国', '经济', '政治', '领域', '两国关系', '友好合作', '稳定', '社会', '维护', '努力', '建设', '中方', '交流', '两国人民', '会见', '共同努力', '深化', '和平', '建交', '互利', '交往', '思想', '改革开放', '江泽民', '事业', '政策', '双边关系']\n",
      "5 ['比赛', '中国', '世界', '北京', '选手', '举办', '冠军', '国际', '女子', '运动员', '锦标赛', '主办', '决赛', '男子', '中国队', '文化', '全国', '奥运会', '历史', '10', '金牌', '本届', '观众', '成绩', '夺得', '战胜', '体育', '社会', '作品', '艺术']\n",
      "6 ['会议', '社会', '制度', '政府', '代表团', '中央', '乘飞机', '法律', '监督', '北京', '部门', '前往', '机场', '教育', '离开', '领导', '改革', '国务院', '完善', '负责人', '机关', '组织', '管理', '保障', '中国特色社会主义', '切实', '到达', '率领', '依法', '实施']\n",
      "7 ['美帝国主义', '企业', '建设', '帝国主义', '民族', '侵略', '友谊', '越南', '斗争', '全世界', '发展', '胜利', '两国人民', '独立', '市场', '团结', '世界和平', '祝贺', '反对', '事业', '正义斗争', '中华人民共和国', '兄弟', '增长', '经济', '保卫', '产品', '走狗', '投资', '代表团']\n",
      "8 ['传真照片', '两国人民', '10', '附图片', '友谊', '农民', '两国', '总理', '地区', '群众', '友好合作', '图为', '12', '20', '总统', '两国关系', '农村', '30', '亲切', '部队', '友好', '祝贺', '15', '万亩', '领导人', '感谢', '全省', '干部', '友好关系', '政府']\n",
      "9 ['传真照片', '经济', '国际', '企业', '乘飞机', '无产阶级', '美国', '革命', '北京', '产品', '市场', '公司', '毛主席', '修正主义', '研究', '毛泽东思想', '世界', '资产阶级', '贸易', '代表团', '理论', '离开', '工业', '文化大革命', '技术', '阶级斗争', '机场', '苏联', '无产阶级专政', '增长']\n"
     ]
    },
    {
     "data": {
      "text/html": [
       "<div>\n",
       "<style scoped>\n",
       "    .dataframe tbody tr th:only-of-type {\n",
       "        vertical-align: middle;\n",
       "    }\n",
       "\n",
       "    .dataframe tbody tr th {\n",
       "        vertical-align: top;\n",
       "    }\n",
       "\n",
       "    .dataframe thead th {\n",
       "        text-align: right;\n",
       "    }\n",
       "</style>\n",
       "<table border=\"1\" class=\"dataframe\">\n",
       "  <thead>\n",
       "    <tr style=\"text-align: right;\">\n",
       "      <th></th>\n",
       "      <th>0</th>\n",
       "      <th>1</th>\n",
       "      <th>2</th>\n",
       "      <th>3</th>\n",
       "      <th>4</th>\n",
       "      <th>5</th>\n",
       "      <th>6</th>\n",
       "      <th>7</th>\n",
       "      <th>8</th>\n",
       "      <th>9</th>\n",
       "    </tr>\n",
       "  </thead>\n",
       "  <tbody>\n",
       "    <tr>\n",
       "      <th>0</th>\n",
       "      <td>中国</td>\n",
       "      <td>生产</td>\n",
       "      <td>斗争</td>\n",
       "      <td>革命</td>\n",
       "      <td>发展</td>\n",
       "      <td>比赛</td>\n",
       "      <td>会议</td>\n",
       "      <td>美帝国主义</td>\n",
       "      <td>传真照片</td>\n",
       "      <td>传真照片</td>\n",
       "    </tr>\n",
       "    <tr>\n",
       "      <th>1</th>\n",
       "      <td>发展</td>\n",
       "      <td>提高</td>\n",
       "      <td>反对</td>\n",
       "      <td>同志</td>\n",
       "      <td>关系</td>\n",
       "      <td>中国</td>\n",
       "      <td>社会</td>\n",
       "      <td>企业</td>\n",
       "      <td>两国人民</td>\n",
       "      <td>经济</td>\n",
       "    </tr>\n",
       "    <tr>\n",
       "      <th>2</th>\n",
       "      <td>国家</td>\n",
       "      <td>建设</td>\n",
       "      <td>革命</td>\n",
       "      <td>毛主席</td>\n",
       "      <td>合作</td>\n",
       "      <td>世界</td>\n",
       "      <td>制度</td>\n",
       "      <td>建设</td>\n",
       "      <td>10</td>\n",
       "      <td>国际</td>\n",
       "    </tr>\n",
       "    <tr>\n",
       "      <th>3</th>\n",
       "      <td>经济</td>\n",
       "      <td>群众</td>\n",
       "      <td>侵略</td>\n",
       "      <td>代表团</td>\n",
       "      <td>两国</td>\n",
       "      <td>北京</td>\n",
       "      <td>政府</td>\n",
       "      <td>帝国主义</td>\n",
       "      <td>附图片</td>\n",
       "      <td>企业</td>\n",
       "    </tr>\n",
       "    <tr>\n",
       "      <th>4</th>\n",
       "      <td>北京</td>\n",
       "      <td>干部</td>\n",
       "      <td>胜利</td>\n",
       "      <td>学习</td>\n",
       "      <td>经济</td>\n",
       "      <td>选手</td>\n",
       "      <td>代表团</td>\n",
       "      <td>民族</td>\n",
       "      <td>友谊</td>\n",
       "      <td>乘飞机</td>\n",
       "    </tr>\n",
       "    <tr>\n",
       "      <th>5</th>\n",
       "      <td>建设</td>\n",
       "      <td>企业</td>\n",
       "      <td>美帝国主义</td>\n",
       "      <td>思想</td>\n",
       "      <td>政治</td>\n",
       "      <td>举办</td>\n",
       "      <td>中央</td>\n",
       "      <td>侵略</td>\n",
       "      <td>农民</td>\n",
       "      <td>无产阶级</td>\n",
       "    </tr>\n",
       "    <tr>\n",
       "      <th>6</th>\n",
       "      <td>国际</td>\n",
       "      <td>领导</td>\n",
       "      <td>帝国主义</td>\n",
       "      <td>无产阶级</td>\n",
       "      <td>领域</td>\n",
       "      <td>冠军</td>\n",
       "      <td>乘飞机</td>\n",
       "      <td>友谊</td>\n",
       "      <td>两国</td>\n",
       "      <td>美国</td>\n",
       "    </tr>\n",
       "    <tr>\n",
       "      <th>7</th>\n",
       "      <td>合作</td>\n",
       "      <td>部门</td>\n",
       "      <td>美国</td>\n",
       "      <td>群众</td>\n",
       "      <td>两国关系</td>\n",
       "      <td>国际</td>\n",
       "      <td>法律</td>\n",
       "      <td>越南</td>\n",
       "      <td>总理</td>\n",
       "      <td>革命</td>\n",
       "    </tr>\n",
       "    <tr>\n",
       "      <th>8</th>\n",
       "      <td>政府</td>\n",
       "      <td>管理</td>\n",
       "      <td>战争</td>\n",
       "      <td>领导</td>\n",
       "      <td>友好合作</td>\n",
       "      <td>女子</td>\n",
       "      <td>监督</td>\n",
       "      <td>斗争</td>\n",
       "      <td>地区</td>\n",
       "      <td>北京</td>\n",
       "    </tr>\n",
       "    <tr>\n",
       "      <th>9</th>\n",
       "      <td>关系</td>\n",
       "      <td>农村</td>\n",
       "      <td>毛主席</td>\n",
       "      <td>率领</td>\n",
       "      <td>稳定</td>\n",
       "      <td>运动员</td>\n",
       "      <td>北京</td>\n",
       "      <td>全世界</td>\n",
       "      <td>群众</td>\n",
       "      <td>产品</td>\n",
       "    </tr>\n",
       "    <tr>\n",
       "      <th>10</th>\n",
       "      <td>会议</td>\n",
       "      <td>全国</td>\n",
       "      <td>团结</td>\n",
       "      <td>中国</td>\n",
       "      <td>社会</td>\n",
       "      <td>锦标赛</td>\n",
       "      <td>部门</td>\n",
       "      <td>发展</td>\n",
       "      <td>友好合作</td>\n",
       "      <td>市场</td>\n",
       "    </tr>\n",
       "    <tr>\n",
       "      <th>11</th>\n",
       "      <td>美国</td>\n",
       "      <td>思想</td>\n",
       "      <td>谴责</td>\n",
       "      <td>团长</td>\n",
       "      <td>维护</td>\n",
       "      <td>主办</td>\n",
       "      <td>前往</td>\n",
       "      <td>胜利</td>\n",
       "      <td>图为</td>\n",
       "      <td>公司</td>\n",
       "    </tr>\n",
       "    <tr>\n",
       "      <th>12</th>\n",
       "      <td>全国</td>\n",
       "      <td>学习</td>\n",
       "      <td>无产阶级</td>\n",
       "      <td>友好</td>\n",
       "      <td>努力</td>\n",
       "      <td>决赛</td>\n",
       "      <td>机场</td>\n",
       "      <td>两国人民</td>\n",
       "      <td>12</td>\n",
       "      <td>毛主席</td>\n",
       "    </tr>\n",
       "    <tr>\n",
       "      <th>13</th>\n",
       "      <td>访问</td>\n",
       "      <td>组织</td>\n",
       "      <td>和平</td>\n",
       "      <td>干部</td>\n",
       "      <td>建设</td>\n",
       "      <td>男子</td>\n",
       "      <td>教育</td>\n",
       "      <td>独立</td>\n",
       "      <td>20</td>\n",
       "      <td>修正主义</td>\n",
       "    </tr>\n",
       "    <tr>\n",
       "      <th>14</th>\n",
       "      <td>代表团</td>\n",
       "      <td>农民</td>\n",
       "      <td>阴谋</td>\n",
       "      <td>会见</td>\n",
       "      <td>中方</td>\n",
       "      <td>中国队</td>\n",
       "      <td>离开</td>\n",
       "      <td>市场</td>\n",
       "      <td>总统</td>\n",
       "      <td>研究</td>\n",
       "    </tr>\n",
       "    <tr>\n",
       "      <th>15</th>\n",
       "      <td>组织</td>\n",
       "      <td>教育</td>\n",
       "      <td>全世界</td>\n",
       "      <td>毛泽东思想</td>\n",
       "      <td>交流</td>\n",
       "      <td>文化</td>\n",
       "      <td>领导</td>\n",
       "      <td>团结</td>\n",
       "      <td>两国关系</td>\n",
       "      <td>毛泽东思想</td>\n",
       "    </tr>\n",
       "    <tr>\n",
       "      <th>16</th>\n",
       "      <td>支持</td>\n",
       "      <td>服务</td>\n",
       "      <td>民族</td>\n",
       "      <td>北京</td>\n",
       "      <td>两国人民</td>\n",
       "      <td>全国</td>\n",
       "      <td>改革</td>\n",
       "      <td>世界和平</td>\n",
       "      <td>农村</td>\n",
       "      <td>世界</td>\n",
       "    </tr>\n",
       "    <tr>\n",
       "      <th>17</th>\n",
       "      <td>世界</td>\n",
       "      <td>农业</td>\n",
       "      <td>战斗</td>\n",
       "      <td>乘飞机</td>\n",
       "      <td>会见</td>\n",
       "      <td>奥运会</td>\n",
       "      <td>国务院</td>\n",
       "      <td>祝贺</td>\n",
       "      <td>30</td>\n",
       "      <td>资产阶级</td>\n",
       "    </tr>\n",
       "    <tr>\n",
       "      <th>18</th>\n",
       "      <td>社会</td>\n",
       "      <td>技术</td>\n",
       "      <td>苏联</td>\n",
       "      <td>访问</td>\n",
       "      <td>共同努力</td>\n",
       "      <td>历史</td>\n",
       "      <td>完善</td>\n",
       "      <td>反对</td>\n",
       "      <td>亲切</td>\n",
       "      <td>贸易</td>\n",
       "    </tr>\n",
       "    <tr>\n",
       "      <th>19</th>\n",
       "      <td>领导</td>\n",
       "      <td>改革</td>\n",
       "      <td>越南</td>\n",
       "      <td>大使</td>\n",
       "      <td>深化</td>\n",
       "      <td>10</td>\n",
       "      <td>负责人</td>\n",
       "      <td>事业</td>\n",
       "      <td>部队</td>\n",
       "      <td>代表团</td>\n",
       "    </tr>\n",
       "  </tbody>\n",
       "</table>\n",
       "</div>"
      ],
      "text/plain": [
       "      0   1      2      3     4    5    6      7     8      9\n",
       "0    中国  生产     斗争     革命    发展   比赛   会议  美帝国主义  传真照片   传真照片\n",
       "1    发展  提高     反对     同志    关系   中国   社会     企业  两国人民     经济\n",
       "2    国家  建设     革命    毛主席    合作   世界   制度     建设    10     国际\n",
       "3    经济  群众     侵略    代表团    两国   北京   政府   帝国主义   附图片     企业\n",
       "4    北京  干部     胜利     学习    经济   选手  代表团     民族    友谊    乘飞机\n",
       "5    建设  企业  美帝国主义     思想    政治   举办   中央     侵略    农民   无产阶级\n",
       "6    国际  领导   帝国主义   无产阶级    领域   冠军  乘飞机     友谊    两国     美国\n",
       "7    合作  部门     美国     群众  两国关系   国际   法律     越南    总理     革命\n",
       "8    政府  管理     战争     领导  友好合作   女子   监督     斗争    地区     北京\n",
       "9    关系  农村    毛主席     率领    稳定  运动员   北京    全世界    群众     产品\n",
       "10   会议  全国     团结     中国    社会  锦标赛   部门     发展  友好合作     市场\n",
       "11   美国  思想     谴责     团长    维护   主办   前往     胜利    图为     公司\n",
       "12   全国  学习   无产阶级     友好    努力   决赛   机场   两国人民    12    毛主席\n",
       "13   访问  组织     和平     干部    建设   男子   教育     独立    20   修正主义\n",
       "14  代表团  农民     阴谋     会见    中方  中国队   离开     市场    总统     研究\n",
       "15   组织  教育    全世界  毛泽东思想    交流   文化   领导     团结  两国关系  毛泽东思想\n",
       "16   支持  服务     民族     北京  两国人民   全国   改革   世界和平    农村     世界\n",
       "17   世界  农业     战斗    乘飞机    会见  奥运会  国务院     祝贺    30   资产阶级\n",
       "18   社会  技术     苏联     访问  共同努力   历史   完善     反对    亲切     贸易\n",
       "19   领导  改革     越南     大使    深化   10  负责人     事业    部队    代表团"
      ]
     },
     "execution_count": 10,
     "metadata": {},
     "output_type": "execute_result"
    }
   ],
   "source": [
    "df_concept=concept(tfidf, transformer,term_list)\n",
    "df_concept.iloc[:20]"
   ]
  },
  {
   "cell_type": "code",
   "execution_count": 29,
   "id": "ca0755d4-97f8-48dc-84ac-f8effdd01bc7",
   "metadata": {},
   "outputs": [
    {
     "name": "stdout",
     "output_type": "stream",
     "text": [
      "0 done 10000 done 20000 done 30000 done 40000 done 50000 done 60000 done 70000 done 80000 done 90000 done 100000 done 110000 done 120000 done 130000 done 140000 done 150000 done 160000 done 170000 done 180000 done 190000 done 200000 done 210000 done 220000 done 230000 done 240000 done 250000 done 260000 done 270000 done 280000 done 290000 done 300000 done 310000 done 320000 done 330000 done 340000 done 350000 done 360000 done 370000 done 380000 done 390000 done 400000 done 410000 done 420000 done 430000 done 440000 done 450000 done 460000 done 470000 done 480000 done 490000 done 500000 done 510000 done 520000 done 530000 done 540000 done 550000 done 560000 done 570000 done 580000 done 590000 done 600000 done 610000 done 620000 done 630000 done 640000 done 650000 done 660000 done 670000 done 680000 done 690000 done 700000 done 710000 done 720000 done 730000 done 740000 done 750000 done 760000 done 770000 done 780000 done 790000 done 800000 done 810000 done 820000 done 830000 done 840000 done 850000 done 860000 done 870000 done 880000 done 890000 done 900000 done 910000 done 920000 done 930000 done 940000 done 950000 done 960000 done 970000 done 980000 done 990000 done 1000000 done 1010000 done 1020000 done 1030000 done 1040000 done 1050000 done 1060000 done 1070000 done 1080000 done 1090000 done 1100000 done 1110000 done 1120000 done 1130000 done 1140000 done 1150000 done 1160000 done 1170000 done 1180000 done 1190000 done 1200000 done 1210000 done 1220000 done 1230000 done 1240000 done 1250000 done 1260000 done 1270000 done 1280000 done 1290000 done 1300000 done 1310000 done 1320000 done 1330000 done 1340000 done 1350000 done 1360000 done 1370000 done 1380000 done 1390000 done 1400000 done 1410000 done 1420000 done 1430000 done 1440000 done 1450000 done 1460000 done 1470000 done 1480000 done 1490000 done 1500000 done 1510000 done 1520000 done 1530000 done 1540000 done 1550000 done 1560000 done 1570000 done 1580000 done 1590000 done 1600000 done 1610000 done 1620000 done 1630000 done 1640000 done 1650000 done 1660000 done 1670000 done 1680000 done 1690000 done 1700000 done 1710000 done 1720000 done 1730000 done 1740000 done 1750000 done 1760000 done 1770000 done 1780000 done 1790000 done 1800000 done 1810000 done 1820000 done 1830000 done 1840000 done 1850000 done 1860000 done 1870000 done 1880000 done 1890000 done 1900000 done 1910000 done 1920000 done 1930000 done 1940000 done 1950000 done 1960000 done 0 done 10000 done 20000 done 30000 done 40000 done 50000 done 60000 done 70000 done 80000 done 90000 done 100000 done 110000 done 120000 done 130000 done 140000 done 150000 done 160000 done 170000 done 180000 done 190000 done 200000 done 210000 done 220000 done 230000 done 240000 done 250000 done 260000 done 270000 done 280000 done 290000 done 300000 done 310000 done 320000 done 330000 done 340000 done 350000 done 360000 done 370000 done 380000 done 390000 done 400000 done 410000 done 420000 done 430000 done 440000 done 450000 done 460000 done 470000 done 480000 done 490000 done 500000 done 510000 done 520000 done 530000 done 540000 done 550000 done 560000 done 570000 done 580000 done 590000 done 600000 done 610000 done 620000 done 630000 done 640000 done 650000 done 660000 done 670000 done 680000 done 690000 done 700000 done 710000 done 720000 done 730000 done 740000 done 750000 done 760000 done 770000 done 780000 done 790000 done 800000 done 810000 done 820000 done 830000 done 840000 done 850000 done 860000 done 870000 done 880000 done 890000 done 900000 done 910000 done 920000 done 930000 done 940000 done 950000 done 960000 done 970000 done 980000 done 990000 done 1000000 done 1010000 done 1020000 done 1030000 done 1040000 done 1050000 done 1060000 done 1070000 done 1080000 done 1090000 done 1100000 done 1110000 done 1120000 done 1130000 done 1140000 done 1150000 done 1160000 done 1170000 done 1180000 done 1190000 done 1200000 done 1210000 done 1220000 done 1230000 done 1240000 done 1250000 done 1260000 done 1270000 done 1280000 done 1290000 done 1300000 done 1310000 done 1320000 done 1330000 done 1340000 done 1350000 done 1360000 done 1370000 done 1380000 done 1390000 done 1400000 done 1410000 done 1420000 done 1430000 done 1440000 done 1450000 done 1460000 done 1470000 done 1480000 done 1490000 done 1500000 done 1510000 done 1520000 done 1530000 done 1540000 done 1550000 done 1560000 done 1570000 done 1580000 done 1590000 done 1600000 done 1610000 done 1620000 done 1630000 done 1640000 done 1650000 done 1660000 done 1670000 done 1680000 done 1690000 done 1700000 done 1710000 done 1720000 done 1730000 done 1740000 done 1750000 done 1760000 done 1770000 done 1780000 done 1790000 done 1800000 done 1810000 done 1820000 done 1830000 done 1840000 done 1850000 done 1860000 done 1870000 done 1880000 done 1890000 done 1900000 done 1910000 done 1920000 done 1930000 done 1940000 done 1950000 done 1960000 done "
     ]
    },
    {
     "data": {
      "text/plain": [
       "['伟大领袖',\n",
       " '战无不胜',\n",
       " '对帝',\n",
       " '伟大红旗',\n",
       " '红卫兵',\n",
       " '光辉思想',\n",
       " '红彤彤',\n",
       " '红代会',\n",
       " '无限热爱',\n",
       " '林副主席',\n",
       " '毛主席',\n",
       " '千秋万代',\n",
       " '铁打江山',\n",
       " '战斗历程',\n",
       " '文化大革命',\n",
       " '四十八年',\n",
       " '风雷动',\n",
       " '最红',\n",
       " '万万岁',\n",
       " '无限信仰',\n",
       " '永世',\n",
       " '一万遍',\n",
       " '永不变色',\n",
       " '光焰',\n",
       " '最最',\n",
       " '红太阳',\n",
       " '与帝',\n",
       " '宝书',\n",
       " '海枯石烂',\n",
       " '无限崇拜',\n",
       " '伟大号召',\n",
       " '语录',\n",
       " '万寿无疆',\n",
       " '东风浩荡',\n",
       " '大长',\n",
       " '指路明灯',\n",
       " '一千遍',\n",
       " '无际',\n",
       " '毛泽东思想',\n",
       " '喜讯传来',\n",
       " '千遍万遍',\n",
       " '反修',\n",
       " '十六条',\n",
       " '举得',\n",
       " '九大',\n",
       " '大风大浪',\n",
       " '革命派',\n",
       " '大灭',\n",
       " '无产阶级',\n",
       " '伟大的统帅']"
      ]
     },
     "execution_count": 29,
     "metadata": {},
     "output_type": "execute_result"
    }
   ],
   "source": [
    "k=50\n",
    "term='伟大领袖'\n",
    "kClosestTerms(k,term,transformer,lsa,term_list)"
   ]
  },
  {
   "cell_type": "markdown",
   "id": "334032c7-2767-4a6a-bd9a-39485ff6d40d",
   "metadata": {
    "tags": []
   },
   "source": [
    "# word2vec\n",
    "* word2vec 以類神經網絡求得各字詞的向量。有結構的相似性，向量較接近。例如馬英九、陳水扁、蔡英文會很接近，並非其共現性，亦非同義語，而是他們經常與「總統」共同出現。\n",
    "* gensim 官方網頁: https://radimrehurek.com/gensim/tut1.html\n",
    "* 安裝 gensim: \n",
    "* 命令提示字元：pip install --upgrade gensim 或 easy_install -U gensim興"
   ]
  },
  {
   "cell_type": "markdown",
   "id": "93b590d4-fc20-4166-962e-ac40acb0e8a6",
   "metadata": {},
   "source": [
    "## 設定系統環境與暫存檔案位置"
   ]
  },
  {
   "cell_type": "code",
   "execution_count": 20,
   "id": "be103c99-e24b-4408-a8ff-039fca56fd7d",
   "metadata": {},
   "outputs": [],
   "source": [
    "# 執行時記錄時間、位置與訊息。\n",
    "import logging\n",
    "#logging.basicConfig(format='%(asctime)s : %(levelname)s : %(message)s', level=logging.INFO)\n",
    "import pandas as pd\n",
    "import numpy\n",
    "import numpy as np\n",
    "import matplotlib.pyplot as plt\n",
    "import os\n",
    "import io\n",
    "import tempfile\n",
    "import re\n",
    "import gensim"
   ]
  },
  {
   "cell_type": "code",
   "execution_count": 20,
   "id": "630b9662-ea02-4a8c-8d00-00a7cf6d7930",
   "metadata": {},
   "outputs": [
    {
     "name": "stdout",
     "output_type": "stream",
     "text": [
      "Folder \"C:\\Users\\User\\AppData\\Local\\Temp\" will be used to save temporary dictionary and corpus.\n",
      "C:\\Users\\User\n"
     ]
    }
   ],
   "source": [
    "# 設定儲存暫存檔的位置 temfile\n",
    "TEMP_FOLDER = tempfile.gettempdir()\n",
    "print('Folder \"{}\" will be used to save temporary dictionary and corpus.'.format(TEMP_FOLDER))\n",
    "cur_dir = os.getcwd() #印出目前工作目錄\n",
    "print (cur_dir)"
   ]
  },
  {
   "cell_type": "code",
   "execution_count": 28,
   "id": "6e61bc31-1db7-4996-995e-f132753e8795",
   "metadata": {
    "tags": []
   },
   "outputs": [],
   "source": [
    "\n",
    "# 自動產生一個資料夾放資料檔\n",
    "if not os.path.exists(cur_dir + '/word2vec_data/'):\n",
    "    os.makedirs('/word2vec_data/')"
   ]
  },
  {
   "cell_type": "markdown",
   "id": "72dcb84b-cec8-45d5-ba50-256fdda2dcb0",
   "metadata": {},
   "source": [
    "## 資料重整\n",
    "* 從doc_seg1 轉成 texts, 存檔為 mydocument.txt, 新增一個目錄名為 word2vec_data\n",
    "* 原資料為 list, 第一層為文件，第二層為經過斷字的文章，string。\n",
    "* 改為 string, 每一行代表一篇文章。"
   ]
  },
  {
   "cell_type": "code",
   "execution_count": 8,
   "id": "349f78df-6813-4333-b620-d2175ca3c9be",
   "metadata": {},
   "outputs": [],
   "source": [
    "year=[1946,1947,1948,1949,\n",
    "      1950,1951,1952,1953,1954,1955,1956,1957,1958,1959,\n",
    "      1960,1961,1962,1963,1964,1965,1966,1967,1968,1969,\n",
    "      1970,1971,1972,1973,1974,1975,1976,1977,1978,1979,\n",
    "      1980,1981,1982,1983,1984,1985,1986,1987,1988,1989,\n",
    "      1990,1991,1992,1993,1994,1995,1996,1997,1998,1999,\n",
    "      2000,2001,2002,2003,2004,2005,2006,2007,2008,2009,\n",
    "      2010,2011,2012]\n",
    "path=\"D:/my python/people/\" "
   ]
  },
  {
   "cell_type": "code",
   "execution_count": 29,
   "id": "9974dbeb-ea78-4970-b6d2-f1705c37424d",
   "metadata": {},
   "outputs": [
    {
     "name": "stdout",
     "output_type": "stream",
     "text": [
      "1946 done\n",
      "1947 done\n",
      "1948 done\n",
      "1949 done\n",
      "1950 done\n",
      "1951 done\n",
      "1952 done\n",
      "1953 done\n",
      "1954 done\n",
      "1955 done\n",
      "1956 done\n",
      "1957 done\n",
      "1958 done\n",
      "1959 done\n",
      "1960 done\n",
      "1961 done\n",
      "1962 done\n",
      "1963 done\n",
      "1964 done\n",
      "1965 done\n",
      "1966 done\n",
      "1967 done\n",
      "1968 done\n",
      "1969 done\n",
      "1970 done\n",
      "1971 done\n",
      "1972 done\n",
      "1973 done\n",
      "1974 done\n",
      "1975 done\n",
      "1976 done\n",
      "1977 done\n",
      "1978 done\n",
      "1979 done\n",
      "1980 done\n",
      "1981 done\n",
      "1982 done\n",
      "1983 done\n",
      "1984 done\n",
      "1985 done\n",
      "1986 done\n",
      "1987 done\n",
      "1988 done\n",
      "1989 done\n",
      "1990 done\n",
      "1991 done\n",
      "1992 done\n",
      "1993 done\n",
      "1994 done\n",
      "1995 done\n",
      "1996 done\n",
      "1997 done\n",
      "1998 done\n",
      "1999 done\n",
      "2000 done\n",
      "2001 done\n",
      "2002 done\n",
      "2003 done\n",
      "2004 done\n",
      "2005 done\n",
      "2006 done\n",
      "2007 done\n",
      "2008 done\n",
      "2009 done\n",
      "2010 done\n",
      "2011 done\n",
      "2012 done\n"
     ]
    }
   ],
   "source": [
    "# 含有 kw 的方保留\n",
    "sentences=[]\n",
    "years=[]\n",
    "filenames=[]\n",
    "titles=[]\n",
    "df1=pd.DataFrame()\n",
    "for n in range(len(year)):\n",
    "    # 選擇斷詞好的文本\n",
    "    fname=str(year[n])+\"_jieba.xlsx\"\n",
    "    df=pd.read_excel(path+\"jieba/\"+fname, 0)   \n",
    "    df = df.fillna(\"\")\n",
    "    df=df[['token']]\n",
    "    fname=cur_dir + '/word2vec_data/'+str(year[n])+'.txt'\n",
    "    with open(fname, 'a', encoding='UTF-8') as f:\n",
    "        dfAsString = df.to_string(header=False, index=False)\n",
    "        f.write(dfAsString)\n",
    "    print (year[n],\"done\", end=\" \")    "
   ]
  },
  {
   "cell_type": "markdown",
   "id": "ea15df45-4a10-4605-9f8f-28c29f055c14",
   "metadata": {},
   "source": [
    "## 讀取多個text檔，製作文字袋 object"
   ]
  },
  {
   "cell_type": "code",
   "execution_count": 30,
   "id": "716e1297-ce6d-4f46-aacb-f791a2e2be1f",
   "metadata": {},
   "outputs": [],
   "source": [
    "# 每行讀取，每行代表一篇文章\n",
    "class MySentences(object):\n",
    "    def __init__(self, dirname):\n",
    "        self.dirname = dirname \n",
    "    def __iter__(self):\n",
    "        # 開啟每個檔案\n",
    "        for fname in os.listdir(self.dirname):\n",
    "            # 每行每行讀取\n",
    "            for line in open(os.path.join(self.dirname, fname), encoding='utf-8'):\n",
    "                yield line.split()\n",
    "                \n",
    "# 讀取料夾內所有檔案，轉為 list 文字袋，第一層文章，第二層字詞     \n",
    "# 讀到的文字袋存為 sentences, object  \n",
    "sentences = MySentences(cur_dir +\"/word2vec_data\")  # a memory-friendly iterator            "
   ]
  },
  {
   "cell_type": "markdown",
   "id": "52fca31f-7a7e-4d5d-9387-cc4779ba07f9",
   "metadata": {},
   "source": [
    "## 訓練 (時間比較久，要有耐心)\n",
    "* 輸入大文本資料，由大量的字詞前後關係，得出每個字詞周邊可能會出現其他字詞的機率分布，同時，也可以算出降維後，每個字詞在空間中的位置(向量)，計算字詞與字詞間的距離，或相對關係。\n",
    "* 基本應用：\n",
    "* 運用類神經網絡(或稱深度學習 deep learning)演算法。\n",
    "* Word2vec works in two models CBOW and skip-gram. Let's take CBOW model,\n",
    "* 非堅督式學習，訓練結果無法得知好壞，只能從後續的應用得知。\n",
    "* 教學資源："
   ]
  },
  {
   "cell_type": "markdown",
   "id": "62917ddf-0495-4444-a313-85bf0caf9db5",
   "metadata": {},
   "source": [
    "* 參數設定\n",
    "* https://radimrehurek.com/gensim/models/word2vec.html#gensim.models.word2vec.Word2Vec\n",
    "* min_count，至少出現次數，內訂為 5\n",
    "* window，移動視窗，多遠距離的字詞預估(the maximum distance between the current and predicted word)，內訂為5\n",
    "* size，維度的空間(the N-dimensional space)，隱藏層的神經元數目，內訂為100\n",
    "* workers，多功可加快速度，須先裝 cython 才有效，內訂為3。\n",
    "* hs = if 1, hierarchical softmax will be used. If 0 (default), and negative is non-zero, negative sampling will be used.\n",
    "* negative is non-zero, negative sampling will be used, the int for negative specifies how many “noise words” should be drawn (usually between 5-20). Default is 5. If set to 0, no negative samping is used.\n",
    "* Memory，耗用記憶體，字詞數乘以size,window, workers。"
   ]
  },
  {
   "cell_type": "code",
   "execution_count": 33,
   "id": "f7fe8ed7-46fc-4020-a06c-26d9dfa50d0a",
   "metadata": {},
   "outputs": [],
   "source": [
    "\n",
    "# 引數 sentences 為各篇文章的文字袋(注意格式)，注意其他參數設定\n",
    "seed = 666\n",
    "sg = 0\n",
    "window_size = 10\n",
    "vector_size = 100\n",
    "min_count = 1\n",
    "workers = 8\n",
    "epochs = 5\n",
    "batch_words = 10000\n",
    "model1 = gensim.models.Word2Vec(sentences,\n",
    "    min_count=min_count,\n",
    "    vector_size=vector_size,\n",
    "    workers=workers,\n",
    "    epochs=epochs,\n",
    "    window=window_size,\n",
    "    sg=sg,\n",
    "    seed=seed,\n",
    "    batch_words=batch_words)"
   ]
  },
  {
   "cell_type": "code",
   "execution_count": null,
   "id": "1f9764e9-3d1e-4820-9a7f-857ed9e40981",
   "metadata": {},
   "outputs": [],
   "source": [
    "words1 = list(model1.wv.vocab)\n",
    "print (len(words1))"
   ]
  },
  {
   "cell_type": "markdown",
   "id": "5f8b96ff-1060-4f32-b25b-41fd1b74791f",
   "metadata": {},
   "source": [
    "## 模型儲存"
   ]
  },
  {
   "cell_type": "code",
   "execution_count": 35,
   "id": "d88c9521-57b8-4b70-921d-82a502c6e761",
   "metadata": {
    "tags": []
   },
   "outputs": [],
   "source": [
    "fname=cur_dir +\"\\word2vec_data\\w2v_model1.txt\"\n",
    "model1.save(fname)"
   ]
  },
  {
   "cell_type": "code",
   "execution_count": 22,
   "id": "362be9b8-1033-4620-b791-7bb09b365793",
   "metadata": {},
   "outputs": [],
   "source": [
    "# 也可以存成 bin 檔\n",
    "model1.save(path+\"working/model.bin\")"
   ]
  },
  {
   "cell_type": "markdown",
   "id": "e70e08e5-1a1d-4da3-8ba4-65b620fc9e5e",
   "metadata": {},
   "source": [
    "## 讀取"
   ]
  },
  {
   "cell_type": "code",
   "execution_count": 17,
   "id": "4d599aa9-88bb-4a79-bd00-cff94d66b224",
   "metadata": {
    "tags": []
   },
   "outputs": [
    {
     "ename": "NameError",
     "evalue": "name 'cur_dir' is not defined",
     "output_type": "error",
     "traceback": [
      "\u001b[1;31m---------------------------------------------------------------------------\u001b[0m",
      "\u001b[1;31mNameError\u001b[0m                                 Traceback (most recent call last)",
      "\u001b[1;32m~\\AppData\\Local\\Temp/ipykernel_20696/2087313798.py\u001b[0m in \u001b[0;36m<module>\u001b[1;34m\u001b[0m\n\u001b[0;32m      1\u001b[0m \u001b[1;31m##############################################\u001b[0m\u001b[1;33m\u001b[0m\u001b[1;33m\u001b[0m\u001b[1;33m\u001b[0m\u001b[0m\n\u001b[1;32m----> 2\u001b[1;33m \u001b[0mfname\u001b[0m\u001b[1;33m=\u001b[0m\u001b[0mcur_dir\u001b[0m \u001b[1;33m+\u001b[0m\u001b[1;34m\"\\word2vec_data\\w2v_model1.txt\"\u001b[0m\u001b[1;33m\u001b[0m\u001b[1;33m\u001b[0m\u001b[0m\n\u001b[0m\u001b[0;32m      3\u001b[0m \u001b[0mmodel1\u001b[0m \u001b[1;33m=\u001b[0m \u001b[0mgensim\u001b[0m\u001b[1;33m.\u001b[0m\u001b[0mmodels\u001b[0m\u001b[1;33m.\u001b[0m\u001b[0mWord2Vec\u001b[0m\u001b[1;33m.\u001b[0m\u001b[0mload\u001b[0m\u001b[1;33m(\u001b[0m\u001b[0mfname\u001b[0m\u001b[1;33m)\u001b[0m  \u001b[1;31m# you can continue training with the loaded model!\u001b[0m\u001b[1;33m\u001b[0m\u001b[1;33m\u001b[0m\u001b[0m\n",
      "\u001b[1;31mNameError\u001b[0m: name 'cur_dir' is not defined"
     ]
    }
   ],
   "source": [
    "##############################################\n",
    "fname=cur_dir +\"\\word2vec_data\\w2v_model1.txt\"\n",
    "model1 = gensim.models.Word2Vec.load(fname)  # you can continue training with the loaded model!"
   ]
  },
  {
   "cell_type": "markdown",
   "id": "806cc5bc-ff0b-43a1-b4bb-8cd3fab3ceed",
   "metadata": {},
   "source": [
    "## 某個字詞的向量\n"
   ]
  },
  {
   "cell_type": "code",
   "execution_count": 49,
   "id": "1bf25fd6-a663-4445-947f-ca700bae7236",
   "metadata": {
    "tags": []
   },
   "outputs": [
    {
     "data": {
      "text/plain": [
       "array([-7.4103341e-02, -2.8792534e+00, -2.9030464e+00,  1.9297727e+00,\n",
       "       -4.1995859e+00,  1.3434430e+00,  5.3185129e+00,  1.8856300e+00,\n",
       "        9.9386084e-01,  3.9040930e+00, -1.8884244e+00, -1.1290009e+00,\n",
       "       -3.1349480e-01, -1.8501260e+00,  1.0676432e+00,  2.9322159e+00,\n",
       "       -6.3640994e-01, -5.1550965e+00, -4.3209486e+00,  9.5664543e-01,\n",
       "        2.1225898e+00,  5.4785538e+00,  3.2091327e+00, -4.4638085e+00,\n",
       "       -5.6119280e+00, -5.5335873e-01,  7.6833628e-03, -1.7482197e+00,\n",
       "       -3.3751745e+00,  4.2273159e+00,  1.0909537e+00,  4.0444779e+00,\n",
       "       -7.0587349e+00,  2.3918550e+00, -2.6788953e-01,  6.6266918e-01,\n",
       "       -2.3299170e+00,  5.6378150e+00,  5.7518399e-01, -8.3680096e+00,\n",
       "       -7.8566394e+00, -1.7519004e+00, -2.4536273e+00,  5.0473399e+00,\n",
       "        3.1660731e+00, -2.5422773e-01,  1.8931571e+00, -2.0494962e+00,\n",
       "       -3.2127509e+00,  1.7837901e+00, -8.7715740e+00,  7.8974056e-01,\n",
       "        1.7716237e+00,  5.6958981e+00, -3.4061915e-01,  2.0220882e-01,\n",
       "        1.9693420e+00,  2.4776280e+00,  4.0095282e+00,  3.0623038e+00,\n",
       "       -5.0447285e-01,  2.1913974e+00,  3.8871825e+00,  1.0912625e+00,\n",
       "        1.6280464e+00,  1.3257513e+00,  1.0840861e+00, -3.9459601e-01,\n",
       "       -6.2376847e+00, -3.5732731e-02, -3.1171268e-01,  2.0461862e+00,\n",
       "        1.6486928e-01,  4.2701373e+00, -7.1032250e-01, -7.6326758e-01,\n",
       "        2.6777875e+00, -3.6220644e+00, -3.1740170e+00, -3.9435041e+00,\n",
       "        4.0038142e+00,  3.5627325e+00, -2.9430747e+00,  1.5755339e-01,\n",
       "       -3.1852373e-01, -6.4918823e+00, -8.1901093e+00, -3.9040453e+00,\n",
       "        2.1414773e+00, -2.5609686e+00, -1.0249089e+00, -3.5423119e+00,\n",
       "       -1.0567003e+00, -2.2468886e+00,  4.8638673e+00, -1.8451241e+00,\n",
       "       -8.9549327e-01, -1.1587213e+00,  4.0110506e-02, -1.4118069e+00],\n",
       "      dtype=float32)"
      ]
     },
     "execution_count": 49,
     "metadata": {},
     "output_type": "execute_result"
    }
   ],
   "source": [
    "# 字詞的向量\n",
    "a=model1.wv['自由']  # numpy vector of a word\n",
    "a"
   ]
  },
  {
   "cell_type": "code",
   "execution_count": 50,
   "id": "41a80c1b-b16b-4be1-92ed-acbf57204261",
   "metadata": {},
   "outputs": [],
   "source": [
    "b=model1.wv['民主'] "
   ]
  },
  {
   "cell_type": "code",
   "execution_count": 51,
   "id": "9b4f3642-e73f-45b9-8d2f-2153f5c04b8a",
   "metadata": {},
   "outputs": [
    {
     "data": {
      "text/plain": [
       "array([ 13.990654  , -12.111562  ,  -0.33018517,   3.3650608 ,\n",
       "        -7.3823843 , -23.594728  ,  21.29218   ,   0.2441982 ,\n",
       "        -5.4036226 ,  10.58201   ,  -1.1638694 ,  -6.1340294 ,\n",
       "         1.5550361 ,  15.637451  ,   2.9826016 ,  -1.9969385 ,\n",
       "         3.6894991 , -13.552641  , -21.821224  , -16.468216  ,\n",
       "         9.352181  ,   5.5091667 ,   5.90228   , -18.17016   ,\n",
       "        -7.467868  ,  18.886602  ,  11.245746  , -18.281342  ,\n",
       "       -27.86699   ,   4.566697  ,   0.58131075,  15.221552  ,\n",
       "       -20.056358  ,   5.862406  ,  -0.08472194,   6.18945   ,\n",
       "        -1.5496873 ,  20.279291  ,  -2.1351933 , -28.993235  ,\n",
       "       -24.568592  ,   6.6466084 , -13.991067  ,  21.25393   ,\n",
       "        -2.3232238 ,   6.4417005 ,  11.2135    ,  -0.60856116,\n",
       "         1.6567225 ,  -1.0500407 , -25.74908   ,  -4.3087583 ,\n",
       "        12.700454  ,  17.46258   ,  -7.0441475 ,   5.830426  ,\n",
       "        14.099746  ,  10.354751  ,  11.002479  ,  -0.10140634,\n",
       "       -18.012815  ,  -4.4028997 ,  15.156728  ,  16.179407  ,\n",
       "         4.3924675 ,  -7.64968   ,   5.402026  ,   8.024774  ,\n",
       "       -19.219416  ,  -3.4058425 ,   9.081917  ,   6.958997  ,\n",
       "         5.9962473 ,   6.7452564 ,  10.989274  ,   1.3787084 ,\n",
       "         8.353941  ,  -1.2680795 ,  -0.68974996, -11.655327  ,\n",
       "         9.82462   ,   7.3157034 ,  -5.407986  ,   6.2009406 ,\n",
       "       -12.922414  , -20.345583  , -12.400295  , -20.470015  ,\n",
       "        -7.2902584 , -17.580948  , -10.949487  , -18.289204  ,\n",
       "        -1.9430488 , -17.896944  ,  22.861935  , -12.311721  ,\n",
       "       -11.696379  ,  -4.855554  , -18.499393  , -21.669172  ],\n",
       "      dtype=float32)"
      ]
     },
     "execution_count": 51,
     "metadata": {},
     "output_type": "execute_result"
    }
   ],
   "source": [
    "# 向量可以加減乘除\n",
    "d=a+b*3\n",
    "d"
   ]
  },
  {
   "cell_type": "markdown",
   "id": "38ad2bda-4cfd-40e8-b2d8-95ca24bcecbd",
   "metadata": {},
   "source": [
    "## 向量與向量間的 cos 距離"
   ]
  },
  {
   "cell_type": "code",
   "execution_count": 52,
   "id": "60dd4225-7162-462b-ad6c-79b11534d8e5",
   "metadata": {
    "tags": []
   },
   "outputs": [],
   "source": [
    "import numpy as np\n",
    "def cos_simility(a, b):\n",
    "    x = np.array(a)\n",
    "    y = np.array(b)\n",
    "    Lx=np.linalg.norm(x)\n",
    "    Ly=np.linalg.norm(y)\n",
    "    cos=round(x.dot(y)/(Lx*Ly),8) \n",
    "    return cos"
   ]
  },
  {
   "cell_type": "code",
   "execution_count": 53,
   "id": "a2780204-f711-483c-93aa-a7207e89e91a",
   "metadata": {},
   "outputs": [
    {
     "data": {
      "text/plain": [
       "0.54990536"
      ]
     },
     "execution_count": 53,
     "metadata": {},
     "output_type": "execute_result"
    }
   ],
   "source": [
    "a=model1.wv['自由'] \n",
    "b=model1.wv['民主'] \n",
    "c=cos_simility(a, b)\n",
    "c"
   ]
  },
  {
   "cell_type": "markdown",
   "id": "b3071494-1abf-4b35-9fdd-25d3dd02d110",
   "metadata": {},
   "source": [
    "## 字詞的相似性"
   ]
  },
  {
   "cell_type": "code",
   "execution_count": 56,
   "id": "a24fadf1-8771-4479-a308-57993048f54a",
   "metadata": {},
   "outputs": [
    {
     "data": {
      "text/plain": [
       "0.5499054"
      ]
     },
     "execution_count": 56,
     "metadata": {},
     "output_type": "execute_result"
    }
   ],
   "source": [
    "model1.wv.similarity('自由','民主')\n"
   ]
  },
  {
   "cell_type": "markdown",
   "id": "5933d1f4-7334-4ffd-a440-c5958677361e",
   "metadata": {},
   "source": [
    "## 最接近的字詞"
   ]
  },
  {
   "cell_type": "code",
   "execution_count": 23,
   "id": "65f0cf56-9e29-4c3b-9b08-a4e3fe4709d1",
   "metadata": {},
   "outputs": [
    {
     "data": {
      "text/plain": [
       "[('邓小平', 0.8402860760688782),\n",
       " ('江泽民', 0.7258259057998657),\n",
       " ('大钊', 0.7220970392227173),\n",
       " ('胡志明', 0.7058353424072266),\n",
       " ('斯大林', 0.7053905725479126),\n",
       " ('中国共产党', 0.6911027431488037),\n",
       " ('金日成', 0.6756417751312256),\n",
       " ('华国锋', 0.6740742325782776),\n",
       " ('恩来', 0.672836184501648),\n",
       " ('瞿秋白', 0.6724335551261902),\n",
       " ('陈云', 0.66998291015625),\n",
       " ('我党', 0.6644517183303833),\n",
       " ('任弼时', 0.6642876267433167),\n",
       " ('周恩来', 0.6591649651527405),\n",
       " ('闻天', 0.6567334532737732),\n",
       " ('先念', 0.6474846005439758),\n",
       " ('李大钊', 0.6465905904769897),\n",
       " ('毛主席', 0.6437059640884399),\n",
       " ('稼祥', 0.6389459371566772),\n",
       " ('片山潜', 0.6322881579399109),\n",
       " ('德怀', 0.6317355632781982),\n",
       " ('从洲', 0.6275631189346313),\n",
       " ('朱德', 0.6269260048866272),\n",
       " ('列宁', 0.6264203786849976),\n",
       " ('彭德怀', 0.6259609460830688),\n",
       " ('耀邦', 0.6248888969421387),\n",
       " ('小平同志', 0.6235034465789795),\n",
       " ('愈之', 0.6192953586578369),\n",
       " ('叶剑英', 0.6155536770820618),\n",
       " ('汉夫', 0.613665759563446),\n",
       " ('方志敏', 0.6119800209999084),\n",
       " ('伯承', 0.6118382215499878),\n",
       " ('刘少奇', 0.6067354679107666),\n",
       " ('了少奇', 0.6055523753166199),\n",
       " ('子宜', 0.6047338843345642),\n",
       " ('秋白', 0.603359580039978),\n",
       " ('胡锦涛', 0.6033111214637756),\n",
       " ('爱萍', 0.5987823605537415),\n",
       " ('张闻天', 0.5959765911102295),\n",
       " ('胡耀邦', 0.5959469079971313),\n",
       " ('苏维埃政府', 0.5950616002082825),\n",
       " ('富春', 0.5933377742767334),\n",
       " ('霍查', 0.5933247208595276),\n",
       " ('宋庆龄', 0.5898180603981018),\n",
       " ('贺龙', 0.5888699293136597),\n",
       " ('恩格斯', 0.5858545303344727),\n",
       " ('紫峰', 0.5846568942070007),\n",
       " ('守常', 0.5839524865150452),\n",
       " ('布尔什维主义', 0.5838097333908081),\n",
       " ('孙中山', 0.5834800601005554)]"
      ]
     },
     "execution_count": 23,
     "metadata": {},
     "output_type": "execute_result"
    }
   ],
   "source": [
    "model1.wv.most_similar('毛泽东', topn=50)"
   ]
  },
  {
   "cell_type": "code",
   "execution_count": 22,
   "id": "ff30be27-f612-4216-9d63-1ff244081f07",
   "metadata": {},
   "outputs": [
    {
     "data": {
      "text/plain": [
       "[('伟大的领袖', 0.8727399706840515),\n",
       " ('敬爱', 0.7228566408157349),\n",
       " ('伟大的导师', 0.6712188720703125),\n",
       " ('伟大的统帅', 0.646854817867279),\n",
       " ('英明领袖', 0.6234865188598633),\n",
       " ('杜丑', 0.6193273663520813),\n",
       " ('伟大的舵手', 0.604938805103302),\n",
       " ('最红', 0.6023340225219727),\n",
       " ('伟大舵手', 0.5994139313697815),\n",
       " ('亲密战友', 0.5539891123771667),\n",
       " ('领导全党', 0.5537614822387695),\n",
       " ('陈克良', 0.5411613583564758),\n",
       " ('张寒晖', 0.5409386157989502),\n",
       " ('伟大', 0.5248295068740845),\n",
       " ('郑榕林', 0.523016095161438),\n",
       " ('光辉一生', 0.5189442038536072),\n",
       " ('舒茂贵', 0.5130596160888672),\n",
       " ('缔造者', 0.5070366263389587),\n",
       " ('韶山', 0.5038968324661255),\n",
       " ('敬仰', 0.5009653568267822),\n",
       " ('英明', 0.49674707651138306),\n",
       " ('深切关怀', 0.4937417805194855),\n",
       " ('党中央', 0.4925348162651062),\n",
       " ('朱总司令', 0.4924063980579376),\n",
       " ('永垂不朽', 0.4896009862422943),\n",
       " ('百年诞辰', 0.48583725094795227),\n",
       " ('永跟', 0.48501715064048767),\n",
       " ('无限怀念', 0.4827490746974945),\n",
       " ('周总理', 0.4817030429840088),\n",
       " ('无产阶级文艺路线', 0.48122572898864746),\n",
       " ('创立者', 0.4800833463668823),\n",
       " ('丰功伟绩', 0.4795612394809723),\n",
       " ('遗容', 0.47901588678359985),\n",
       " ('热爱和尊敬', 0.4757421910762787),\n",
       " ('万寿无疆', 0.47435158491134644),\n",
       " ('中国共产党中央委员会总书记', 0.47264471650123596),\n",
       " ('伟大光荣', 0.47231876850128174),\n",
       " ('赵文纶', 0.47116124629974365),\n",
       " ('中国共产党', 0.47040799260139465),\n",
       " ('英明领导', 0.46791818737983704),\n",
       " ('痛悼', 0.4675866961479187),\n",
       " ('冥寿', 0.4651254117488861),\n",
       " ('周恩来', 0.46487492322921753),\n",
       " ('花明楼', 0.4637943208217621),\n",
       " ('创建人', 0.4626903235912323),\n",
       " ('光辉业绩', 0.46129903197288513),\n",
       " ('孙国彬', 0.4605224132537842),\n",
       " ('第一任', 0.45708948373794556),\n",
       " ('伟大创举', 0.45602497458457947),\n",
       " ('周凯军', 0.4555305540561676)]"
      ]
     },
     "execution_count": 22,
     "metadata": {},
     "output_type": "execute_result"
    }
   ],
   "source": [
    "model1.wv.most_similar('伟大领袖', topn=50)"
   ]
  },
  {
   "cell_type": "code",
   "execution_count": 85,
   "id": "5cd47f0d-6a84-43d1-b714-fc877835c802",
   "metadata": {},
   "outputs": [
    {
     "data": {
      "text/plain": [
       "[('江泽民', 0.8412005305290222),\n",
       " ('毛泽东', 0.840286135673523),\n",
       " ('小平同志', 0.7805500626564026),\n",
       " ('陈云', 0.7650571465492249),\n",
       " ('胡耀邦', 0.7251560688018799),\n",
       " ('胡锦涛', 0.7171494960784912),\n",
       " ('华国锋', 0.6806959509849548),\n",
       " ('先念', 0.6795100569725037),\n",
       " ('叶剑英', 0.6756204962730408),\n",
       " ('耀邦', 0.6753972768783569),\n",
       " ('闻天', 0.6711532473564148),\n",
       " ('陶铸', 0.6696674823760986),\n",
       " ('杨献珍', 0.662767767906189),\n",
       " ('刘少奇', 0.6580374240875244),\n",
       " ('大钊', 0.6567032337188721),\n",
       " ('张闻天', 0.6515966653823853),\n",
       " ('周恩来', 0.6490671634674072),\n",
       " ('彭真', 0.6467975378036499),\n",
       " ('云儒', 0.645505964756012),\n",
       " ('稼祥', 0.6389012932777405)]"
      ]
     },
     "execution_count": 85,
     "metadata": {},
     "output_type": "execute_result"
    }
   ],
   "source": [
    "model1.wv.most_similar('邓小平', topn=20)"
   ]
  },
  {
   "cell_type": "code",
   "execution_count": 92,
   "id": "1472225f-311a-424f-af23-64a19e0b6af5",
   "metadata": {},
   "outputs": [
    {
     "data": {
      "text/plain": [
       "[('邓小平', 0.8402860760688782),\n",
       " ('江泽民', 0.7258259057998657),\n",
       " ('大钊', 0.7220970392227173),\n",
       " ('胡志明', 0.7058353424072266),\n",
       " ('斯大林', 0.7053905725479126),\n",
       " ('中国共产党', 0.6911027431488037),\n",
       " ('金日成', 0.6756417751312256),\n",
       " ('华国锋', 0.6740742325782776),\n",
       " ('恩来', 0.672836184501648),\n",
       " ('瞿秋白', 0.6724335551261902),\n",
       " ('陈云', 0.66998291015625),\n",
       " ('我党', 0.6644517183303833),\n",
       " ('任弼时', 0.6642876267433167),\n",
       " ('周恩来', 0.6591649651527405),\n",
       " ('闻天', 0.6567334532737732),\n",
       " ('先念', 0.6474846005439758),\n",
       " ('李大钊', 0.6465905904769897),\n",
       " ('毛主席', 0.6437059640884399),\n",
       " ('稼祥', 0.6389459371566772),\n",
       " ('片山潜', 0.6322881579399109)]"
      ]
     },
     "execution_count": 92,
     "metadata": {},
     "output_type": "execute_result"
    }
   ],
   "source": [
    "model1.wv.most_similar('毛泽东', topn=20)"
   ]
  },
  {
   "cell_type": "code",
   "execution_count": 65,
   "id": "e362fe50-ddd3-4c4d-b7bc-1f1cb58b3ff5",
   "metadata": {},
   "outputs": [
    {
     "data": {
      "text/plain": [
       "[('革命斗争', 0.7061890959739685),\n",
       " ('民主革命', 0.6715720891952515),\n",
       " ('革命战争', 0.6622600555419922),\n",
       " ('革命事业', 0.641211986541748),\n",
       " ('新民主主义革命', 0.6364023089408875),\n",
       " ('伟大', 0.6338841319084167),\n",
       " ('抗日战争', 0.6297708749771118),\n",
       " ('土地革命', 0.6213778853416443),\n",
       " ('抗日', 0.6209691166877747),\n",
       " ('国民革命', 0.6112938523292542),\n",
       " ('共产主义', 0.609893798828125),\n",
       " ('人民解放战争', 0.6095950603485107),\n",
       " ('五四运动', 0.6090352535247803),\n",
       " ('救亡图存', 0.6059989333152771),\n",
       " ('北伐战争', 0.6036877036094666),\n",
       " ('抗战', 0.5939123034477234),\n",
       " ('新文化运动', 0.5896835923194885),\n",
       " ('中国共产党', 0.5880768299102783),\n",
       " ('第一次国内革命战争', 0.5835145711898804),\n",
       " ('辛亥革命', 0.5812661647796631)]"
      ]
     },
     "execution_count": 65,
     "metadata": {},
     "output_type": "execute_result"
    }
   ],
   "source": [
    "model1.wv.most_similar('革命', topn=20)"
   ]
  },
  {
   "cell_type": "code",
   "execution_count": 66,
   "id": "34806640-fb74-4b66-b2eb-fe1facb8af4d",
   "metadata": {},
   "outputs": [
    {
     "data": {
      "text/plain": [
       "[('革命斗争', 0.7760055661201477),\n",
       " ('伟大斗争', 0.7628013491630554),\n",
       " ('长期斗争', 0.7579331994056702),\n",
       " ('英勇斗争', 0.7495409250259399),\n",
       " ('生死搏斗', 0.7249380946159363),\n",
       " ('武装斗争', 0.7183615565299988),\n",
       " ('对敌斗争', 0.6894320249557495),\n",
       " ('殊死搏斗', 0.6801496744155884),\n",
       " ('正义战争', 0.6765900254249573),\n",
       " ('战斗', 0.653632402420044),\n",
       " ('群众斗争', 0.6325584650039673),\n",
       " ('反霸斗争', 0.6245372295379639),\n",
       " ('思想斗争', 0.6206682920455933),\n",
       " ('游击战争', 0.615606427192688),\n",
       " ('殊死', 0.6152145862579346),\n",
       " ('抗争', 0.6040594577789307),\n",
       " ('人民解放战争', 0.6020842790603638),\n",
       " ('正义斗争', 0.6010591983795166),\n",
       " ('党内斗争', 0.5993779301643372),\n",
       " ('合法斗争', 0.594028115272522)]"
      ]
     },
     "execution_count": 66,
     "metadata": {},
     "output_type": "execute_result"
    }
   ],
   "source": [
    "model1.wv.most_similar('斗争', topn=20)"
   ]
  },
  {
   "cell_type": "code",
   "execution_count": 67,
   "id": "ff3fa52b-9804-4d97-a062-c501c022e8eb",
   "metadata": {},
   "outputs": [
    {
     "data": {
      "text/plain": [
       "[('大陆', 0.799451470375061),\n",
       " ('台湾地区', 0.794044017791748),\n",
       " ('祖国大陆', 0.7873083353042603),\n",
       " ('台湾当局', 0.775187611579895),\n",
       " ('香港', 0.7672760486602783),\n",
       " ('台湾省', 0.7604334950447083),\n",
       " ('台北', 0.7457877993583679),\n",
       " ('中国大陆', 0.7408306002616882),\n",
       " ('岛内', 0.7268843054771423),\n",
       " ('吕秀莲', 0.714836597442627),\n",
       " ('李登辉', 0.7019785046577454),\n",
       " ('蒋帮', 0.6952126026153564),\n",
       " ('台当局', 0.6893937587738037),\n",
       " ('海峡两岸', 0.6865859031677246),\n",
       " ('台湾人', 0.6864056587219238),\n",
       " ('陈水扁', 0.6789540648460388),\n",
       " ('中国台湾', 0.6759572625160217),\n",
       " ('台澎金马', 0.6686720252037048),\n",
       " ('大陆同胞', 0.6671602129936218),\n",
       " ('两国论', 0.664807915687561)]"
      ]
     },
     "execution_count": 67,
     "metadata": {},
     "output_type": "execute_result"
    }
   ],
   "source": [
    "model1.wv.most_similar('台湾', topn=20)"
   ]
  },
  {
   "cell_type": "code",
   "execution_count": 86,
   "id": "106926de-ffdb-48e2-a35e-7e945b07681e",
   "metadata": {},
   "outputs": [
    {
     "data": {
      "text/plain": [
       "[('共产主义者', 0.7112361192703247),\n",
       " ('社会主义', 0.6665684580802917),\n",
       " ('科学共产主义', 0.6539430022239685),\n",
       " ('理想', 0.6444007158279419),\n",
       " ('无产阶级', 0.6279204487800598),\n",
       " ('崇高理想', 0.62421715259552),\n",
       " ('世界大同', 0.6231550574302673),\n",
       " ('共产党人', 0.6201408505439758),\n",
       " ('人生目标', 0.6161081194877625),\n",
       " ('道德', 0.6130836606025696),\n",
       " ('革命理想', 0.6111891269683838),\n",
       " ('革命', 0.6098937392234802),\n",
       " ('马克思列宁主义', 0.5976080894470215),\n",
       " ('幸福观', 0.5799585580825806),\n",
       " ('崇高', 0.5783703327178955),\n",
       " ('伟大', 0.5763978958129883),\n",
       " ('社会主义者', 0.5722209811210632),\n",
       " ('新民主主义', 0.5658215284347534),\n",
       " ('追求理想', 0.5653747916221619),\n",
       " ('革命者', 0.5653344392776489)]"
      ]
     },
     "execution_count": 86,
     "metadata": {},
     "output_type": "execute_result"
    }
   ],
   "source": [
    "model1.wv.most_similar('共产主义', topn=20)"
   ]
  },
  {
   "cell_type": "markdown",
   "id": "9566b625-802c-4a56-bd00-11a11d75984d",
   "metadata": {},
   "source": [
    "## 與數個關鍵字最接近的字詞"
   ]
  },
  {
   "cell_type": "code",
   "execution_count": 89,
   "id": "7f8dfb07-9344-4b46-96b6-fdff018e8294",
   "metadata": {},
   "outputs": [
    {
     "data": {
      "text/plain": [
       "[('反社会主义', 0.7966956496238708),\n",
       " ('反人民', 0.7730640172958374),\n",
       " ('黑帮', 0.7537546157836914),\n",
       " ('右派', 0.7401278614997864),\n",
       " ('反革命两面派', 0.7167461514472961),\n",
       " ('一伙', 0.704038679599762),\n",
       " ('反社会', 0.6998015642166138),\n",
       " ('篡权', 0.6812359690666199),\n",
       " ('右派分子', 0.6806055903434753),\n",
       " ('反党集团', 0.6796138286590576),\n",
       " ('反共', 0.6778916120529175),\n",
       " ('胡风', 0.6776517629623413),\n",
       " ('反毛泽东思想', 0.6746252179145813),\n",
       " ('叛党叛国', 0.6737684011459351),\n",
       " ('反革命修正主义分子', 0.6716745495796204),\n",
       " ('罪恶', 0.6701393723487854),\n",
       " ('李世农', 0.6661509275436401),\n",
       " ('祸国殃民', 0.6660897135734558),\n",
       " ('反毛主席', 0.6584794521331787),\n",
       " ('林江', 0.6577588319778442)]"
      ]
     },
     "execution_count": 89,
     "metadata": {},
     "output_type": "execute_result"
    }
   ],
   "source": [
    "a=model1.wv.most_similar(positive=['反革命','反党', '反动'],topn=20)\n",
    "a"
   ]
  },
  {
   "cell_type": "code",
   "execution_count": 71,
   "id": "d9581f61-25c5-465b-a14b-5a41b756fc35",
   "metadata": {},
   "outputs": [
    {
     "data": {
      "text/plain": [
       "[('蒋匪', 0.8415529727935791),\n",
       " ('美蒋', 0.781761109828949),\n",
       " ('蒋家', 0.7569612860679626),\n",
       " ('蒋美', 0.7271449565887451),\n",
       " ('蒋介石', 0.7267423868179321),\n",
       " ('伪政府', 0.7260276675224304),\n",
       " ('反攻大陆', 0.7226721048355103),\n",
       " ('何应钦', 0.7121812701225281),\n",
       " ('廖文毅', 0.7029813528060913),\n",
       " ('孙立人', 0.6995530724525452),\n",
       " ('陈诚', 0.6993465423583984),\n",
       " ('蒋记', 0.6911243200302124),\n",
       " ('蒋邦', 0.6898446679115295),\n",
       " ('残余匪帮', 0.6839451193809509),\n",
       " ('孙运璇', 0.6830462217330933),\n",
       " ('陈立夫', 0.6825380921363831),\n",
       " ('介石', 0.6820722222328186),\n",
       " ('台北', 0.681085467338562),\n",
       " ('蒋阎', 0.6787602305412292),\n",
       " ('共匪', 0.6724078059196472)]"
      ]
     },
     "execution_count": 71,
     "metadata": {},
     "output_type": "execute_result"
    }
   ],
   "source": [
    "a=model1.wv.most_similar(['蒋党','蒋匪帮', '蒋帮','蒋贼'],topn=20)\n",
    "a"
   ]
  },
  {
   "cell_type": "markdown",
   "id": "4d5baff3-051b-461d-bfef-0402f65995ed",
   "metadata": {},
   "source": [
    "## 與某篇文章最接近的字詞\n",
    "* 文章內各字加總向量成為文章向量。\n",
    "* 有更精確的做法 doc2vec\n",
    "* 向量相加，因為最少次數，以及bigram設定，有些字詞會消失"
   ]
  },
  {
   "cell_type": "code",
   "execution_count": 81,
   "id": "9e736f6e-93f7-4a02-820b-5759fecdda93",
   "metadata": {},
   "outputs": [
    {
     "name": "stdout",
     "output_type": "stream",
     "text": [
      "本报 评论员 “ 我国 是 社会主义 法治 国家 ， 法律 的 尊严 和 权威 不容 践踏 。 不论 涉及 到 谁 ， 只要 触犯 法律 ， 都 将 依法处理 ， 决不 姑息 。 ” 日前 ， 中共中央 对 薄熙来 同志 严重 违纪 问题 立案 调查 公安机关 公布 对 尼尔 ・ 伍德 死亡 案 进行 依法 复查 结果 并 将 犯罪 嫌疑人 移送 司法机关 ， 得到 了 广大党员 群众 的 衷心 拥护 ， 自觉遵守 党纪国法 ， 成为 全党全国 人民 的 普遍 共识 ， 凝聚 着 改革 发展 稳定 的 强大 力量 。 无论是 作出 依法 依纪 予以 彻底 查清 的 果断 决策 ， 还是 贯彻 法律 面前 人人平等 的 法治 原则 ， 无论是 采取 正确 有力 的 各项措施 ， 还是 将 相关 情况 及时 向 社会 公布 ， 中央 的 处理 决定 ， 既 是 落实 从严治党 的 根本 要求 ， 也 是 维护 社会主义 法治 的 必然 之 举 。 同时 也 充分说明 ， 代表 人民 群众 根本利益 的 中国共产党 ， 决不允许 有 凌驾于 党纪国法 之上 的 “ 特殊 党员 ” ； 法律 面前 人人平等 ， 制度 面前 没有特权 制度 约束 没有 例外 ， 任何人 触犯 法律 都 将 受到 严肃 追究 和 严厉 惩处 。 国 无法 不 治 ， 民 无法 不立 。 一切 组织 和 个人 都 必须 严格遵守 法律 ， 这 是 现代 法治 社会 的 基本 要求 。 依法治国 ， 是 我们 党 领导 人民 治理 国家 的 基本 方略 ， 是 国家 长治久安 的 重要 保证 。 作为 我们 这样 一个 发展 中 大国 ， 大力 弘扬 法治 精神 ， 增强 全体 公民 的 法律意识 ， 对于 稳定 社会秩序 维护 国家 利益 保障 公民权利 ， 具有 至关重要 的 意义 。 当前 ， 我国 正 处于 社会转型 和 经济 结构调整 的 重要 时期 ， 面对 体制 转轨 社会转型 思想 多样 利益 多元 的 新 形势 ， 只有 所有 社会 成员 都 自觉遵守 法律 维护 法律 尊严 ， 才能 维护 正常 社会秩序 创造 良好 社会 氛围 ， 才能 更好 地 化解矛盾 纠纷 维护 社会 稳定 ， 也 才能 谈得上 实现 公平正义 推进 社会 和谐 。 严密 的 组织纪律性 ， 是 我们 党 的 一个 鲜明特征 ； 党 的 各级 组织 和 全体 党员 严守 党的纪律 自觉 接受 党的纪律 约束 ， 是 我们 党 的 重要 优势 ， 也 是 党 始终保持 先进性 的 重要 保证 。 对 党员干部 而言 ， 如果说 遵守 国家 法律 是 基本 义务 ， 那么 遵守 党的纪律 则 是 基本 要求 。 遵守 国家 法律 就是 时时处处 模范 践行 国家 法律 ， 遵守 党的纪律 就是 要 首先 遵守 党 的 政治 纪律 ， 自觉 同以 胡锦涛 同志 为 总书记 的 党中央 保持一致 ， 坚决贯彻 中央 的 决策 部署 。 王立军 事件 尼尔 ・ 伍德 死亡 案件 和 薄熙来 严重 违纪 问题 再次 警示 我们 ， 只有 坚决执行 党的纪律 遵守 国家 法律 ， 立身 不 忘 做人 之 本 为政 不 移 公仆 之 心用权 不 谋 一己之私 ， 在 任何 情况 下 都 不 逾越 法律 纪律 和 道德 的 底线 ， 切实 做到 自重 自省 自警 自励 ， 才能 真正 做到 清清白白 为官 堂堂正正 做人 干干净净 干事 。 “ 奉公如法 则 上下 平 ， 上下 平则国 强 ” 。 面对 复杂多变 的 国内外 环境 ， 面对 艰巨 繁重 的 改革 发展 稳定 任务 ， 我们 要 继续 抓住 和 用 好 我国 发展 的 重要 战略 机遇期 ， 有 效应 对 各种 风险 和 挑战 ， 圆满完成 “ 十二五 ” 时期 经济社会 发展 目标 任务 ， 必须 有 一个 良好 的 社会秩序 ， 必须 依靠 全体 人民 的 团结奋斗 开拓进取 。 不断 增强 纪律 和 法治 观念 ， 自觉遵守 党纪国法 ， 我们 才能 更好 地 增强 党和国家 的 创造力 凝聚力 战斗力 ， 为 改革 发展 稳定 营造 良好环境 ， 为 夺取 全面 建设 小康社会 新 胜利 加快 推进 社会主义 现代化 提供 坚实 保障 。\n",
      "pass: 0\n"
     ]
    },
    {
     "data": {
      "text/plain": [
       "[('的', 0.737787663936615),\n",
       " ('滑逃', 0.7004714012145996),\n",
       " ('左家滩', 0.6908171772956848),\n",
       " ('，', 0.6894734501838684),\n",
       " ('铸箭', 0.6850659847259521),\n",
       " ('知相', 0.6815136671066284),\n",
       " ('难惑', 0.680069088935852),\n",
       " ('危是', 0.6798760890960693),\n",
       " ('社会', 0.6794376969337463),\n",
       " ('一拥而前', 0.6793079376220703),\n",
       " ('应不为', 0.6784835457801819),\n",
       " ('有价重', 0.6776536703109741),\n",
       " ('甜家', 0.6727809906005859),\n",
       " ('郑可俊', 0.6708317995071411),\n",
       " ('2149.5', 0.6700530052185059),\n",
       " ('外简内明', 0.6698453426361084),\n",
       " ('刘绍源', 0.6696285009384155),\n",
       " ('吟鉴', 0.6663443446159363),\n",
       " ('城始南', 0.66580730676651),\n",
       " ('和布新', 0.6650026440620422)]"
      ]
     },
     "execution_count": 81,
     "metadata": {},
     "output_type": "execute_result"
    }
   ],
   "source": [
    "import random\n",
    "d=random.randint(0,len(df.token))\n",
    "doc=df.token[d].split()\n",
    "t=0\n",
    "pass_count=0\n",
    "# 向量相加，因為最少次數，以及bigram設定，有些字詞會消失\n",
    "for w in doc:\n",
    "    try:\n",
    "        doc_wv=model1.wv[w]\n",
    "        t=model1.wv[w]+t\n",
    "    except: \n",
    "        # 有些字詞會消失 !!!!!\n",
    "        pass_count+=1\n",
    "        pass \n",
    "print (\" \".join(doc))\n",
    "print ('pass:', pass_count)\n",
    "\n",
    "# 由加總的向量找最接近的字詞\n",
    "model1.wv.similar_by_vector(t, topn=20)"
   ]
  },
  {
   "cell_type": "markdown",
   "id": "8f103426-3341-4b3e-93fc-add2f100cd6f",
   "metadata": {},
   "source": [
    "## 由向量尋找最新近的詞"
   ]
  },
  {
   "cell_type": "code",
   "execution_count": 84,
   "id": "96ffd7e8-6e72-4d83-b6b6-5e65e6db909f",
   "metadata": {},
   "outputs": [
    {
     "data": {
      "text/plain": [
       "[('中共中央', 0.892673134803772),\n",
       " ('党和国家', 0.8779749870300293),\n",
       " ('党中央', 0.8031365871429443),\n",
       " ('中央', 0.750781774520874),\n",
       " ('党', 0.7446473836898804),\n",
       " ('我党', 0.7018079161643982),\n",
       " ('中共中央国务院', 0.6876002550125122),\n",
       " ('人民政协', 0.6786529421806335),\n",
       " ('中国共产党', 0.6732871532440186),\n",
       " ('中央军委', 0.6725732684135437),\n",
       " ('中央人民政府', 0.6690187454223633),\n",
       " ('党和政府', 0.6611127257347107),\n",
       " ('叶剑英', 0.6594966053962708),\n",
       " ('军委', 0.6581147909164429),\n",
       " ('我党我军', 0.65738445520401),\n",
       " ('中共中央书记处', 0.6539018154144287),\n",
       " ('邓小平', 0.6524552702903748),\n",
       " ('中央书记处', 0.6462705731391907),\n",
       " ('国务院', 0.6327842473983765),\n",
       " ('中央纪律检查委员会', 0.6211761832237244)]"
      ]
     },
     "execution_count": 84,
     "metadata": {},
     "output_type": "execute_result"
    }
   ],
   "source": [
    "a=model1.wv['党和国家']\n",
    "b=model1.wv['中共中央']\n",
    "c=a+b\n",
    "model1.wv.similar_by_vector(c, topn=20)"
   ]
  },
  {
   "cell_type": "markdown",
   "id": "6689aa3f-ebaf-4612-835d-9eb7464c2316",
   "metadata": {},
   "source": [
    "## 文章與文章間的相似性"
   ]
  },
  {
   "cell_type": "code",
   "execution_count": 75,
   "id": "bcd03973-ac73-439c-9bb5-cb0b0a76ce59",
   "metadata": {},
   "outputs": [
    {
     "data": {
      "text/plain": [
       "0.19181541178489003"
      ]
     },
     "execution_count": 75,
     "metadata": {},
     "output_type": "execute_result"
    }
   ],
   "source": [
    "# Compute cosine similarity between two sets of words.\n",
    "a=['邓小平','經國']\n",
    "b=['英九','登輝','阿扁']\n",
    "model2.n_similarity(a, b)"
   ]
  },
  {
   "cell_type": "code",
   "execution_count": 76,
   "id": "4309d323-1501-478f-abdb-4c79caf1ef9d",
   "metadata": {},
   "outputs": [
    {
     "data": {
      "text/plain": [
       "0.99550812236763386"
      ]
     },
     "execution_count": 76,
     "metadata": {},
     "output_type": "execute_result"
    }
   ],
   "source": [
    "# Compute cosine similarity between two sets of words.\n",
    "a=['中正','經國']\n",
    "b=['英九','登輝','阿扁']\n",
    "model1.n_similarity(a, b)"
   ]
  },
  {
   "cell_type": "markdown",
   "id": "0dc64568-df5f-4847-9ef0-41e7cabac75a",
   "metadata": {},
   "source": [
    "## 最不匹配的字"
   ]
  },
  {
   "cell_type": "code",
   "execution_count": 77,
   "id": "70341b38-a721-4a94-b559-36c21bc8cab8",
   "metadata": {},
   "outputs": [
    {
     "data": {
      "text/plain": [
       "'憲法'"
      ]
     },
     "execution_count": 77,
     "metadata": {},
     "output_type": "execute_result"
    }
   ],
   "source": [
    "a=['建設','民主','人權','自由2','憲法','環保','社會','經濟','政治','環保']\n",
    "model2.doesnt_match(a)"
   ]
  },
  {
   "cell_type": "markdown",
   "id": "3dc524f6-2f3f-4364-b690-bbd15a09a261",
   "metadata": {},
   "source": [
    "# 類比"
   ]
  },
  {
   "cell_type": "code",
   "execution_count": 99,
   "id": "fb147808-4312-4e28-b12e-e8223e0c59c7",
   "metadata": {},
   "outputs": [
    {
     "data": {
      "text/plain": [
       "[('汪精卫', 0.6259408593177795),\n",
       " ('鲁迅', 0.5921456217765808),\n",
       " ('大钊', 0.5863993763923645),\n",
       " ('秋白', 0.5834972262382507),\n",
       " ('瞿秋白', 0.5813263058662415),\n",
       " ('机会主义', 0.5753313899040222),\n",
       " ('阎锡山', 0.5736830234527588),\n",
       " ('孙中山', 0.5703698396682739),\n",
       " ('胡适', 0.5679365992546082),\n",
       " ('方志敏', 0.5656961798667908)]"
      ]
     },
     "execution_count": 99,
     "metadata": {},
     "output_type": "execute_result"
    }
   ],
   "source": [
    "model1.wv.most_similar(positive=['毛泽东','蒋介石'], negative=['中央人民政府'], topn=10)"
   ]
  },
  {
   "cell_type": "markdown",
   "id": "74420982-5e4d-4866-b2c1-9737cc9b4bf5",
   "metadata": {
    "jupyter": {
     "source_hidden": true
    },
    "tags": []
   },
   "source": [
    "## 刪除model, 釋放記憶體"
   ]
  },
  {
   "cell_type": "code",
   "execution_count": null,
   "id": "0d55c6df-4927-4949-92db-47e0c3b13822",
   "metadata": {
    "collapsed": true,
    "jupyter": {
     "outputs_hidden": true
    }
   },
   "outputs": [],
   "source": [
    "del model1\n"
   ]
  },
  {
   "cell_type": "code",
   "execution_count": null,
   "id": "7409cf77-792b-4500-9149-1a6400dcfa86",
   "metadata": {},
   "outputs": [],
   "source": []
  },
  {
   "cell_type": "markdown",
   "id": "780604ff-0a79-45bb-9258-f716da674de1",
   "metadata": {},
   "source": [
    "# 加入 people 模組 （待補）"
   ]
  },
  {
   "cell_type": "code",
   "execution_count": 1,
   "id": "93ae4aa9-03da-4e5e-8c17-8838b03fb3d0",
   "metadata": {},
   "outputs": [
    {
     "name": "stdout",
     "output_type": "stream",
     "text": [
      "\n",
      "    歡迎進入 people 模組，函數列表\n",
      "    資料選取\n",
      "        (df, df_year)= people.doc_select(year, path, title, kw, field, unit)\n",
      "        df= people.read_doc_select(path, unit, field, title)  \n",
      "        df_year= people.read_doc_select_year(path, unit, field, title)  \n",
      "        people.plot_doc_select_year(df_year)\n",
      "        people.print_doc_select_random(df,num,title,field)\n",
      "        df= people.read_doc_select_pkl(path, unit, field,title)  \n",
      "    詞頻與詞對\n",
      "        df= people.key_word_trend_year(kw, year,path)   \n",
      "        df_corpus= people.corpus_map_year(df,title, kw, corpus,path,window)\n",
      "        df_corpus= people.read_corpus_map_year(path,title)\n",
      "        df_pn= people.sentiment(path, df, title)\n",
      "        df_pn= people.read_sentiment(path, df, title)\n",
      "    主題分析\n",
      "        (df_topic, df, df_lsa)= people.topic model(doc_list,num_i, method)  \n",
      "        ts= people.plot_topic_model_trend(year, df_lsa,topics, num_i) \n",
      "        (df_trend, size)= people.plot_topic_model_pei(topics, ts)\n",
      "        (df_trend, size)= people.plot_topic_model_bar(topics,size)\n",
      "    文章分群\n",
      "        (df, clus_token, df_rate, df_count)= people.cluster_analysis(path,df, num_i, cluster,title)\n",
      "        (df, clus_token, df_rate, df_count)= people.read_cluster_analysis(path,n_clus,title)\n",
      "        (df_count, df_year)= people.plot_cluster_year_trend(path, df, label)\n",
      "    潛在語意\n",
      "        (df_concept, transformer, lsa, term_list)= lsa_concept(path, df, token, num_i)\n",
      "        people.kClosestTerms(k,term,transformer,lsa,term_list)\n",
      "        simi= people.similarity(a,b)\n",
      "        closest= people.kClosestTerms(k,term,transformer,lsa,term_list)\n",
      "    繪圖\n",
      "        people.word_cloud_map(path, words, mask, title, max_font_size,min_font_size, max_words, margin, color)\n",
      "        df_cat = people.plot_variables_compare(path, df, variables)\n",
      "        df_cat = people.plot_single_variable_cate(path, df, variable,cate)\n",
      "        df_mean = people.plot_variables_year_trend(path, df, variables)\n",
      "    其他\n",
      "        df=people.read_excel_file(path, filename)\n",
      "        df= people.jieba_token(df,doc_content, title)\n",
      "        df= people.read_jieba_token(path, title)\n",
      "        people.print_filename(filenames, field)\n",
      "    \n"
     ]
    }
   ],
   "source": [
    "import people"
   ]
  },
  {
   "cell_type": "markdown",
   "id": "9a13f6c4-88a5-4eb8-9684-9c740d75710d",
   "metadata": {},
   "source": [
    "# lsa 潛在語意分析"
   ]
  },
  {
   "cell_type": "code",
   "execution_count": 1,
   "id": "a87021e2-5df1-4d1a-b0f9-f30753795cc4",
   "metadata": {},
   "outputs": [],
   "source": [
    "from string import *\n",
    "from sklearn.decomposition import TruncatedSVD\n",
    "from sklearn.preprocessing import Normalizer\n",
    "from sklearn.feature_extraction.text import TfidfVectorizer\n",
    "from sklearn import metrics\n",
    "import numpy as np\n",
    "from scipy import spatial\n",
    "import pandas as pd"
   ]
  },
  {
   "cell_type": "code",
   "execution_count": 2,
   "id": "638c2d73-decd-4194-ae06-b26865498f02",
   "metadata": {
    "tags": []
   },
   "outputs": [],
   "source": [
    "# 讀取檔案 #######################################\n",
    "import pandas as pd\n",
    "# 必須要有的參數\n",
    "unit=\"arti\"\n",
    "field=\"tfidf\"\n",
    "path=\"D:/my python/people/\" \n",
    "title=\"all\"\n",
    "fname=path+\"working/\"+unit+\"_\"+field+\"_\"+title+\".pkl\"\n",
    "df=pd.read_pickle(fname)"
   ]
  },
  {
   "cell_type": "markdown",
   "id": "96721e17-24e6-45e3-ba9d-59f60f57db77",
   "metadata": {},
   "source": [
    "##  extract_feature(path, df, num_i, token,m)\n",
    "* 僅保留 tfidf 值較大者，簡化文本\n",
    "* num_i 降維 \n",
    "* m=0.05\n"
   ]
  },
  {
   "cell_type": "code",
   "execution_count": 4,
   "id": "15a285ce-57c5-45b0-a72b-8e51aa87874a",
   "metadata": {
    "tags": []
   },
   "outputs": [],
   "source": [
    "# doc_list=df.token\n",
    "def extract_feature(path, df, doc_list,m):\n",
    "    # tfidf 加權\n",
    "    transformer = TfidfVectorizer()\n",
    "    tfidf = transformer.fit_transform(doc_list)     # sparse matrix\n",
    "    # 如果文章筆數、字詞數太多，會超過記憶體 error\n",
    "    dtm_tfidf=tfidf.toarray() \n",
    "    # 字詞的編號\n",
    "    terms=vectorizer.vocabulary_\n",
    "    # 字詞的 list\n",
    "    term_list=vectorizer.get_feature_names_out()\n",
    "    # 轉成 DataFrame\n",
    "    df_tfidf=pd.DataFrame(dtm_tfidf, columns=term_list)\n",
    "\n",
    "    # 只保留 TFIDF 太於 0.05 者，簡化字詞數，否則矩陣太大\n",
    "    featureset = []\n",
    "    for i in range(len(df_tfidf)):    \n",
    "        # 所有字詞，在該篇文章中，tfidf 大於 m 為 true，否則為 false\n",
    "        cri = df_tfidf.iloc[i]>=m\n",
    "        # 合乎條件的字詞 list\n",
    "        te = [x for j,x in enumerate(term_list) if cri[j]]    \n",
    "        # 合乎條件的 tfidf list\n",
    "        tf= [x for j,x in enumerate(df_tfidf.iloc[i]) if cri[j]]        \n",
    "        # 合於條件的字詞改為空白隔開的string\n",
    "        features_string=\" \".join(te)     \n",
    "        # 一篇文章一個字詞的 list\n",
    "        featureset.append(features_string) \n",
    "    df['feature']=fetureset   \n",
    "    return df\n"
   ]
  },
  {
   "cell_type": "markdown",
   "id": "75869416-d26f-4888-be80-9f26770d22b5",
   "metadata": {},
   "source": [
    "## 最接近的字詞"
   ]
  },
  {
   "cell_type": "markdown",
   "id": "7bd844c3-d542-4e69-854f-44547e793a51",
   "metadata": {},
   "source": [
    "## (df_concept, transformer, lsa, term_list)= lsa_concept(path, df, token, num_i)"
   ]
  },
  {
   "cell_type": "code",
   "execution_count": 5,
   "id": "11acfcbc-0e7e-4d0f-a131-d1fa58a2ba57",
   "metadata": {
    "tags": []
   },
   "outputs": [],
   "source": [
    "def lsa_concept(path, df, token, num_i):\n",
    "    # tfidf 加權\n",
    "    num_i=50\n",
    "    doc_list=df[token].str.replace(\",\",\" \")\n",
    "\n",
    "    # Term document frequency 轉換，成為 matrix ,\n",
    "    transformer = TfidfVectorizer()\n",
    "    tfidf = transformer.fit_transform(doc_list)     # sparse matrix\n",
    "    # 字詞的編號\n",
    "    terms=transformer.vocabulary_\n",
    "    # 字詞的 list\n",
    "    term_list=transformer.get_feature_names_out()\n",
    "    \n",
    "    # latent semantic analysis, 變數縮減\n",
    "    svd = TruncatedSVD(num_i, algorithm = 'arpack')   # object\n",
    "    lsa = svd.fit_transform(tfidf.T)  # numpy array, (number of terms * num_i)     \n",
    "\n",
    "    dtm_lsa = svd.fit_transform(tfidf)  \n",
    "    dtm_com = svd.fit(tfidf)  # object, not numpy array\n",
    "    # components\n",
    "    comp=dtm_com.components_\n",
    "    print(\"維度數\",len(comp))\n",
    "    print(\"字詞數\",len(comp[0]))\n",
    "    \n",
    "    # 每個維度軸都是各字詞的線性組合，每個維度的構成\n",
    "    df_concept=pd.DataFrame(comp,columns= term_list)\n",
    "    df_concept=df_concept.transpose()\n",
    "    # 各維度字詞，依重要性大小排序\n",
    "    con=[]\n",
    "    sig=[]\n",
    "    for n in range(len(df_concept.columns)):\n",
    "        # 由大至小排序\n",
    "        df_order= df_concept.sort_values(by=n, ascending=False)\n",
    "        con.append(list(df_order.index)[0:500])\n",
    "        sig.append(list(df_order[n])[0:500])\n",
    "    # 印出各軸的重要字詞\n",
    "    for n in range(len(con)):\n",
    "        print (n,con[n][:30])          \n",
    "    # 轉成 dataframe 格式\n",
    "    df_concept=pd.DataFrame(con).T\n",
    "    return df_concept, transformer, lsa, term_list\n",
    "\n",
    "#  最接近的 k 個\n",
    "def similarity(a,b):\n",
    "    result = 1 - spatial.distance.cosine(a, b)\n",
    "    return result\n",
    "def kClosestTerms(k,term,transformer,lsa,term_list):     \n",
    "    # 字詞的編號\n",
    "    index = transformer.vocabulary_[term] \n",
    "    # 該字詞與其他字詞的相似度\n",
    "    similar=[]\n",
    "    for i in range(len(lsa)):\n",
    "        s=similarity(lsa[index],lsa[i])\n",
    "        similar.append(s) \n",
    "        if i%10000==0:\n",
    "            print (i,\"done\",end=\" \")\n",
    "    closestTerms = {}   # dictionary\n",
    "    for i in range(len(lsa)):\n",
    "        closestTerms[term_list[i]] = similar[i]    \n",
    "        if i%10000==0:\n",
    "            print (i,\"done\",end=\" \")                   \n",
    "    sortedList = sorted(closestTerms , key= lambda l : closestTerms[l])\n",
    "    return sortedList[::-1][0:k]"
   ]
  },
  {
   "cell_type": "code",
   "execution_count": 9,
   "id": "4cd9e339-56ec-4fa6-a58b-968dcf9ebdb2",
   "metadata": {},
   "outputs": [
    {
     "name": "stdout",
     "output_type": "stream",
     "text": [
      "維度數 50\n",
      "字詞數 1967779\n",
      "0 ['中国', '发展', '国家', '经济', '北京', '建设', '国际', '合作', '政府', '关系', '会议', '美国', '全国', '访问', '代表团', '组织', '支持', '世界', '社会', '领导', '和平', '地区', '政治', '生产', '会见', '解决', '斗争', '政策', '提高', '总统']\n",
      "1 ['生产', '提高', '建设', '群众', '干部', '企业', '领导', '部门', '管理', '农村', '全国', '思想', '学习', '组织', '农民', '教育', '服务', '农业', '技术', '改革', '社会', '制度', '职工', '增长', '产品', '经验', '市场', '质量', '生活', '研究']\n",
      "2 ['斗争', '反对', '革命', '侵略', '胜利', '美帝国主义', '帝国主义', '美国', '战争', '毛主席', '团结', '谴责', '无产阶级', '和平', '阴谋', '全世界', '民族', '战斗', '苏联', '越南', '独立', '声明', '敌人', '修正主义', '军队', '解放', '力量', '民主', '群众', '毛泽东思想']\n",
      "3 ['革命', '同志', '毛主席', '代表团', '学习', '思想', '无产阶级', '群众', '领导', '率领', '中国', '团长', '友好', '干部', '会见', '毛泽东思想', '北京', '乘飞机', '访问', '大使', '友谊', '胜利', '今天下午', '修正主义', '教导', '文化大革命', '教育', '到达', '友好访问', '参观']\n",
      "4 ['发展', '关系', '合作', '两国', '经济', '政治', '领域', '两国关系', '友好合作', '稳定', '社会', '维护', '努力', '建设', '中方', '交流', '两国人民', '会见', '共同努力', '深化', '和平', '建交', '互利', '交往', '思想', '改革开放', '江泽民', '事业', '政策', '双边关系']\n",
      "5 ['比赛', '中国', '世界', '北京', '选手', '举办', '冠军', '国际', '女子', '运动员', '锦标赛', '主办', '决赛', '男子', '中国队', '文化', '全国', '奥运会', '历史', '10', '金牌', '本届', '观众', '成绩', '夺得', '战胜', '体育', '社会', '作品', '艺术']\n",
      "6 ['会议', '社会', '制度', '政府', '代表团', '中央', '乘飞机', '法律', '监督', '北京', '部门', '前往', '机场', '教育', '离开', '领导', '改革', '国务院', '完善', '负责人', '机关', '组织', '管理', '保障', '中国特色社会主义', '切实', '到达', '率领', '依法', '实施']\n",
      "7 ['美帝国主义', '企业', '建设', '帝国主义', '民族', '侵略', '友谊', '越南', '斗争', '全世界', '发展', '胜利', '两国人民', '独立', '市场', '团结', '世界和平', '祝贺', '反对', '事业', '正义斗争', '中华人民共和国', '兄弟', '增长', '经济', '保卫', '产品', '走狗', '投资', '代表团']\n",
      "8 ['传真照片', '两国人民', '10', '附图片', '友谊', '农民', '两国', '总理', '地区', '群众', '友好合作', '图为', '12', '20', '总统', '两国关系', '农村', '30', '亲切', '部队', '友好', '祝贺', '15', '万亩', '领导人', '感谢', '全省', '干部', '友好关系', '政府']\n",
      "9 ['传真照片', '经济', '国际', '企业', '乘飞机', '无产阶级', '美国', '革命', '北京', '产品', '市场', '公司', '毛主席', '修正主义', '研究', '毛泽东思想', '世界', '资产阶级', '贸易', '代表团', '理论', '离开', '工业', '文化大革命', '技术', '阶级斗争', '机场', '苏联', '无产阶级专政', '增长']\n",
      "10 ['比赛', '选手', '冠军', '女子', '传真照片', '代表团', '成绩', '会议', '锦标赛', '运动员', '中国队', '男子', '决赛', '夺得', '国家', '苏联', '提高', '结束', '金牌', '战胜', '生产', '世界', '解决', '保证', '民主', '团长', '农业', '亚洲', '领导', '亚军']\n",
      "11 ['比赛', '毛主席', '无产阶级', '会见', '革命', '毛泽东思想', '修正主义', '文化大革命', '教导', '选手', '伟大领袖', '冠军', '企业', '革命路线', '增长', '越南', '无产阶级专政', '阶级斗争', '10', '项目', '战斗', '女子', '率领', '中国队', '战胜', '美帝国主义', '路线', '投资', '胜利', '决赛']\n",
      "12 ['总统', '总理', '大使', '政府', '国家', '中华人民共和国', '革命', '10', '出席', '宣布', '祝贺', '庆祝', '招待会', '周恩来', '无产阶级', '友谊', '12', '应邀出席', '大使馆', '部长', '会议', '领导人', '毛主席', '讲话', '毛泽东', '首都', '团结', '选举', '共和国', '正式']\n",
      "13 ['建设', '发展', '农业', '离开', '机场', '乘飞机', '前往', '访问', '农民', '科学', '农村', '地区', '经济', '增长', '万亩', '历史', '中国特色社会主义', '结束', '到达', '粮食', '送行', '面积', '总统', '实践', '现代化建设', '友好访问', '创新', '回国', '20', '理论']\n",
      "14 ['谈话', '会见', '在座', '亲切友好', '大使', '今天下午', '美国', '国务院副总理', '附图片', '照片', '友好', '副总理', '人民大会堂', '交谈', '日本', '宾主', '同志', '部长', '副委员长', '美联社', '应邀出席', '总统', '夫人', '总理', '今天上午', '外交部副部长', '电视', '人大常委会', '邓小平', '周恩来']\n",
      "15 ['会见', '农民', '代表团', '日本', '农村', '10', '农业', '会议', '政策', '团长', '人民大会堂', '今天下午', '率领', '社员', '反对', '粮食', '20', '谈话', '经济', '社会', '生活', '12', '在座', '协会', '斗争', '万亩', '30', '公社', '群众', '15']\n",
      "16 ['会议', '北京', '全国', '出席', '会见', '地区', '人民大会堂', '中央', '国际', '全国人大常委会副委员长', '国务院', '日至', '开幕', '建设', '党中央', '国务委员', '国务院副总理', '主持', '宣布', '中国共产党', '全国政协副主席', '决议', '同志', '中共中央政治局委员', '领导', '胜利', '今天下午', '联合', '秘书长', '选举']\n",
      "17 ['10', '苏联', '邀请', '访问', '12', '20', '同志', '共产党', '中国共产党', '30', '15', '一行', '工人', '莫斯科', '代表团', '14', '日本', '13', '会见', '16', '率领', '18', '乘飞机', '25', '塔斯社', '领导', '民主', '17', '建设', '美国']\n",
      "18 ['照片', '美联社', '电视', '中国', '美国', '日本', '部门', '地区', '群众', '贸易', '同志', '社员', '粮食', '历史', '机场', '稳定', '市场', '干部', '关系', '乘飞机', '周年', '中华人民共和国', '检查', '出版', '领导', '措施', '大使馆', '监督', '出席', '公社']\n",
      "19 ['照片', '美联社', '电视', '全国', '会见', '总统', '支持', '邀请', '以色列', '巴勒斯坦', '阿拉伯', '民族', '总理', '工人', '一行', '斗争', '访问', '学生', '独立', '人民大会堂', '宣布', '企业', '反对', '非洲', '今天下午', '学校', '社会', '北京', '中东', '议会']\n",
      "20 ['照片', '风向', '温度', '白天', '夜间', '三级', '二级', '风力', '北转南', '南转北', '美联社', '概率', '电视', '联合国', '降水', '技术', '国际', '晴间多云', '代表团', '工程', '国家', '和平', '研究', '10', '世界', '20', '解决', '专家', '阿拉伯', '以色列']\n",
      "21 ['会议', '照片', '学生', '合作', '代表团', '学校', '出席', '教育', '美联社', '政府', '经济', '培养', '团长', '贸易', '协定', '教师', '建设', '交流', '学习', '领域', '计划', '工人', '苏联', '签署', '项目', '部长', '两国', '投资', '朝鲜', '组织']\n",
      "22 ['风向', '夜间', '白天', '温度', '三级', '二级', '风力', '北转南', '南转北', '概率', '降水', '晴间多云', '经济', '力一', '晴转多云', '偏南风', '力二', '企业', '增长', '多云转阴', '市场', '偏北风', '多云转晴', '全国', '贸易', '多云', '首都', '工人', '政治', '政府']\n",
      "23 ['政府', '正式', '宣布', '总理', '研究', '邀请', '总统', '北京', '中国', '农业', '中华人民共和国', '出版', '风向', '科学', '全国', '日至', '温度', '夜间', '三级', '白天', '理论', '专家', '农民', '外交部发言人', '外交部长', '二级', '风力', '美国', '周恩来', '北转南']\n",
      "24 ['10', '干部', '照片', '柬埔寨', '12', '越南', '学习', '20', '30', '15', '思想', '教育', '亲王', '老挝', '企业', '中国', '西哈努克', '领导', '支持', '增长', '会议', '美联社', '越南民主共和国', '产品', '13', '50', '14', '侵略', '大使', '16']\n",
      "25 ['日本', '友好', '反对', '总统', '东京', '协会', '宣布', '美国', '抗议', '中国', '中日', '建设', '出席', '日中', '招待会', '集会', '群众', '示威', '邀请', '访问', '正式', '工人', '工程', '应邀出席', '庆祝', '大使', '讲话', '创新', '工会', '镇压']\n",
      "26 ['会谈', '协议', '代表团', '正式', '访问', '企业', '谈判', '演出', '艺术', '建设', '和平', '签订', '农村', '朝鲜', '联合', '观众', '解决', '农民', '苏联', '文化', '集团', '项目', '作品', '举办', '公司', '签署', '服务', '结束', '创作', '协定']\n",
      "27 ['代表团', '率领', '文化', '政府', '10', '团长', '越南', '政治', '历史', '柬埔寨', '合作', '研究', '中国', '民族', '民主', '议会', '20', '出版', '12', '工程', '30', '工人', '谈话', '选举', '领域', '技术', '理论', '法律', '通讯社', '亲切友好']\n",
      "28 ['领导', '公司', '同志', '日本', '代表团', '干部', '组织', '贸易', '投资', '中国', '以色列', '经济', '合作', '地区', '巴勒斯坦', '项目', '阿拉伯', '率领', '中国共产党', '团长', '部队', '研究', '开发', '亿美元', '党员', '帝国主义', '资金', '有限公司', '业务', '埃及']\n",
      "29 ['工程', '建设', '投资', '建成', '群众', '公司', '正式', '国家', '项目', '中国', '大使', '生活', '经济', '国际', '施工', '干部', '今天下午', '今天上午', '集团', '政府', '图为', '国务院副总理', '公里', '机场', '夫人', '香港', '开工', '外交部长', '铁路', '兴建']\n",
      "30 ['日本', '东京', '会议', '总理', '研究', '中日', '政府', '访问', '正式', '日中', '结束', '首相', '宣布', '朝鲜', '努力', '祖国', '毛主席', '亚洲', '解决', '周恩来', '柬埔寨', '日本政府', '亲王', '社会', '审议', '世界', '西哈努克', '委员长', '法律', '专家']\n",
      "31 ['全国', '出版', '计划', '历史', '地区', '北京', '关系', '两国', '学校', '结束', '日本', '部门', '自治区', '政治', '友好', '学生', '工程', '负责人', '增长', '教育', '国务院', '以色列', '国家', '理论', '出版社', '上海', '阿拉伯', '建设', '会谈', '巴勒斯坦']\n",
      "32 ['访问', '结束', '研究', '会议', '参观', '陪同', '出席', '夫人', '部门', '讲话', '热烈欢迎', '今天上午', '斗争', '离开', '专家', '贵宾', '领导人', '负责人', '技术', '宴会', '为期', '上海', '一行', '乘专机', '国家', '介绍', '非洲', '美帝国主义', '帝国主义', '美国']\n",
      "33 ['邀请', '国家', '访问', '地区', '宣布', '日至', '协会', '正式', '友好', '友谊', '举办', '外交部发言人', '苏联', '柬埔寨', '日本', '泰国', '军队', '文化', '亚洲', '干部', '部队', '越南', '教育', '建设', '非洲', '招待会', '开幕', '独立', '世界', '一行']\n",
      "34 ['日本', '谈话', '地区', '苏联', '总理', '全国', '国际', '友好', '组织', '柬埔寨', '和平', '会议', '在座', '亲切友好', '东京', '周恩来', '上海', '民主', '访问', '莫斯科', '塔斯社', '中日', '企业', '协会', '今天上午', '日中', '共产党', '图为', '市场', '联合']\n",
      "35 ['国家', '法律', '公司', '产品', '中华人民共和国', '企业', '军队', '维护', '发展', '生产', '香港', '学生', '现代化建设', '经营', '学校', '台湾', '集团', '改革开放', '部队', '离开', '依法', '前往', '主权', '外国', '市场', '当局', '宪法', '基地', '祖国', '有限公司']\n",
      "36 ['邀请', '中国', '正式', '招待会', '出席', '外交部发言人', '庆祝', '朝鲜', '日至', '周年', '解决', '劳动', '今天下午', '农民', '应邀出席', '民主', '以色列', '一行', '访问', '宣布', '大使', '巴勒斯坦', '社会', '农村', '联合国', '外交部副部长', '大使馆', '企业', '和平', '制度']\n",
      "37 ['北京', '政府', '出席', '应邀出席', '宴会', '庆祝', '独立', '招待会', '今晚', '解决', '宣布', '军队', '政治', '讲话', '技术', '负责人', '日本', '柬埔寨', '举行宴会', '服务', '部队', '统一', '周年', '公司', '议会', '人民大会堂', '政策', '晚上', '研究', '选举']\n",
      "38 ['全国', '朝鲜', '谈话', '正式', '总统', '国际', '亲切友好', '宣布', '国家', '大使', '政治', '地区', '统一', '组织', '在座', '平壤', '朝鲜民主主义人民共和国', '民主', '和平', '金日成', '市场', '近日', '教育', '世界', '稳定', '中国', '祖国', '结束', '社会', '代表团']\n",
      "39 ['全国', '代表团', '邀请', '同志', '中国', '外交部发言人', '出版', '率领', '部门', '日至', '联合国', '研究', '中央', '地区', '印度', '宣布', '解决', '企业', '中国政府', '出席', '谴责', '报纸', '政策', '农村', '团长', '会议', '新闻', '人员', '支持', '访问']\n",
      "40 ['越南', '公司', '学生', '图为', '出席', '苏联', '柬埔寨', '通讯社', '学校', '市场', '代表团', '国际', '正式', '以色列', '世界', '越南民主共和国', '巴勒斯坦', '领导人', '莫斯科', '中央委员会', '地区', '中央', '中国特色社会主义', '南方', '马克思主义', '理论', '亲王', '西哈努克', '价格', '总书记']\n",
      "41 ['贸易', '正式', '经济', '部长', '会议', '协定', '签订', '访问', '合作', '日至', '签署', '会谈', '邀请', '今天下午', '外交部长', '宣布', '协议', '图为', '国务院副总理', '斗争', '外交部发言人', '精神', '副总理', '服务', '签字', '交换', '两国', '全国', '朝鲜', '帝国主义']\n",
      "42 ['全国', '美国', '举办', '社会', '中国', '政府', '联合', '经济', '越南', '事业', '协会', '一行', '发展', '主办', '服务', '会谈', '结束', '介绍', '会见', '华盛顿', '离开', '城市', '官员', '回国', '庆祝', '部门', '总统', '招待会', '成就', '医院']\n",
      "43 ['会议', '美国', '北京', '总统', '全国', '友好', '发展', '谈话', '选举', '建设', '城市', '宴会', '正式', '人大常委会', '华盛顿', '出席', '两国人民', '农村', '服务', '法律', '友谊', '到达', '投资', '北京市', '上海', '审议', '草案', '建成', '生活', '飞机']\n",
      "44 ['朝鲜', '北京', '地区', '经济', '举办', '发展', '领导', '朝鲜民主主义人民共和国', '平壤', '工业', '金日成', '干部', '美国', '日至', '宣布', '城市', '南朝鲜', '开幕', '主办', '参观', '图为', '政策', '展览', '和平统一', '同志', '环境', '民族', '破坏', '统一', '朝鲜劳动党']\n",
      "45 ['中国', '上海', '谈话', '计划', '改革', '结束', '会议', '图为', '服务', '参观', '香港', '12', '总统', '人员', '广州', '理论', '联合', '亲切友好', '举办', '台湾', '回国', '供应', '代表团', '职工', '困难', '安排', '公司', '非洲', '工厂', '帝国主义']\n",
      "46 ['国际', '朝鲜', '友谊', '组织', '联合国', '增长', '英国', '两国人民', '出版', '一行', '介绍', '军队', '夫人', '城市', '理论', '运动', '当局', '热烈欢迎', '正式', '决议', '抗议', '研究', '计划', '经验', '法国', '提高', '宣布', '机构', '今天下午', '陪同']\n",
      "47 ['联合国', '农村', '农民', '结束', '日本', '朝鲜', '建设', '农业', '会见', '总统', '美国', '离开', '北京', '决议', '会议', '两国人民', '国际', '首都', '生活', '秘书长', '思想', '生产', '友谊', '产品', '两国', '一行', '演出', '组织', '越南', '柬埔寨']\n",
      "48 ['出版', '总统', '周年', '北京', '经济', '解决', '庆祝', '联合', '纪念', '出版社', '改革', '工人', '代表团', '结束', '朝鲜', '工程', '图为', '学生', '近日', '干部', '出席', '举办', '职工', '关系', '制度', '一书', '首都', '率领', '会谈', '该书']\n",
      "49 ['国家', '朝鲜', '会议', '出版', '朝鲜民主主义人民共和国', '日本', '平壤', '阿拉伯', '机场', '金日成', '图为', '服务', '亚洲', '迎接', '南朝鲜', '首相', '前往', '以色列', '友好访问', '埃及', '正式', '农村', '委员长', '报纸', '出版社', '巴勒斯坦', '统一', '关系', '总理', '宣传']\n"
     ]
    },
    {
     "data": {
      "text/html": [
       "<div>\n",
       "<style scoped>\n",
       "    .dataframe tbody tr th:only-of-type {\n",
       "        vertical-align: middle;\n",
       "    }\n",
       "\n",
       "    .dataframe tbody tr th {\n",
       "        vertical-align: top;\n",
       "    }\n",
       "\n",
       "    .dataframe thead th {\n",
       "        text-align: right;\n",
       "    }\n",
       "</style>\n",
       "<table border=\"1\" class=\"dataframe\">\n",
       "  <thead>\n",
       "    <tr style=\"text-align: right;\">\n",
       "      <th></th>\n",
       "      <th>0</th>\n",
       "      <th>1</th>\n",
       "      <th>2</th>\n",
       "      <th>3</th>\n",
       "      <th>4</th>\n",
       "      <th>5</th>\n",
       "      <th>6</th>\n",
       "      <th>7</th>\n",
       "      <th>8</th>\n",
       "      <th>9</th>\n",
       "      <th>...</th>\n",
       "      <th>40</th>\n",
       "      <th>41</th>\n",
       "      <th>42</th>\n",
       "      <th>43</th>\n",
       "      <th>44</th>\n",
       "      <th>45</th>\n",
       "      <th>46</th>\n",
       "      <th>47</th>\n",
       "      <th>48</th>\n",
       "      <th>49</th>\n",
       "    </tr>\n",
       "  </thead>\n",
       "  <tbody>\n",
       "    <tr>\n",
       "      <th>0</th>\n",
       "      <td>中国</td>\n",
       "      <td>生产</td>\n",
       "      <td>斗争</td>\n",
       "      <td>革命</td>\n",
       "      <td>发展</td>\n",
       "      <td>比赛</td>\n",
       "      <td>会议</td>\n",
       "      <td>美帝国主义</td>\n",
       "      <td>传真照片</td>\n",
       "      <td>传真照片</td>\n",
       "      <td>...</td>\n",
       "      <td>越南</td>\n",
       "      <td>贸易</td>\n",
       "      <td>全国</td>\n",
       "      <td>会议</td>\n",
       "      <td>朝鲜</td>\n",
       "      <td>中国</td>\n",
       "      <td>国际</td>\n",
       "      <td>联合国</td>\n",
       "      <td>出版</td>\n",
       "      <td>国家</td>\n",
       "    </tr>\n",
       "    <tr>\n",
       "      <th>1</th>\n",
       "      <td>发展</td>\n",
       "      <td>提高</td>\n",
       "      <td>反对</td>\n",
       "      <td>同志</td>\n",
       "      <td>关系</td>\n",
       "      <td>中国</td>\n",
       "      <td>社会</td>\n",
       "      <td>企业</td>\n",
       "      <td>两国人民</td>\n",
       "      <td>经济</td>\n",
       "      <td>...</td>\n",
       "      <td>公司</td>\n",
       "      <td>正式</td>\n",
       "      <td>美国</td>\n",
       "      <td>美国</td>\n",
       "      <td>北京</td>\n",
       "      <td>上海</td>\n",
       "      <td>朝鲜</td>\n",
       "      <td>农村</td>\n",
       "      <td>总统</td>\n",
       "      <td>朝鲜</td>\n",
       "    </tr>\n",
       "    <tr>\n",
       "      <th>2</th>\n",
       "      <td>国家</td>\n",
       "      <td>建设</td>\n",
       "      <td>革命</td>\n",
       "      <td>毛主席</td>\n",
       "      <td>合作</td>\n",
       "      <td>世界</td>\n",
       "      <td>制度</td>\n",
       "      <td>建设</td>\n",
       "      <td>10</td>\n",
       "      <td>国际</td>\n",
       "      <td>...</td>\n",
       "      <td>学生</td>\n",
       "      <td>经济</td>\n",
       "      <td>举办</td>\n",
       "      <td>北京</td>\n",
       "      <td>地区</td>\n",
       "      <td>谈话</td>\n",
       "      <td>友谊</td>\n",
       "      <td>农民</td>\n",
       "      <td>周年</td>\n",
       "      <td>会议</td>\n",
       "    </tr>\n",
       "    <tr>\n",
       "      <th>3</th>\n",
       "      <td>经济</td>\n",
       "      <td>群众</td>\n",
       "      <td>侵略</td>\n",
       "      <td>代表团</td>\n",
       "      <td>两国</td>\n",
       "      <td>北京</td>\n",
       "      <td>政府</td>\n",
       "      <td>帝国主义</td>\n",
       "      <td>附图片</td>\n",
       "      <td>企业</td>\n",
       "      <td>...</td>\n",
       "      <td>图为</td>\n",
       "      <td>部长</td>\n",
       "      <td>社会</td>\n",
       "      <td>总统</td>\n",
       "      <td>经济</td>\n",
       "      <td>计划</td>\n",
       "      <td>组织</td>\n",
       "      <td>结束</td>\n",
       "      <td>北京</td>\n",
       "      <td>出版</td>\n",
       "    </tr>\n",
       "    <tr>\n",
       "      <th>4</th>\n",
       "      <td>北京</td>\n",
       "      <td>干部</td>\n",
       "      <td>胜利</td>\n",
       "      <td>学习</td>\n",
       "      <td>经济</td>\n",
       "      <td>选手</td>\n",
       "      <td>代表团</td>\n",
       "      <td>民族</td>\n",
       "      <td>友谊</td>\n",
       "      <td>乘飞机</td>\n",
       "      <td>...</td>\n",
       "      <td>出席</td>\n",
       "      <td>会议</td>\n",
       "      <td>中国</td>\n",
       "      <td>全国</td>\n",
       "      <td>举办</td>\n",
       "      <td>改革</td>\n",
       "      <td>联合国</td>\n",
       "      <td>日本</td>\n",
       "      <td>经济</td>\n",
       "      <td>朝鲜民主主义人民共和国</td>\n",
       "    </tr>\n",
       "    <tr>\n",
       "      <th>5</th>\n",
       "      <td>建设</td>\n",
       "      <td>企业</td>\n",
       "      <td>美帝国主义</td>\n",
       "      <td>思想</td>\n",
       "      <td>政治</td>\n",
       "      <td>举办</td>\n",
       "      <td>中央</td>\n",
       "      <td>侵略</td>\n",
       "      <td>农民</td>\n",
       "      <td>无产阶级</td>\n",
       "      <td>...</td>\n",
       "      <td>苏联</td>\n",
       "      <td>协定</td>\n",
       "      <td>政府</td>\n",
       "      <td>友好</td>\n",
       "      <td>发展</td>\n",
       "      <td>结束</td>\n",
       "      <td>增长</td>\n",
       "      <td>朝鲜</td>\n",
       "      <td>解决</td>\n",
       "      <td>日本</td>\n",
       "    </tr>\n",
       "    <tr>\n",
       "      <th>6</th>\n",
       "      <td>国际</td>\n",
       "      <td>领导</td>\n",
       "      <td>帝国主义</td>\n",
       "      <td>无产阶级</td>\n",
       "      <td>领域</td>\n",
       "      <td>冠军</td>\n",
       "      <td>乘飞机</td>\n",
       "      <td>友谊</td>\n",
       "      <td>两国</td>\n",
       "      <td>美国</td>\n",
       "      <td>...</td>\n",
       "      <td>柬埔寨</td>\n",
       "      <td>签订</td>\n",
       "      <td>联合</td>\n",
       "      <td>发展</td>\n",
       "      <td>领导</td>\n",
       "      <td>会议</td>\n",
       "      <td>英国</td>\n",
       "      <td>建设</td>\n",
       "      <td>庆祝</td>\n",
       "      <td>平壤</td>\n",
       "    </tr>\n",
       "    <tr>\n",
       "      <th>7</th>\n",
       "      <td>合作</td>\n",
       "      <td>部门</td>\n",
       "      <td>美国</td>\n",
       "      <td>群众</td>\n",
       "      <td>两国关系</td>\n",
       "      <td>国际</td>\n",
       "      <td>法律</td>\n",
       "      <td>越南</td>\n",
       "      <td>总理</td>\n",
       "      <td>革命</td>\n",
       "      <td>...</td>\n",
       "      <td>通讯社</td>\n",
       "      <td>访问</td>\n",
       "      <td>经济</td>\n",
       "      <td>谈话</td>\n",
       "      <td>朝鲜民主主义人民共和国</td>\n",
       "      <td>图为</td>\n",
       "      <td>两国人民</td>\n",
       "      <td>农业</td>\n",
       "      <td>联合</td>\n",
       "      <td>阿拉伯</td>\n",
       "    </tr>\n",
       "    <tr>\n",
       "      <th>8</th>\n",
       "      <td>政府</td>\n",
       "      <td>管理</td>\n",
       "      <td>战争</td>\n",
       "      <td>领导</td>\n",
       "      <td>友好合作</td>\n",
       "      <td>女子</td>\n",
       "      <td>监督</td>\n",
       "      <td>斗争</td>\n",
       "      <td>地区</td>\n",
       "      <td>北京</td>\n",
       "      <td>...</td>\n",
       "      <td>学校</td>\n",
       "      <td>合作</td>\n",
       "      <td>越南</td>\n",
       "      <td>选举</td>\n",
       "      <td>平壤</td>\n",
       "      <td>服务</td>\n",
       "      <td>出版</td>\n",
       "      <td>会见</td>\n",
       "      <td>纪念</td>\n",
       "      <td>机场</td>\n",
       "    </tr>\n",
       "    <tr>\n",
       "      <th>9</th>\n",
       "      <td>关系</td>\n",
       "      <td>农村</td>\n",
       "      <td>毛主席</td>\n",
       "      <td>率领</td>\n",
       "      <td>稳定</td>\n",
       "      <td>运动员</td>\n",
       "      <td>北京</td>\n",
       "      <td>全世界</td>\n",
       "      <td>群众</td>\n",
       "      <td>产品</td>\n",
       "      <td>...</td>\n",
       "      <td>市场</td>\n",
       "      <td>日至</td>\n",
       "      <td>事业</td>\n",
       "      <td>建设</td>\n",
       "      <td>工业</td>\n",
       "      <td>参观</td>\n",
       "      <td>一行</td>\n",
       "      <td>总统</td>\n",
       "      <td>出版社</td>\n",
       "      <td>金日成</td>\n",
       "    </tr>\n",
       "    <tr>\n",
       "      <th>10</th>\n",
       "      <td>会议</td>\n",
       "      <td>全国</td>\n",
       "      <td>团结</td>\n",
       "      <td>中国</td>\n",
       "      <td>社会</td>\n",
       "      <td>锦标赛</td>\n",
       "      <td>部门</td>\n",
       "      <td>发展</td>\n",
       "      <td>友好合作</td>\n",
       "      <td>市场</td>\n",
       "      <td>...</td>\n",
       "      <td>代表团</td>\n",
       "      <td>签署</td>\n",
       "      <td>协会</td>\n",
       "      <td>城市</td>\n",
       "      <td>金日成</td>\n",
       "      <td>香港</td>\n",
       "      <td>介绍</td>\n",
       "      <td>美国</td>\n",
       "      <td>改革</td>\n",
       "      <td>图为</td>\n",
       "    </tr>\n",
       "    <tr>\n",
       "      <th>11</th>\n",
       "      <td>美国</td>\n",
       "      <td>思想</td>\n",
       "      <td>谴责</td>\n",
       "      <td>团长</td>\n",
       "      <td>维护</td>\n",
       "      <td>主办</td>\n",
       "      <td>前往</td>\n",
       "      <td>胜利</td>\n",
       "      <td>图为</td>\n",
       "      <td>公司</td>\n",
       "      <td>...</td>\n",
       "      <td>国际</td>\n",
       "      <td>会谈</td>\n",
       "      <td>一行</td>\n",
       "      <td>宴会</td>\n",
       "      <td>干部</td>\n",
       "      <td>12</td>\n",
       "      <td>军队</td>\n",
       "      <td>离开</td>\n",
       "      <td>工人</td>\n",
       "      <td>服务</td>\n",
       "    </tr>\n",
       "    <tr>\n",
       "      <th>12</th>\n",
       "      <td>全国</td>\n",
       "      <td>学习</td>\n",
       "      <td>无产阶级</td>\n",
       "      <td>友好</td>\n",
       "      <td>努力</td>\n",
       "      <td>决赛</td>\n",
       "      <td>机场</td>\n",
       "      <td>两国人民</td>\n",
       "      <td>12</td>\n",
       "      <td>毛主席</td>\n",
       "      <td>...</td>\n",
       "      <td>正式</td>\n",
       "      <td>邀请</td>\n",
       "      <td>发展</td>\n",
       "      <td>正式</td>\n",
       "      <td>美国</td>\n",
       "      <td>总统</td>\n",
       "      <td>夫人</td>\n",
       "      <td>北京</td>\n",
       "      <td>代表团</td>\n",
       "      <td>亚洲</td>\n",
       "    </tr>\n",
       "    <tr>\n",
       "      <th>13</th>\n",
       "      <td>访问</td>\n",
       "      <td>组织</td>\n",
       "      <td>和平</td>\n",
       "      <td>干部</td>\n",
       "      <td>建设</td>\n",
       "      <td>男子</td>\n",
       "      <td>教育</td>\n",
       "      <td>独立</td>\n",
       "      <td>20</td>\n",
       "      <td>修正主义</td>\n",
       "      <td>...</td>\n",
       "      <td>以色列</td>\n",
       "      <td>今天下午</td>\n",
       "      <td>主办</td>\n",
       "      <td>人大常委会</td>\n",
       "      <td>日至</td>\n",
       "      <td>人员</td>\n",
       "      <td>城市</td>\n",
       "      <td>决议</td>\n",
       "      <td>结束</td>\n",
       "      <td>迎接</td>\n",
       "    </tr>\n",
       "    <tr>\n",
       "      <th>14</th>\n",
       "      <td>代表团</td>\n",
       "      <td>农民</td>\n",
       "      <td>阴谋</td>\n",
       "      <td>会见</td>\n",
       "      <td>中方</td>\n",
       "      <td>中国队</td>\n",
       "      <td>离开</td>\n",
       "      <td>市场</td>\n",
       "      <td>总统</td>\n",
       "      <td>研究</td>\n",
       "      <td>...</td>\n",
       "      <td>世界</td>\n",
       "      <td>外交部长</td>\n",
       "      <td>服务</td>\n",
       "      <td>华盛顿</td>\n",
       "      <td>宣布</td>\n",
       "      <td>广州</td>\n",
       "      <td>理论</td>\n",
       "      <td>会议</td>\n",
       "      <td>朝鲜</td>\n",
       "      <td>南朝鲜</td>\n",
       "    </tr>\n",
       "    <tr>\n",
       "      <th>15</th>\n",
       "      <td>组织</td>\n",
       "      <td>教育</td>\n",
       "      <td>全世界</td>\n",
       "      <td>毛泽东思想</td>\n",
       "      <td>交流</td>\n",
       "      <td>文化</td>\n",
       "      <td>领导</td>\n",
       "      <td>团结</td>\n",
       "      <td>两国关系</td>\n",
       "      <td>毛泽东思想</td>\n",
       "      <td>...</td>\n",
       "      <td>越南民主共和国</td>\n",
       "      <td>宣布</td>\n",
       "      <td>会谈</td>\n",
       "      <td>出席</td>\n",
       "      <td>城市</td>\n",
       "      <td>理论</td>\n",
       "      <td>运动</td>\n",
       "      <td>两国人民</td>\n",
       "      <td>工程</td>\n",
       "      <td>首相</td>\n",
       "    </tr>\n",
       "    <tr>\n",
       "      <th>16</th>\n",
       "      <td>支持</td>\n",
       "      <td>服务</td>\n",
       "      <td>民族</td>\n",
       "      <td>北京</td>\n",
       "      <td>两国人民</td>\n",
       "      <td>全国</td>\n",
       "      <td>改革</td>\n",
       "      <td>世界和平</td>\n",
       "      <td>农村</td>\n",
       "      <td>世界</td>\n",
       "      <td>...</td>\n",
       "      <td>巴勒斯坦</td>\n",
       "      <td>协议</td>\n",
       "      <td>结束</td>\n",
       "      <td>两国人民</td>\n",
       "      <td>南朝鲜</td>\n",
       "      <td>联合</td>\n",
       "      <td>当局</td>\n",
       "      <td>国际</td>\n",
       "      <td>图为</td>\n",
       "      <td>前往</td>\n",
       "    </tr>\n",
       "    <tr>\n",
       "      <th>17</th>\n",
       "      <td>世界</td>\n",
       "      <td>农业</td>\n",
       "      <td>战斗</td>\n",
       "      <td>乘飞机</td>\n",
       "      <td>会见</td>\n",
       "      <td>奥运会</td>\n",
       "      <td>国务院</td>\n",
       "      <td>祝贺</td>\n",
       "      <td>30</td>\n",
       "      <td>资产阶级</td>\n",
       "      <td>...</td>\n",
       "      <td>领导人</td>\n",
       "      <td>图为</td>\n",
       "      <td>介绍</td>\n",
       "      <td>农村</td>\n",
       "      <td>开幕</td>\n",
       "      <td>亲切友好</td>\n",
       "      <td>热烈欢迎</td>\n",
       "      <td>首都</td>\n",
       "      <td>学生</td>\n",
       "      <td>以色列</td>\n",
       "    </tr>\n",
       "    <tr>\n",
       "      <th>18</th>\n",
       "      <td>社会</td>\n",
       "      <td>技术</td>\n",
       "      <td>苏联</td>\n",
       "      <td>访问</td>\n",
       "      <td>共同努力</td>\n",
       "      <td>历史</td>\n",
       "      <td>完善</td>\n",
       "      <td>反对</td>\n",
       "      <td>亲切</td>\n",
       "      <td>贸易</td>\n",
       "      <td>...</td>\n",
       "      <td>莫斯科</td>\n",
       "      <td>国务院副总理</td>\n",
       "      <td>会见</td>\n",
       "      <td>服务</td>\n",
       "      <td>主办</td>\n",
       "      <td>举办</td>\n",
       "      <td>正式</td>\n",
       "      <td>生活</td>\n",
       "      <td>近日</td>\n",
       "      <td>友好访问</td>\n",
       "    </tr>\n",
       "    <tr>\n",
       "      <th>19</th>\n",
       "      <td>领导</td>\n",
       "      <td>改革</td>\n",
       "      <td>越南</td>\n",
       "      <td>大使</td>\n",
       "      <td>深化</td>\n",
       "      <td>10</td>\n",
       "      <td>负责人</td>\n",
       "      <td>事业</td>\n",
       "      <td>部队</td>\n",
       "      <td>代表团</td>\n",
       "      <td>...</td>\n",
       "      <td>中央委员会</td>\n",
       "      <td>斗争</td>\n",
       "      <td>华盛顿</td>\n",
       "      <td>法律</td>\n",
       "      <td>参观</td>\n",
       "      <td>台湾</td>\n",
       "      <td>决议</td>\n",
       "      <td>秘书长</td>\n",
       "      <td>干部</td>\n",
       "      <td>埃及</td>\n",
       "    </tr>\n",
       "  </tbody>\n",
       "</table>\n",
       "<p>20 rows × 50 columns</p>\n",
       "</div>"
      ],
      "text/plain": [
       "     0   1      2      3     4    5    6      7     8      9   ...       40  \\\n",
       "0    中国  生产     斗争     革命    发展   比赛   会议  美帝国主义  传真照片   传真照片  ...       越南   \n",
       "1    发展  提高     反对     同志    关系   中国   社会     企业  两国人民     经济  ...       公司   \n",
       "2    国家  建设     革命    毛主席    合作   世界   制度     建设    10     国际  ...       学生   \n",
       "3    经济  群众     侵略    代表团    两国   北京   政府   帝国主义   附图片     企业  ...       图为   \n",
       "4    北京  干部     胜利     学习    经济   选手  代表团     民族    友谊    乘飞机  ...       出席   \n",
       "5    建设  企业  美帝国主义     思想    政治   举办   中央     侵略    农民   无产阶级  ...       苏联   \n",
       "6    国际  领导   帝国主义   无产阶级    领域   冠军  乘飞机     友谊    两国     美国  ...      柬埔寨   \n",
       "7    合作  部门     美国     群众  两国关系   国际   法律     越南    总理     革命  ...      通讯社   \n",
       "8    政府  管理     战争     领导  友好合作   女子   监督     斗争    地区     北京  ...       学校   \n",
       "9    关系  农村    毛主席     率领    稳定  运动员   北京    全世界    群众     产品  ...       市场   \n",
       "10   会议  全国     团结     中国    社会  锦标赛   部门     发展  友好合作     市场  ...      代表团   \n",
       "11   美国  思想     谴责     团长    维护   主办   前往     胜利    图为     公司  ...       国际   \n",
       "12   全国  学习   无产阶级     友好    努力   决赛   机场   两国人民    12    毛主席  ...       正式   \n",
       "13   访问  组织     和平     干部    建设   男子   教育     独立    20   修正主义  ...      以色列   \n",
       "14  代表团  农民     阴谋     会见    中方  中国队   离开     市场    总统     研究  ...       世界   \n",
       "15   组织  教育    全世界  毛泽东思想    交流   文化   领导     团结  两国关系  毛泽东思想  ...  越南民主共和国   \n",
       "16   支持  服务     民族     北京  两国人民   全国   改革   世界和平    农村     世界  ...     巴勒斯坦   \n",
       "17   世界  农业     战斗    乘飞机    会见  奥运会  国务院     祝贺    30   资产阶级  ...      领导人   \n",
       "18   社会  技术     苏联     访问  共同努力   历史   完善     反对    亲切     贸易  ...      莫斯科   \n",
       "19   领导  改革     越南     大使    深化   10  负责人     事业    部队    代表团  ...    中央委员会   \n",
       "\n",
       "        41   42     43           44    45    46    47   48           49  \n",
       "0       贸易   全国     会议           朝鲜    中国    国际   联合国   出版           国家  \n",
       "1       正式   美国     美国           北京    上海    朝鲜    农村   总统           朝鲜  \n",
       "2       经济   举办     北京           地区    谈话    友谊    农民   周年           会议  \n",
       "3       部长   社会     总统           经济    计划    组织    结束   北京           出版  \n",
       "4       会议   中国     全国           举办    改革   联合国    日本   经济  朝鲜民主主义人民共和国  \n",
       "5       协定   政府     友好           发展    结束    增长    朝鲜   解决           日本  \n",
       "6       签订   联合     发展           领导    会议    英国    建设   庆祝           平壤  \n",
       "7       访问   经济     谈话  朝鲜民主主义人民共和国    图为  两国人民    农业   联合          阿拉伯  \n",
       "8       合作   越南     选举           平壤    服务    出版    会见   纪念           机场  \n",
       "9       日至   事业     建设           工业    参观    一行    总统  出版社          金日成  \n",
       "10      签署   协会     城市          金日成    香港    介绍    美国   改革           图为  \n",
       "11      会谈   一行     宴会           干部    12    军队    离开   工人           服务  \n",
       "12      邀请   发展     正式           美国    总统    夫人    北京  代表团           亚洲  \n",
       "13    今天下午   主办  人大常委会           日至    人员    城市    决议   结束           迎接  \n",
       "14    外交部长   服务    华盛顿           宣布    广州    理论    会议   朝鲜          南朝鲜  \n",
       "15      宣布   会谈     出席           城市    理论    运动  两国人民   工程           首相  \n",
       "16      协议   结束   两国人民          南朝鲜    联合    当局    国际   图为           前往  \n",
       "17      图为   介绍     农村           开幕  亲切友好  热烈欢迎    首都   学生          以色列  \n",
       "18  国务院副总理   会见     服务           主办    举办    正式    生活   近日         友好访问  \n",
       "19      斗争  华盛顿     法律           参观    台湾    决议   秘书长   干部           埃及  \n",
       "\n",
       "[20 rows x 50 columns]"
      ]
     },
     "execution_count": 9,
     "metadata": {},
     "output_type": "execute_result"
    }
   ],
   "source": [
    "num_i=50\n",
    "token='tfidf'\n",
    "(df_concept, transformer, lsa, term_list)=concept(path, df, token, num_i)\n",
    "df_concept.iloc[:20]"
   ]
  },
  {
   "cell_type": "code",
   "execution_count": 10,
   "id": "9901e6bb-d43a-40b9-babb-91855aee8bed",
   "metadata": {},
   "outputs": [
    {
     "name": "stdout",
     "output_type": "stream",
     "text": [
      "0 done 10000 done 20000 done 30000 done 40000 done 50000 done 60000 done 70000 done 80000 done 90000 done 100000 done 110000 done 120000 done 130000 done 140000 done 150000 done 160000 done 170000 done 180000 done 190000 done 200000 done 210000 done 220000 done 230000 done 240000 done 250000 done 260000 done 270000 done 280000 done 290000 done 300000 done 310000 done 320000 done 330000 done 340000 done 350000 done 360000 done 370000 done 380000 done 390000 done 400000 done 410000 done 420000 done 430000 done 440000 done 450000 done 460000 done 470000 done 480000 done 490000 done 500000 done 510000 done 520000 done 530000 done 540000 done 550000 done 560000 done 570000 done 580000 done 590000 done 600000 done 610000 done 620000 done 630000 done 640000 done 650000 done 660000 done 670000 done 680000 done 690000 done 700000 done 710000 done 720000 done 730000 done 740000 done 750000 done 760000 done 770000 done 780000 done 790000 done 800000 done 810000 done 820000 done 830000 done 840000 done 850000 done 860000 done 870000 done 880000 done 890000 done 900000 done 910000 done 920000 done 930000 done 940000 done 950000 done 960000 done 970000 done 980000 done 990000 done 1000000 done 1010000 done 1020000 done 1030000 done 1040000 done 1050000 done 1060000 done 1070000 done 1080000 done 1090000 done 1100000 done 1110000 done 1120000 done 1130000 done 1140000 done 1150000 done 1160000 done 1170000 done 1180000 done 1190000 done 1200000 done 1210000 done 1220000 done 1230000 done 1240000 done 1250000 done 1260000 done 1270000 done 1280000 done 1290000 done 1300000 done 1310000 done 1320000 done 1330000 done 1340000 done 1350000 done 1360000 done 1370000 done 1380000 done 1390000 done 1400000 done 1410000 done 1420000 done 1430000 done 1440000 done 1450000 done 1460000 done 1470000 done 1480000 done 1490000 done 1500000 done 1510000 done 1520000 done 1530000 done 1540000 done 1550000 done 1560000 done 1570000 done 1580000 done 1590000 done 1600000 done 1610000 done 1620000 done 1630000 done 1640000 done 1650000 done 1660000 done 1670000 done 1680000 done 1690000 done 1700000 done 1710000 done 1720000 done 1730000 done 1740000 done 1750000 done 1760000 done 1770000 done 1780000 done 1790000 done 1800000 done 1810000 done 1820000 done 1830000 done 1840000 done 1850000 done 1860000 done 1870000 done 1880000 done 1890000 done 1900000 done 1910000 done 1920000 done 1930000 done 1940000 done 1950000 done 1960000 done 0 done 10000 done 20000 done 30000 done 40000 done 50000 done 60000 done 70000 done 80000 done 90000 done 100000 done 110000 done 120000 done 130000 done 140000 done 150000 done 160000 done 170000 done 180000 done 190000 done 200000 done 210000 done 220000 done 230000 done 240000 done 250000 done 260000 done 270000 done 280000 done 290000 done 300000 done 310000 done 320000 done 330000 done 340000 done 350000 done 360000 done 370000 done 380000 done 390000 done 400000 done 410000 done 420000 done 430000 done 440000 done 450000 done 460000 done 470000 done 480000 done 490000 done 500000 done 510000 done 520000 done 530000 done 540000 done 550000 done 560000 done 570000 done 580000 done 590000 done 600000 done 610000 done 620000 done 630000 done 640000 done 650000 done 660000 done 670000 done 680000 done 690000 done 700000 done 710000 done 720000 done 730000 done 740000 done 750000 done 760000 done 770000 done 780000 done 790000 done 800000 done 810000 done 820000 done 830000 done 840000 done 850000 done 860000 done 870000 done 880000 done 890000 done 900000 done 910000 done 920000 done 930000 done 940000 done 950000 done 960000 done 970000 done 980000 done 990000 done 1000000 done 1010000 done 1020000 done 1030000 done 1040000 done 1050000 done 1060000 done 1070000 done 1080000 done 1090000 done 1100000 done 1110000 done 1120000 done 1130000 done 1140000 done 1150000 done 1160000 done 1170000 done 1180000 done 1190000 done 1200000 done 1210000 done 1220000 done 1230000 done 1240000 done 1250000 done 1260000 done 1270000 done 1280000 done 1290000 done 1300000 done 1310000 done 1320000 done 1330000 done 1340000 done 1350000 done 1360000 done 1370000 done 1380000 done 1390000 done 1400000 done 1410000 done 1420000 done 1430000 done 1440000 done 1450000 done 1460000 done 1470000 done 1480000 done 1490000 done 1500000 done 1510000 done 1520000 done 1530000 done 1540000 done 1550000 done 1560000 done 1570000 done 1580000 done 1590000 done 1600000 done 1610000 done 1620000 done 1630000 done 1640000 done 1650000 done 1660000 done 1670000 done 1680000 done 1690000 done 1700000 done 1710000 done 1720000 done 1730000 done 1740000 done 1750000 done 1760000 done 1770000 done 1780000 done 1790000 done 1800000 done 1810000 done 1820000 done 1830000 done 1840000 done 1850000 done 1860000 done 1870000 done 1880000 done 1890000 done 1900000 done 1910000 done 1920000 done 1930000 done 1940000 done 1950000 done 1960000 done "
     ]
    },
    {
     "data": {
      "text/plain": [
       "['伟大领袖',\n",
       " '战无不胜',\n",
       " '对帝',\n",
       " '伟大红旗',\n",
       " '红卫兵',\n",
       " '光辉思想',\n",
       " '红彤彤',\n",
       " '红代会',\n",
       " '无限热爱',\n",
       " '林副主席',\n",
       " '毛主席',\n",
       " '千秋万代',\n",
       " '铁打江山',\n",
       " '战斗历程',\n",
       " '文化大革命',\n",
       " '四十八年',\n",
       " '风雷动',\n",
       " '最红',\n",
       " '万万岁',\n",
       " '无限信仰',\n",
       " '永世',\n",
       " '一万遍',\n",
       " '永不变色',\n",
       " '光焰',\n",
       " '最最',\n",
       " '红太阳',\n",
       " '与帝',\n",
       " '宝书',\n",
       " '海枯石烂',\n",
       " '无限崇拜',\n",
       " '伟大号召',\n",
       " '语录',\n",
       " '万寿无疆',\n",
       " '东风浩荡',\n",
       " '大长',\n",
       " '指路明灯',\n",
       " '一千遍',\n",
       " '无际',\n",
       " '毛泽东思想',\n",
       " '喜讯传来',\n",
       " '千遍万遍',\n",
       " '反修',\n",
       " '十六条',\n",
       " '举得',\n",
       " '九大',\n",
       " '大风大浪',\n",
       " '革命派',\n",
       " '大灭',\n",
       " '无产阶级',\n",
       " '伟大的统帅']"
      ]
     },
     "execution_count": 10,
     "metadata": {},
     "output_type": "execute_result"
    }
   ],
   "source": [
    "k=50\n",
    "term='伟大领袖'\n",
    "kClosestTerms(k,term,transformer,lsa,term_list)"
   ]
  },
  {
   "cell_type": "markdown",
   "id": "9a4a0dfc-c610-4e9c-8105-bbc65db777e0",
   "metadata": {},
   "source": [
    "# word2vec"
   ]
  },
  {
   "cell_type": "markdown",
   "id": "b30b71cc-6f2a-4f3e-9e1d-f9056fd567f1",
   "metadata": {},
   "source": [
    "## model=people.load_word2vec(path, model)"
   ]
  },
  {
   "cell_type": "code",
   "execution_count": 18,
   "id": "1a7032b5-9566-4b67-abb2-abb7ad0af997",
   "metadata": {},
   "outputs": [],
   "source": [
    "def read_word2vec(path, model):\n",
    "    # 執行時記錄時間、位置與訊息。\n",
    "    import logging\n",
    "    #logging.basicConfig(format='%(asctime)s : %(levelname)s : %(message)s', level=logging.INFO)\n",
    "    import gensim\n",
    "    model = gensim.models.Word2Vec.load(fname)  # you can continue training with the loaded model!\n",
    "    return model"
   ]
  },
  {
   "cell_type": "code",
   "execution_count": 19,
   "id": "26e735ed-f0c4-4659-aa07-620b9f4f7344",
   "metadata": {},
   "outputs": [],
   "source": [
    "path=\"D:/my python/people/\" \n",
    "fname=path +\"\\working\\w2v_model.txt\"\n",
    "model=read_word2vec(path, fname)"
   ]
  },
  {
   "cell_type": "markdown",
   "id": "78ad61cf-7edb-4b26-a21f-cc2a40017400",
   "metadata": {},
   "source": [
    "## vec=people.wv(kw)"
   ]
  },
  {
   "cell_type": "code",
   "execution_count": 4,
   "id": "e58405b6-8dcf-41c5-9108-dc5a65a46b36",
   "metadata": {},
   "outputs": [],
   "source": [
    "def wv(kw):\n",
    "    vec=model.wv[kw] \n",
    "    return vec"
   ]
  },
  {
   "cell_type": "code",
   "execution_count": 5,
   "id": "12c6f250-b335-474a-b918-61c254c89098",
   "metadata": {},
   "outputs": [
    {
     "data": {
      "text/plain": [
       "array([-7.4103341e-02, -2.8792534e+00, -2.9030464e+00,  1.9297727e+00,\n",
       "       -4.1995859e+00,  1.3434430e+00,  5.3185129e+00,  1.8856300e+00,\n",
       "        9.9386084e-01,  3.9040930e+00, -1.8884244e+00, -1.1290009e+00,\n",
       "       -3.1349480e-01, -1.8501260e+00,  1.0676432e+00,  2.9322159e+00,\n",
       "       -6.3640994e-01, -5.1550965e+00, -4.3209486e+00,  9.5664543e-01,\n",
       "        2.1225898e+00,  5.4785538e+00,  3.2091327e+00, -4.4638085e+00,\n",
       "       -5.6119280e+00, -5.5335873e-01,  7.6833628e-03, -1.7482197e+00,\n",
       "       -3.3751745e+00,  4.2273159e+00,  1.0909537e+00,  4.0444779e+00,\n",
       "       -7.0587349e+00,  2.3918550e+00, -2.6788953e-01,  6.6266918e-01,\n",
       "       -2.3299170e+00,  5.6378150e+00,  5.7518399e-01, -8.3680096e+00,\n",
       "       -7.8566394e+00, -1.7519004e+00, -2.4536273e+00,  5.0473399e+00,\n",
       "        3.1660731e+00, -2.5422773e-01,  1.8931571e+00, -2.0494962e+00,\n",
       "       -3.2127509e+00,  1.7837901e+00, -8.7715740e+00,  7.8974056e-01,\n",
       "        1.7716237e+00,  5.6958981e+00, -3.4061915e-01,  2.0220882e-01,\n",
       "        1.9693420e+00,  2.4776280e+00,  4.0095282e+00,  3.0623038e+00,\n",
       "       -5.0447285e-01,  2.1913974e+00,  3.8871825e+00,  1.0912625e+00,\n",
       "        1.6280464e+00,  1.3257513e+00,  1.0840861e+00, -3.9459601e-01,\n",
       "       -6.2376847e+00, -3.5732731e-02, -3.1171268e-01,  2.0461862e+00,\n",
       "        1.6486928e-01,  4.2701373e+00, -7.1032250e-01, -7.6326758e-01,\n",
       "        2.6777875e+00, -3.6220644e+00, -3.1740170e+00, -3.9435041e+00,\n",
       "        4.0038142e+00,  3.5627325e+00, -2.9430747e+00,  1.5755339e-01,\n",
       "       -3.1852373e-01, -6.4918823e+00, -8.1901093e+00, -3.9040453e+00,\n",
       "        2.1414773e+00, -2.5609686e+00, -1.0249089e+00, -3.5423119e+00,\n",
       "       -1.0567003e+00, -2.2468886e+00,  4.8638673e+00, -1.8451241e+00,\n",
       "       -8.9549327e-01, -1.1587213e+00,  4.0110506e-02, -1.4118069e+00],\n",
       "      dtype=float32)"
      ]
     },
     "execution_count": 5,
     "metadata": {},
     "output_type": "execute_result"
    }
   ],
   "source": [
    "kw='自由'\n",
    "vec=wv(kw)\n",
    "vec"
   ]
  },
  {
   "cell_type": "markdown",
   "id": "b1bf6da3-9f19-4ad9-93cf-9be03f7bf9be",
   "metadata": {},
   "source": [
    "## people.similar_by_vector(vec, topn)"
   ]
  },
  {
   "cell_type": "code",
   "execution_count": 6,
   "id": "206f6096-c90e-4f75-8ed3-f81942287acb",
   "metadata": {},
   "outputs": [],
   "source": [
    "def similar_by_vector(vec, topn):\n",
    "    similar=model.wv.similar_by_vector(vec, topn) \n",
    "    return similar"
   ]
  },
  {
   "cell_type": "code",
   "execution_count": 7,
   "id": "4806d4e8-118b-4f67-a838-33202806b170",
   "metadata": {},
   "outputs": [
    {
     "data": {
      "text/plain": [
       "[('自由', 1.0),\n",
       " ('民主自由', 0.749008297920227),\n",
       " ('权利', 0.7337026596069336),\n",
       " ('自由民主', 0.7203790545463562),\n",
       " ('言论自由', 0.7055898308753967),\n",
       " ('尊重人权', 0.6780827641487122),\n",
       " ('自决', 0.6777547001838684),\n",
       " ('自由权', 0.6672273874282837),\n",
       " ('平等权利', 0.6616188883781433),\n",
       " ('自决权', 0.6532977223396301),\n",
       " ('平等', 0.6526392102241516),\n",
       " ('公民自由', 0.6461496949195862),\n",
       " ('尊严', 0.639614999294281),\n",
       " ('独立', 0.637828528881073),\n",
       " ('新闻自由', 0.625384509563446),\n",
       " ('合法', 0.6024500131607056),\n",
       " ('主权', 0.6019275784492493),\n",
       " ('民族自决权', 0.598908543586731),\n",
       " ('民族自决', 0.5933929681777954),\n",
       " ('结社', 0.592240571975708)]"
      ]
     },
     "execution_count": 7,
     "metadata": {},
     "output_type": "execute_result"
    }
   ],
   "source": [
    "similar_by_vector(vec, 20)"
   ]
  },
  {
   "cell_type": "markdown",
   "id": "667cd29a-ae02-4e57-a460-ecc82f0cae71",
   "metadata": {},
   "source": [
    "## people.similar_by_doc(token, topn)"
   ]
  },
  {
   "cell_type": "code",
   "execution_count": 8,
   "id": "ffc564f3-12c8-4b76-b6ba-0d9a77f2f126",
   "metadata": {},
   "outputs": [],
   "source": [
    "def similar_by_doc(token, topn):\n",
    "    vec=0\n",
    "    pass_count=0\n",
    "    # 向量相加，因為最少次數，以及bigram設定，有些字詞會消失\n",
    "    for w in token:\n",
    "        try:\n",
    "            token_wv=model.wv[w]\n",
    "            vec=model.wv[w]+vec\n",
    "        except: \n",
    "            # 有些字詞會消失 !!!!!\n",
    "            pass_count+=1\n",
    "            pass \n",
    "    print ('pass:', pass_count)\n",
    "    similar=model.wv.similar_by_vector(vec, topn=topn)\n",
    "    return similar"
   ]
  },
  {
   "cell_type": "code",
   "execution_count": 9,
   "id": "56d7ef97-a02e-4050-bed1-7dab440b34de",
   "metadata": {},
   "outputs": [
    {
     "name": "stdout",
     "output_type": "stream",
     "text": [
      "pass: 0\n"
     ]
    },
    {
     "data": {
      "text/plain": [
       "[('民主', 0.8880746960639954),\n",
       " ('自由', 0.8723101019859314),\n",
       " ('民主自由', 0.8000436425209045),\n",
       " ('自由民主', 0.7829821109771729),\n",
       " ('尊重人权', 0.7285253405570984),\n",
       " ('言论自由', 0.6834111213684082),\n",
       " ('权利', 0.6751291751861572),\n",
       " ('民主制度', 0.6740483641624451),\n",
       " ('民主权利', 0.6731681823730469),\n",
       " ('自决', 0.6720693707466125),\n",
       " ('平等', 0.6539479494094849),\n",
       " ('民主化', 0.645734429359436),\n",
       " ('新闻自由', 0.6349923610687256),\n",
       " ('代议制', 0.6308178305625916),\n",
       " ('公民自由', 0.6195918917655945),\n",
       " ('独立', 0.6179970502853394),\n",
       " ('公民权利', 0.6162161827087402),\n",
       " ('民族自决', 0.6143051385879517),\n",
       " ('平等权利', 0.61353999376297),\n",
       " ('民族自决权', 0.6122533082962036)]"
      ]
     },
     "execution_count": 9,
     "metadata": {},
     "output_type": "execute_result"
    }
   ],
   "source": [
    "token=['自由','民主']\n",
    "similar_by_doc(token, 20)"
   ]
  },
  {
   "cell_type": "markdown",
   "id": "c74b5af6-66c3-4587-af25-b1bb4b9e6005",
   "metadata": {},
   "source": [
    "## people.most_similar(kw)"
   ]
  },
  {
   "cell_type": "code",
   "execution_count": 10,
   "id": "061de5d5-f975-43c5-9b9c-0db029a6f727",
   "metadata": {},
   "outputs": [],
   "source": [
    "def most_similar(kw):\n",
    "    vec=model.wv.most_similar(kw)\n",
    "    return vec"
   ]
  },
  {
   "cell_type": "code",
   "execution_count": 11,
   "id": "8d388755-6d4d-4475-ab99-b6d89dda6db0",
   "metadata": {},
   "outputs": [
    {
     "data": {
      "text/plain": [
       "[('民主自由', 0.8016704320907593),\n",
       " ('自由民主', 0.7841441631317139),\n",
       " ('尊重人权', 0.7298718094825745),\n",
       " ('言论自由', 0.687035858631134),\n",
       " ('权利', 0.6799558997154236),\n",
       " ('自决', 0.6750860214233398),\n",
       " ('民主权利', 0.6720375418663025),\n",
       " ('民主制度', 0.6684405207633972),\n",
       " ('平等', 0.6566508412361145),\n",
       " ('民主化', 0.6390452980995178)]"
      ]
     },
     "execution_count": 11,
     "metadata": {},
     "output_type": "execute_result"
    }
   ],
   "source": [
    "kw=['自由','民主']\n",
    "most_similar(kw)"
   ]
  },
  {
   "cell_type": "markdown",
   "id": "b0dca5a9-fa86-4281-b9d1-47c913bb5395",
   "metadata": {},
   "source": [
    "## people.wv_similarity(kw1,kw2)"
   ]
  },
  {
   "cell_type": "code",
   "execution_count": 12,
   "id": "d1fe63c4-9b88-40ad-afbc-1806c4be6b47",
   "metadata": {
    "tags": []
   },
   "outputs": [],
   "source": [
    "def wv_similarity(kw1,kw2):\n",
    "    vec=model.wv.similarity(kw1,kw2)\n",
    "    return vec"
   ]
  },
  {
   "cell_type": "code",
   "execution_count": 13,
   "id": "3df4c951-8e54-4875-a98c-08e4734fc03a",
   "metadata": {},
   "outputs": [
    {
     "data": {
      "text/plain": [
       "0.29228103"
      ]
     },
     "execution_count": 13,
     "metadata": {},
     "output_type": "execute_result"
    }
   ],
   "source": [
    "kw1='毛泽东'\n",
    "kw2='蒋介石'\n",
    "wv_similarity(kw1,kw2)"
   ]
  },
  {
   "cell_type": "code",
   "execution_count": 14,
   "id": "5406ce46-70e5-422d-80d6-9ded75aa8835",
   "metadata": {},
   "outputs": [
    {
     "ename": "NameError",
     "evalue": "name 'spatial' is not defined",
     "output_type": "error",
     "traceback": [
      "\u001b[1;31m---------------------------------------------------------------------------\u001b[0m",
      "\u001b[1;31mNameError\u001b[0m                                 Traceback (most recent call last)",
      "\u001b[1;32m~\\AppData\\Local\\Temp/ipykernel_20696/1873018044.py\u001b[0m in \u001b[0;36m<module>\u001b[1;34m\u001b[0m\n\u001b[0;32m      1\u001b[0m \u001b[0mkw1\u001b[0m\u001b[1;33m=\u001b[0m\u001b[0mwv\u001b[0m\u001b[1;33m(\u001b[0m\u001b[1;34m'毛泽东'\u001b[0m\u001b[1;33m)\u001b[0m\u001b[1;33m\u001b[0m\u001b[1;33m\u001b[0m\u001b[0m\n\u001b[0;32m      2\u001b[0m \u001b[0mkw2\u001b[0m\u001b[1;33m=\u001b[0m\u001b[0mwv\u001b[0m\u001b[1;33m(\u001b[0m\u001b[1;34m'蒋介石'\u001b[0m\u001b[1;33m)\u001b[0m\u001b[1;33m\u001b[0m\u001b[1;33m\u001b[0m\u001b[0m\n\u001b[1;32m----> 3\u001b[1;33m \u001b[0mpeople\u001b[0m\u001b[1;33m.\u001b[0m\u001b[0msimilarity\u001b[0m\u001b[1;33m(\u001b[0m\u001b[0mkw1\u001b[0m\u001b[1;33m,\u001b[0m\u001b[0mkw2\u001b[0m\u001b[1;33m)\u001b[0m\u001b[1;33m\u001b[0m\u001b[1;33m\u001b[0m\u001b[0m\n\u001b[0m",
      "\u001b[1;32m~\\people.py\u001b[0m in \u001b[0;36msimilarity\u001b[1;34m(a, b)\u001b[0m\n\u001b[0;32m   1359\u001b[0m \u001b[1;32mdef\u001b[0m \u001b[0msimilarity\u001b[0m\u001b[1;33m(\u001b[0m\u001b[0ma\u001b[0m\u001b[1;33m,\u001b[0m\u001b[0mb\u001b[0m\u001b[1;33m)\u001b[0m\u001b[1;33m:\u001b[0m\u001b[1;33m\u001b[0m\u001b[1;33m\u001b[0m\u001b[0m\n\u001b[0;32m   1360\u001b[0m     \u001b[1;32mfrom\u001b[0m \u001b[0mscipy\u001b[0m\u001b[1;33m.\u001b[0m\u001b[0mspatial\u001b[0m \u001b[1;32mimport\u001b[0m \u001b[0mdistance\u001b[0m\u001b[1;33m\u001b[0m\u001b[1;33m\u001b[0m\u001b[0m\n\u001b[1;32m-> 1361\u001b[1;33m     \u001b[0mresult\u001b[0m \u001b[1;33m=\u001b[0m \u001b[1;36m1\u001b[0m \u001b[1;33m-\u001b[0m \u001b[0mspatial\u001b[0m\u001b[1;33m.\u001b[0m\u001b[0mdistance\u001b[0m\u001b[1;33m.\u001b[0m\u001b[0mcosine\u001b[0m\u001b[1;33m(\u001b[0m\u001b[0ma\u001b[0m\u001b[1;33m,\u001b[0m \u001b[0mb\u001b[0m\u001b[1;33m)\u001b[0m\u001b[1;33m\u001b[0m\u001b[1;33m\u001b[0m\u001b[0m\n\u001b[0m\u001b[0;32m   1362\u001b[0m     \u001b[1;32mreturn\u001b[0m \u001b[0mresult\u001b[0m\u001b[1;33m\u001b[0m\u001b[1;33m\u001b[0m\u001b[0m\n\u001b[0;32m   1363\u001b[0m \u001b[1;33m\u001b[0m\u001b[0m\n",
      "\u001b[1;31mNameError\u001b[0m: name 'spatial' is not defined"
     ]
    }
   ],
   "source": [
    "kw1=wv('毛泽东')\n",
    "kw2=wv('蒋介石')\n",
    "people.similarity(kw1,kw2)"
   ]
  },
  {
   "cell_type": "markdown",
   "id": "30ec3d22-c6da-48d5-860f-78e470644438",
   "metadata": {},
   "source": [
    "## people.n_similarity(kw1,kw2)\n",
    "* list 與 list 之間的相似性"
   ]
  },
  {
   "cell_type": "code",
   "execution_count": null,
   "id": "42da7946-fead-44dc-b949-eb8ba082930d",
   "metadata": {
    "tags": []
   },
   "outputs": [],
   "source": [
    "def n_similarity(kw1,kw2):\n",
    "    vec=model.wv.n_similarity(kw1,kw2)\n",
    "    return vec"
   ]
  },
  {
   "cell_type": "code",
   "execution_count": null,
   "id": "ce512e79-80d3-4cba-8f0c-cfe5b23bee61",
   "metadata": {
    "tags": []
   },
   "outputs": [],
   "source": [
    "# Compute cosine similarity between two sets of words.\n",
    "kw1=['自由','民主']\n",
    "kw2=['革命']\n",
    "model.wv.n_similarity(kw1, kw2)"
   ]
  },
  {
   "cell_type": "markdown",
   "id": "716bdb28-078f-493d-903a-a007db75f70a",
   "metadata": {},
   "source": [
    "# 類比"
   ]
  },
  {
   "cell_type": "code",
   "execution_count": 17,
   "id": "8e6c51d9-ac69-405b-8767-a841c861558f",
   "metadata": {},
   "outputs": [
    {
     "data": {
      "text/plain": [
       "[('汪精卫', 0.6259408593177795),\n",
       " ('鲁迅', 0.5921456217765808),\n",
       " ('大钊', 0.5863993763923645),\n",
       " ('秋白', 0.5834972262382507),\n",
       " ('瞿秋白', 0.5813263058662415),\n",
       " ('机会主义', 0.5753313899040222),\n",
       " ('阎锡山', 0.5736830234527588),\n",
       " ('孙中山', 0.5703698396682739),\n",
       " ('胡适', 0.5679365992546082),\n",
       " ('方志敏', 0.5656961798667908)]"
      ]
     },
     "execution_count": 17,
     "metadata": {},
     "output_type": "execute_result"
    }
   ],
   "source": [
    "model.wv.most_similar(positive=['毛泽东','蒋介石'], negative=['中央人民政府'], topn=10)"
   ]
  },
  {
   "cell_type": "markdown",
   "id": "511a7157-e349-4e80-a679-073e7a1adfbf",
   "metadata": {},
   "source": [
    "## 刪除model, 釋放記憶體"
   ]
  },
  {
   "cell_type": "code",
   "execution_count": 15,
   "id": "e6dbcc6f-3675-47f2-a7f0-dc35360b9d49",
   "metadata": {},
   "outputs": [
    {
     "ename": "SyntaxError",
     "evalue": "invalid syntax (Temp/ipykernel_20696/2247303887.py, line 1)",
     "output_type": "error",
     "traceback": [
      "\u001b[1;36m  File \u001b[1;32m\"C:\\Users\\User\\AppData\\Local\\Temp/ipykernel_20696/2247303887.py\"\u001b[1;36m, line \u001b[1;32m1\u001b[0m\n\u001b[1;33m    remove model\u001b[0m\n\u001b[1;37m           ^\u001b[0m\n\u001b[1;31mSyntaxError\u001b[0m\u001b[1;31m:\u001b[0m invalid syntax\n"
     ]
    }
   ],
   "source": [
    "remove model"
   ]
  }
 ],
 "metadata": {
  "kernelspec": {
   "display_name": "Python 3 (ipykernel)",
   "language": "python",
   "name": "python3"
  },
  "language_info": {
   "codemirror_mode": {
    "name": "ipython",
    "version": 3
   },
   "file_extension": ".py",
   "mimetype": "text/x-python",
   "name": "python",
   "nbconvert_exporter": "python",
   "pygments_lexer": "ipython3",
   "version": "3.8.12"
  }
 },
 "nbformat": 4,
 "nbformat_minor": 5
}
