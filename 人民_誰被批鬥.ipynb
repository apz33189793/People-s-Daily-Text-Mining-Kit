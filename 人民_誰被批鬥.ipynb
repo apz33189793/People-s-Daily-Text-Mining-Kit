{
 "cells": [
  {
   "cell_type": "code",
   "execution_count": null,
   "id": "c11aff51",
   "metadata": {},
   "outputs": [],
   "source": [
    "同一句中出現的人名，與反革命罪名，視為被鬥爭的對象\n",
    "統計誰被鬥爭，頻率，罪名\n",
    "刪除錯誤的聯結\n",
    "看鬥爭罪名的演進"
   ]
  }
 ],
 "metadata": {
  "kernelspec": {
   "display_name": "Python 3 (ipykernel)",
   "language": "python",
   "name": "python3"
  },
  "language_info": {
   "codemirror_mode": {
    "name": "ipython",
    "version": 3
   },
   "file_extension": ".py",
   "mimetype": "text/x-python",
   "name": "python",
   "nbconvert_exporter": "python",
   "pygments_lexer": "ipython3",
   "version": "3.8.12"
  },
  "toc": {
   "base_numbering": 1,
   "nav_menu": {},
   "number_sections": true,
   "sideBar": true,
   "skip_h1_title": false,
   "title_cell": "Table of Contents",
   "title_sidebar": "Contents",
   "toc_cell": false,
   "toc_position": {},
   "toc_section_display": true,
   "toc_window_display": false
  }
 },
 "nbformat": 4,
 "nbformat_minor": 5
}
